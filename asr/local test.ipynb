{
 "cells": [
  {
   "cell_type": "code",
   "execution_count": 1,
   "metadata": {},
   "outputs": [],
   "source": [
    "import wandb\n",
    "\n",
    "import speechbrain\n",
    "import torch\n",
    "import torch.utils.data\n",
    "# from torch.utils.data import DataLoader\n",
    "\n",
    "import datasets\n",
    "from datasets import load_dataset\n",
    "import time\n",
    "from rich.progress import Progress\n",
    "from torchmetrics import WordErrorRate\n",
    "import wandb\n",
    "from speechbrain.pretrained import EncoderDecoderASR\n",
    "import numpy as np\n",
    "from pprint import pprint\n",
    "import matplotlib.pyplot as plt\n",
    "import numpy as np\n",
    "from matplotlib import colors\n",
    "from matplotlib.ticker import PercentFormatter\n",
    "import json\n",
    "datasets_names = [\"ami\",\"common_voice\",\"earnings22\",\"gigaspeech\",\"librispeech\",\"spgispeech\",\"tedlium\",\"voxpopuli\"]\n",
    "dataset_splits = [\"clean\",\"other\"]\n"
   ]
  },
  {
   "cell_type": "code",
   "execution_count": 2,
   "metadata": {},
   "outputs": [
    {
     "name": "stdout",
     "output_type": "stream",
     "text": [
      "Downloading and preparing dataset diagnostic-dataset/ami to /Users/micheleyin/.cache/huggingface/datasets/diagnostic-dataset/ami/1.0.0/1e12ea3493085c0ab38871cee98397cfae30b510e030b1b3722f2460a10d2e98...\n"
     ]
    },
    {
     "data": {
      "application/vnd.jupyter.widget-view+json": {
       "model_id": "96a2a10c9f7e46a28103472a8a8f3b97",
       "version_major": 2,
       "version_minor": 0
      },
      "text/plain": [
       "Downloading data files:   0%|          | 0/2 [00:00<?, ?it/s]"
      ]
     },
     "metadata": {},
     "output_type": "display_data"
    },
    {
     "data": {
      "application/vnd.jupyter.widget-view+json": {
       "model_id": "49ed4cef3e3541a5ab0e3ffc51512c5a",
       "version_major": 2,
       "version_minor": 0
      },
      "text/plain": [
       "Extracting data files:   0%|          | 0/2 [00:00<?, ?it/s]"
      ]
     },
     "metadata": {},
     "output_type": "display_data"
    },
    {
     "data": {
      "application/vnd.jupyter.widget-view+json": {
       "model_id": "a7ce11471d4e4728b5b69178f6d0c3af",
       "version_major": 2,
       "version_minor": 0
      },
      "text/plain": [
       "Downloading data files:   0%|          | 0/2 [00:00<?, ?it/s]"
      ]
     },
     "metadata": {},
     "output_type": "display_data"
    },
    {
     "data": {
      "application/vnd.jupyter.widget-view+json": {
       "model_id": "07ce8282ecf949dd8e123104bde16cbb",
       "version_major": 2,
       "version_minor": 0
      },
      "text/plain": [
       "Generating clean split: 0 examples [00:00, ? examples/s]"
      ]
     },
     "metadata": {},
     "output_type": "display_data"
    },
    {
     "data": {
      "application/vnd.jupyter.widget-view+json": {
       "model_id": "46d4b43799644dedb240dde3f1233601",
       "version_major": 2,
       "version_minor": 0
      },
      "text/plain": [
       "Generating other split: 0 examples [00:00, ? examples/s]"
      ]
     },
     "metadata": {},
     "output_type": "display_data"
    },
    {
     "name": "stdout",
     "output_type": "stream",
     "text": [
      "Dataset diagnostic-dataset downloaded and prepared to /Users/micheleyin/.cache/huggingface/datasets/diagnostic-dataset/ami/1.0.0/1e12ea3493085c0ab38871cee98397cfae30b510e030b1b3722f2460a10d2e98. Subsequent calls will reuse this data.\n"
     ]
    },
    {
     "name": "stderr",
     "output_type": "stream",
     "text": [
      "Found cached dataset diagnostic-dataset (/Users/micheleyin/.cache/huggingface/datasets/diagnostic-dataset/ami/1.0.0/1e12ea3493085c0ab38871cee98397cfae30b510e030b1b3722f2460a10d2e98)\n"
     ]
    },
    {
     "name": "stdout",
     "output_type": "stream",
     "text": [
      "Downloading and preparing dataset diagnostic-dataset/common_voice to /Users/micheleyin/.cache/huggingface/datasets/diagnostic-dataset/common_voice/1.0.0/1e12ea3493085c0ab38871cee98397cfae30b510e030b1b3722f2460a10d2e98...\n"
     ]
    },
    {
     "data": {
      "application/vnd.jupyter.widget-view+json": {
       "model_id": "729c8b1e55af49e7a713a694f0c3a28d",
       "version_major": 2,
       "version_minor": 0
      },
      "text/plain": [
       "Downloading data files:   0%|          | 0/2 [00:00<?, ?it/s]"
      ]
     },
     "metadata": {},
     "output_type": "display_data"
    },
    {
     "data": {
      "application/vnd.jupyter.widget-view+json": {
       "model_id": "7ac2909da64b494c863685bac38076df",
       "version_major": 2,
       "version_minor": 0
      },
      "text/plain": [
       "Extracting data files:   0%|          | 0/2 [00:00<?, ?it/s]"
      ]
     },
     "metadata": {},
     "output_type": "display_data"
    },
    {
     "data": {
      "application/vnd.jupyter.widget-view+json": {
       "model_id": "e2a39a43c28b4511a8ab5a26b26ab86c",
       "version_major": 2,
       "version_minor": 0
      },
      "text/plain": [
       "Downloading data files:   0%|          | 0/2 [00:00<?, ?it/s]"
      ]
     },
     "metadata": {},
     "output_type": "display_data"
    },
    {
     "data": {
      "application/vnd.jupyter.widget-view+json": {
       "model_id": "48a1dfdea7f547e6abb626d87c612353",
       "version_major": 2,
       "version_minor": 0
      },
      "text/plain": [
       "Generating clean split: 0 examples [00:00, ? examples/s]"
      ]
     },
     "metadata": {},
     "output_type": "display_data"
    },
    {
     "data": {
      "application/vnd.jupyter.widget-view+json": {
       "model_id": "c94285b6c50a420bba092fc4de739ebe",
       "version_major": 2,
       "version_minor": 0
      },
      "text/plain": [
       "Generating other split: 0 examples [00:00, ? examples/s]"
      ]
     },
     "metadata": {},
     "output_type": "display_data"
    },
    {
     "name": "stderr",
     "output_type": "stream",
     "text": [
      "Found cached dataset diagnostic-dataset (/Users/micheleyin/.cache/huggingface/datasets/diagnostic-dataset/common_voice/1.0.0/1e12ea3493085c0ab38871cee98397cfae30b510e030b1b3722f2460a10d2e98)\n"
     ]
    },
    {
     "name": "stdout",
     "output_type": "stream",
     "text": [
      "Dataset diagnostic-dataset downloaded and prepared to /Users/micheleyin/.cache/huggingface/datasets/diagnostic-dataset/common_voice/1.0.0/1e12ea3493085c0ab38871cee98397cfae30b510e030b1b3722f2460a10d2e98. Subsequent calls will reuse this data.\n",
      "Downloading and preparing dataset diagnostic-dataset/earnings22 to /Users/micheleyin/.cache/huggingface/datasets/diagnostic-dataset/earnings22/1.0.0/1e12ea3493085c0ab38871cee98397cfae30b510e030b1b3722f2460a10d2e98...\n"
     ]
    },
    {
     "data": {
      "application/vnd.jupyter.widget-view+json": {
       "model_id": "bac89a8a51ea4484b6359ef7ecb5c50d",
       "version_major": 2,
       "version_minor": 0
      },
      "text/plain": [
       "Downloading data files:   0%|          | 0/2 [00:00<?, ?it/s]"
      ]
     },
     "metadata": {},
     "output_type": "display_data"
    },
    {
     "data": {
      "application/vnd.jupyter.widget-view+json": {
       "model_id": "67cc447cc15a4c7e9dc7ec028a00b7fc",
       "version_major": 2,
       "version_minor": 0
      },
      "text/plain": [
       "Extracting data files:   0%|          | 0/2 [00:00<?, ?it/s]"
      ]
     },
     "metadata": {},
     "output_type": "display_data"
    },
    {
     "data": {
      "application/vnd.jupyter.widget-view+json": {
       "model_id": "a3fa96d5dfcc4684a14b858e12e35247",
       "version_major": 2,
       "version_minor": 0
      },
      "text/plain": [
       "Downloading data files:   0%|          | 0/2 [00:00<?, ?it/s]"
      ]
     },
     "metadata": {},
     "output_type": "display_data"
    },
    {
     "data": {
      "application/vnd.jupyter.widget-view+json": {
       "model_id": "9c0e9bcb0eaf4224905190f20350d7f4",
       "version_major": 2,
       "version_minor": 0
      },
      "text/plain": [
       "Generating clean split: 0 examples [00:00, ? examples/s]"
      ]
     },
     "metadata": {},
     "output_type": "display_data"
    },
    {
     "data": {
      "application/vnd.jupyter.widget-view+json": {
       "model_id": "6fb45c4f308a4bc48b25fb7cf45ec508",
       "version_major": 2,
       "version_minor": 0
      },
      "text/plain": [
       "Generating other split: 0 examples [00:00, ? examples/s]"
      ]
     },
     "metadata": {},
     "output_type": "display_data"
    },
    {
     "name": "stderr",
     "output_type": "stream",
     "text": [
      "Found cached dataset diagnostic-dataset (/Users/micheleyin/.cache/huggingface/datasets/diagnostic-dataset/earnings22/1.0.0/1e12ea3493085c0ab38871cee98397cfae30b510e030b1b3722f2460a10d2e98)\n"
     ]
    },
    {
     "name": "stdout",
     "output_type": "stream",
     "text": [
      "Dataset diagnostic-dataset downloaded and prepared to /Users/micheleyin/.cache/huggingface/datasets/diagnostic-dataset/earnings22/1.0.0/1e12ea3493085c0ab38871cee98397cfae30b510e030b1b3722f2460a10d2e98. Subsequent calls will reuse this data.\n",
      "Downloading and preparing dataset diagnostic-dataset/gigaspeech to /Users/micheleyin/.cache/huggingface/datasets/diagnostic-dataset/gigaspeech/1.0.0/1e12ea3493085c0ab38871cee98397cfae30b510e030b1b3722f2460a10d2e98...\n"
     ]
    },
    {
     "data": {
      "application/vnd.jupyter.widget-view+json": {
       "model_id": "dd0a81d9aff94055adc3c759a95a6063",
       "version_major": 2,
       "version_minor": 0
      },
      "text/plain": [
       "Downloading data files:   0%|          | 0/2 [00:00<?, ?it/s]"
      ]
     },
     "metadata": {},
     "output_type": "display_data"
    },
    {
     "data": {
      "application/vnd.jupyter.widget-view+json": {
       "model_id": "2b7da1d53d384de79f7aed821d2cf92e",
       "version_major": 2,
       "version_minor": 0
      },
      "text/plain": [
       "Extracting data files:   0%|          | 0/2 [00:00<?, ?it/s]"
      ]
     },
     "metadata": {},
     "output_type": "display_data"
    },
    {
     "data": {
      "application/vnd.jupyter.widget-view+json": {
       "model_id": "8d05b1c8f1024069b7d153dac33930f7",
       "version_major": 2,
       "version_minor": 0
      },
      "text/plain": [
       "Downloading data files:   0%|          | 0/2 [00:00<?, ?it/s]"
      ]
     },
     "metadata": {},
     "output_type": "display_data"
    },
    {
     "data": {
      "application/vnd.jupyter.widget-view+json": {
       "model_id": "76a56543bab14be4b248404342797304",
       "version_major": 2,
       "version_minor": 0
      },
      "text/plain": [
       "Generating clean split: 0 examples [00:00, ? examples/s]"
      ]
     },
     "metadata": {},
     "output_type": "display_data"
    },
    {
     "data": {
      "application/vnd.jupyter.widget-view+json": {
       "model_id": "9e1e3bc24a9e469686ee370aa7a79432",
       "version_major": 2,
       "version_minor": 0
      },
      "text/plain": [
       "Generating other split: 0 examples [00:00, ? examples/s]"
      ]
     },
     "metadata": {},
     "output_type": "display_data"
    },
    {
     "name": "stderr",
     "output_type": "stream",
     "text": [
      "Found cached dataset diagnostic-dataset (/Users/micheleyin/.cache/huggingface/datasets/diagnostic-dataset/gigaspeech/1.0.0/1e12ea3493085c0ab38871cee98397cfae30b510e030b1b3722f2460a10d2e98)\n"
     ]
    },
    {
     "name": "stdout",
     "output_type": "stream",
     "text": [
      "Dataset diagnostic-dataset downloaded and prepared to /Users/micheleyin/.cache/huggingface/datasets/diagnostic-dataset/gigaspeech/1.0.0/1e12ea3493085c0ab38871cee98397cfae30b510e030b1b3722f2460a10d2e98. Subsequent calls will reuse this data.\n",
      "Downloading and preparing dataset diagnostic-dataset/librispeech to /Users/micheleyin/.cache/huggingface/datasets/diagnostic-dataset/librispeech/1.0.0/1e12ea3493085c0ab38871cee98397cfae30b510e030b1b3722f2460a10d2e98...\n"
     ]
    },
    {
     "data": {
      "application/vnd.jupyter.widget-view+json": {
       "model_id": "458ae8f5b96c489b90be072720fdbf48",
       "version_major": 2,
       "version_minor": 0
      },
      "text/plain": [
       "Downloading data files:   0%|          | 0/2 [00:00<?, ?it/s]"
      ]
     },
     "metadata": {},
     "output_type": "display_data"
    },
    {
     "data": {
      "application/vnd.jupyter.widget-view+json": {
       "model_id": "a10a10b8ff1f461cb8cc46312fe9051f",
       "version_major": 2,
       "version_minor": 0
      },
      "text/plain": [
       "Extracting data files:   0%|          | 0/2 [00:00<?, ?it/s]"
      ]
     },
     "metadata": {},
     "output_type": "display_data"
    },
    {
     "data": {
      "application/vnd.jupyter.widget-view+json": {
       "model_id": "d52175393efb4b0caf83837ebdc17e46",
       "version_major": 2,
       "version_minor": 0
      },
      "text/plain": [
       "Downloading data files:   0%|          | 0/2 [00:00<?, ?it/s]"
      ]
     },
     "metadata": {},
     "output_type": "display_data"
    },
    {
     "data": {
      "application/vnd.jupyter.widget-view+json": {
       "model_id": "724d1a4d101a4e64b03597cdf2d4396e",
       "version_major": 2,
       "version_minor": 0
      },
      "text/plain": [
       "Generating clean split: 0 examples [00:00, ? examples/s]"
      ]
     },
     "metadata": {},
     "output_type": "display_data"
    },
    {
     "data": {
      "application/vnd.jupyter.widget-view+json": {
       "model_id": "fb952ded17ff4cca9319c14738e908f9",
       "version_major": 2,
       "version_minor": 0
      },
      "text/plain": [
       "Generating other split: 0 examples [00:00, ? examples/s]"
      ]
     },
     "metadata": {},
     "output_type": "display_data"
    },
    {
     "name": "stderr",
     "output_type": "stream",
     "text": [
      "Found cached dataset diagnostic-dataset (/Users/micheleyin/.cache/huggingface/datasets/diagnostic-dataset/librispeech/1.0.0/1e12ea3493085c0ab38871cee98397cfae30b510e030b1b3722f2460a10d2e98)\n"
     ]
    },
    {
     "name": "stdout",
     "output_type": "stream",
     "text": [
      "Dataset diagnostic-dataset downloaded and prepared to /Users/micheleyin/.cache/huggingface/datasets/diagnostic-dataset/librispeech/1.0.0/1e12ea3493085c0ab38871cee98397cfae30b510e030b1b3722f2460a10d2e98. Subsequent calls will reuse this data.\n",
      "Downloading and preparing dataset diagnostic-dataset/spgispeech to /Users/micheleyin/.cache/huggingface/datasets/diagnostic-dataset/spgispeech/1.0.0/1e12ea3493085c0ab38871cee98397cfae30b510e030b1b3722f2460a10d2e98...\n"
     ]
    },
    {
     "data": {
      "application/vnd.jupyter.widget-view+json": {
       "model_id": "139792928024469b9143b4f14205deba",
       "version_major": 2,
       "version_minor": 0
      },
      "text/plain": [
       "Downloading data files:   0%|          | 0/2 [00:00<?, ?it/s]"
      ]
     },
     "metadata": {},
     "output_type": "display_data"
    },
    {
     "data": {
      "application/vnd.jupyter.widget-view+json": {
       "model_id": "62a434e89043464aba84182efe577b30",
       "version_major": 2,
       "version_minor": 0
      },
      "text/plain": [
       "Extracting data files:   0%|          | 0/2 [00:00<?, ?it/s]"
      ]
     },
     "metadata": {},
     "output_type": "display_data"
    },
    {
     "data": {
      "application/vnd.jupyter.widget-view+json": {
       "model_id": "7e9e1ede8ae4420a92e0e8e428108794",
       "version_major": 2,
       "version_minor": 0
      },
      "text/plain": [
       "Downloading data files:   0%|          | 0/2 [00:00<?, ?it/s]"
      ]
     },
     "metadata": {},
     "output_type": "display_data"
    },
    {
     "data": {
      "application/vnd.jupyter.widget-view+json": {
       "model_id": "d50c4f2b19b04939865e12118c0d8c24",
       "version_major": 2,
       "version_minor": 0
      },
      "text/plain": [
       "Generating clean split: 0 examples [00:00, ? examples/s]"
      ]
     },
     "metadata": {},
     "output_type": "display_data"
    },
    {
     "data": {
      "application/vnd.jupyter.widget-view+json": {
       "model_id": "2b10ca1e31244d9692f1ee661eeef0c0",
       "version_major": 2,
       "version_minor": 0
      },
      "text/plain": [
       "Generating other split: 0 examples [00:00, ? examples/s]"
      ]
     },
     "metadata": {},
     "output_type": "display_data"
    },
    {
     "name": "stderr",
     "output_type": "stream",
     "text": [
      "Found cached dataset diagnostic-dataset (/Users/micheleyin/.cache/huggingface/datasets/diagnostic-dataset/spgispeech/1.0.0/1e12ea3493085c0ab38871cee98397cfae30b510e030b1b3722f2460a10d2e98)\n"
     ]
    },
    {
     "name": "stdout",
     "output_type": "stream",
     "text": [
      "Dataset diagnostic-dataset downloaded and prepared to /Users/micheleyin/.cache/huggingface/datasets/diagnostic-dataset/spgispeech/1.0.0/1e12ea3493085c0ab38871cee98397cfae30b510e030b1b3722f2460a10d2e98. Subsequent calls will reuse this data.\n",
      "Downloading and preparing dataset diagnostic-dataset/tedlium to /Users/micheleyin/.cache/huggingface/datasets/diagnostic-dataset/tedlium/1.0.0/1e12ea3493085c0ab38871cee98397cfae30b510e030b1b3722f2460a10d2e98...\n"
     ]
    },
    {
     "data": {
      "application/vnd.jupyter.widget-view+json": {
       "model_id": "b6b1a8d21c4142d287842f7e1071dcac",
       "version_major": 2,
       "version_minor": 0
      },
      "text/plain": [
       "Downloading data files:   0%|          | 0/2 [00:00<?, ?it/s]"
      ]
     },
     "metadata": {},
     "output_type": "display_data"
    },
    {
     "data": {
      "application/vnd.jupyter.widget-view+json": {
       "model_id": "b12a6ca4a8dc4ff78f4e94a23d669895",
       "version_major": 2,
       "version_minor": 0
      },
      "text/plain": [
       "Extracting data files:   0%|          | 0/2 [00:00<?, ?it/s]"
      ]
     },
     "metadata": {},
     "output_type": "display_data"
    },
    {
     "data": {
      "application/vnd.jupyter.widget-view+json": {
       "model_id": "3a6626b808bc4c3eb170926efd4f97cc",
       "version_major": 2,
       "version_minor": 0
      },
      "text/plain": [
       "Downloading data files:   0%|          | 0/2 [00:00<?, ?it/s]"
      ]
     },
     "metadata": {},
     "output_type": "display_data"
    },
    {
     "data": {
      "application/vnd.jupyter.widget-view+json": {
       "model_id": "a5427480d7404e2ea61e2ecf23a575bc",
       "version_major": 2,
       "version_minor": 0
      },
      "text/plain": [
       "Generating clean split: 0 examples [00:00, ? examples/s]"
      ]
     },
     "metadata": {},
     "output_type": "display_data"
    },
    {
     "data": {
      "application/vnd.jupyter.widget-view+json": {
       "model_id": "fb9e80fbff364766a601ee781956b265",
       "version_major": 2,
       "version_minor": 0
      },
      "text/plain": [
       "Generating other split: 0 examples [00:00, ? examples/s]"
      ]
     },
     "metadata": {},
     "output_type": "display_data"
    },
    {
     "name": "stderr",
     "output_type": "stream",
     "text": [
      "Found cached dataset diagnostic-dataset (/Users/micheleyin/.cache/huggingface/datasets/diagnostic-dataset/tedlium/1.0.0/1e12ea3493085c0ab38871cee98397cfae30b510e030b1b3722f2460a10d2e98)\n"
     ]
    },
    {
     "name": "stdout",
     "output_type": "stream",
     "text": [
      "Dataset diagnostic-dataset downloaded and prepared to /Users/micheleyin/.cache/huggingface/datasets/diagnostic-dataset/tedlium/1.0.0/1e12ea3493085c0ab38871cee98397cfae30b510e030b1b3722f2460a10d2e98. Subsequent calls will reuse this data.\n",
      "Downloading and preparing dataset diagnostic-dataset/voxpopuli to /Users/micheleyin/.cache/huggingface/datasets/diagnostic-dataset/voxpopuli/1.0.0/1e12ea3493085c0ab38871cee98397cfae30b510e030b1b3722f2460a10d2e98...\n"
     ]
    },
    {
     "data": {
      "application/vnd.jupyter.widget-view+json": {
       "model_id": "0bc7cdba1cbd48b28b10f6164ac21418",
       "version_major": 2,
       "version_minor": 0
      },
      "text/plain": [
       "Downloading data files:   0%|          | 0/2 [00:00<?, ?it/s]"
      ]
     },
     "metadata": {},
     "output_type": "display_data"
    },
    {
     "data": {
      "application/vnd.jupyter.widget-view+json": {
       "model_id": "eb2372b4a9c347a38f3a7009f7de251f",
       "version_major": 2,
       "version_minor": 0
      },
      "text/plain": [
       "Extracting data files:   0%|          | 0/2 [00:00<?, ?it/s]"
      ]
     },
     "metadata": {},
     "output_type": "display_data"
    },
    {
     "data": {
      "application/vnd.jupyter.widget-view+json": {
       "model_id": "777cdef4093d40f39c17cac1825383e2",
       "version_major": 2,
       "version_minor": 0
      },
      "text/plain": [
       "Downloading data files:   0%|          | 0/2 [00:00<?, ?it/s]"
      ]
     },
     "metadata": {},
     "output_type": "display_data"
    },
    {
     "data": {
      "application/vnd.jupyter.widget-view+json": {
       "model_id": "18b686bb84ee485f8f3da4e7665c390e",
       "version_major": 2,
       "version_minor": 0
      },
      "text/plain": [
       "Generating clean split: 0 examples [00:00, ? examples/s]"
      ]
     },
     "metadata": {},
     "output_type": "display_data"
    },
    {
     "data": {
      "application/vnd.jupyter.widget-view+json": {
       "model_id": "581af5ae3f7146eb9473cb64d8f72b7e",
       "version_major": 2,
       "version_minor": 0
      },
      "text/plain": [
       "Generating other split: 0 examples [00:00, ? examples/s]"
      ]
     },
     "metadata": {},
     "output_type": "display_data"
    },
    {
     "name": "stderr",
     "output_type": "stream",
     "text": [
      "Found cached dataset diagnostic-dataset (/Users/micheleyin/.cache/huggingface/datasets/diagnostic-dataset/voxpopuli/1.0.0/1e12ea3493085c0ab38871cee98397cfae30b510e030b1b3722f2460a10d2e98)\n"
     ]
    },
    {
     "name": "stdout",
     "output_type": "stream",
     "text": [
      "Dataset diagnostic-dataset downloaded and prepared to /Users/micheleyin/.cache/huggingface/datasets/diagnostic-dataset/voxpopuli/1.0.0/1e12ea3493085c0ab38871cee98397cfae30b510e030b1b3722f2460a10d2e98. Subsequent calls will reuse this data.\n"
     ]
    },
    {
     "name": "stderr",
     "output_type": "stream",
     "text": [
      "Found cached dataset diagnostic-dataset (/Users/micheleyin/.cache/huggingface/datasets/diagnostic-dataset/ami/1.0.0/1e12ea3493085c0ab38871cee98397cfae30b510e030b1b3722f2460a10d2e98)\n",
      "Found cached dataset diagnostic-dataset (/Users/micheleyin/.cache/huggingface/datasets/diagnostic-dataset/common_voice/1.0.0/1e12ea3493085c0ab38871cee98397cfae30b510e030b1b3722f2460a10d2e98)\n",
      "Found cached dataset diagnostic-dataset (/Users/micheleyin/.cache/huggingface/datasets/diagnostic-dataset/earnings22/1.0.0/1e12ea3493085c0ab38871cee98397cfae30b510e030b1b3722f2460a10d2e98)\n",
      "Found cached dataset diagnostic-dataset (/Users/micheleyin/.cache/huggingface/datasets/diagnostic-dataset/gigaspeech/1.0.0/1e12ea3493085c0ab38871cee98397cfae30b510e030b1b3722f2460a10d2e98)\n",
      "Found cached dataset diagnostic-dataset (/Users/micheleyin/.cache/huggingface/datasets/diagnostic-dataset/librispeech/1.0.0/1e12ea3493085c0ab38871cee98397cfae30b510e030b1b3722f2460a10d2e98)\n",
      "Found cached dataset diagnostic-dataset (/Users/micheleyin/.cache/huggingface/datasets/diagnostic-dataset/spgispeech/1.0.0/1e12ea3493085c0ab38871cee98397cfae30b510e030b1b3722f2460a10d2e98)\n",
      "Found cached dataset diagnostic-dataset (/Users/micheleyin/.cache/huggingface/datasets/diagnostic-dataset/tedlium/1.0.0/1e12ea3493085c0ab38871cee98397cfae30b510e030b1b3722f2460a10d2e98)\n",
      "Found cached dataset diagnostic-dataset (/Users/micheleyin/.cache/huggingface/datasets/diagnostic-dataset/voxpopuli/1.0.0/1e12ea3493085c0ab38871cee98397cfae30b510e030b1b3722f2460a10d2e98)\n",
      "Found cached dataset diagnostic-dataset (/Users/micheleyin/.cache/huggingface/datasets/diagnostic-dataset/ami/1.0.0/1e12ea3493085c0ab38871cee98397cfae30b510e030b1b3722f2460a10d2e98)\n",
      "Found cached dataset diagnostic-dataset (/Users/micheleyin/.cache/huggingface/datasets/diagnostic-dataset/common_voice/1.0.0/1e12ea3493085c0ab38871cee98397cfae30b510e030b1b3722f2460a10d2e98)\n",
      "Found cached dataset diagnostic-dataset (/Users/micheleyin/.cache/huggingface/datasets/diagnostic-dataset/earnings22/1.0.0/1e12ea3493085c0ab38871cee98397cfae30b510e030b1b3722f2460a10d2e98)\n",
      "Found cached dataset diagnostic-dataset (/Users/micheleyin/.cache/huggingface/datasets/diagnostic-dataset/gigaspeech/1.0.0/1e12ea3493085c0ab38871cee98397cfae30b510e030b1b3722f2460a10d2e98)\n",
      "Found cached dataset diagnostic-dataset (/Users/micheleyin/.cache/huggingface/datasets/diagnostic-dataset/librispeech/1.0.0/1e12ea3493085c0ab38871cee98397cfae30b510e030b1b3722f2460a10d2e98)\n",
      "Found cached dataset diagnostic-dataset (/Users/micheleyin/.cache/huggingface/datasets/diagnostic-dataset/spgispeech/1.0.0/1e12ea3493085c0ab38871cee98397cfae30b510e030b1b3722f2460a10d2e98)\n",
      "Found cached dataset diagnostic-dataset (/Users/micheleyin/.cache/huggingface/datasets/diagnostic-dataset/tedlium/1.0.0/1e12ea3493085c0ab38871cee98397cfae30b510e030b1b3722f2460a10d2e98)\n",
      "Found cached dataset diagnostic-dataset (/Users/micheleyin/.cache/huggingface/datasets/diagnostic-dataset/voxpopuli/1.0.0/1e12ea3493085c0ab38871cee98397cfae30b510e030b1b3722f2460a10d2e98)\n"
     ]
    }
   ],
   "source": [
    "max_len = 0\n",
    "storage = {}\n",
    "for name in datasets_names:\n",
    "    storage[name] = {}\n",
    "    for split in dataset_splits:\n",
    "        data_max = 0\n",
    "        storage[name][split] = {}\n",
    "        lens = []\n",
    "        dataset = load_dataset(\"esb/diagnostic-dataset\", name , split=split)\n",
    "        for sample in dataset:\n",
    "            lens.append(len(sample['norm_transcript'].split(' ')))\n",
    "        max_len = max(max_len,max(lens))\n",
    "        data_max = max(data_max,max(lens))\n",
    "        storage[name][split]['token_lens'] = np.asarray(lens)\n",
    "        storage[name][split]['total_tokens'] = sum(lens)\n",
    "        storage[name][split]['total_samples'] = len(lens)\n",
    "        storage[name][split]['max_len'] = data_max\n",
    "        storage[name][split]['average'] = np.average(storage[name][split]['token_lens'])\n",
    "        storage[name][split]['std'] = np.std(storage[name][split]['token_lens'])\n",
    "        storage[name][split]['median'] = np.median(storage[name][split]['token_lens'])\n",
    "        storage[name][split]['min'] = np.min(storage[name][split]['token_lens'])\n",
    "        storage[name][split]['max'] = np.max(storage[name][split]['token_lens'])\n",
    "# compute average of all datasets\n",
    "storage['average'] = {}\n",
    "for split in dataset_splits:\n",
    "    max_sample_len = 0\n",
    "    storage['average'][split] = {}\n",
    "    lens = []\n",
    "    for name in datasets_names:\n",
    "        dataset = load_dataset(\"esb/diagnostic-dataset\", name , split=split)\n",
    "        for sample in dataset:\n",
    "            lens.append(len(sample['norm_transcript'].split(' ')))\n",
    "    max_len = max(max_len,max(lens))\n",
    "    max_sample_len = max(max_sample_len,max(lens))\n",
    "    storage[\"average\"][split]['token_lens'] = np.asarray(lens)\n",
    "    storage[\"average\"][split]['total_tokens'] = sum(lens)\n",
    "    storage[\"average\"][split]['total_samples'] = len(lens)\n",
    "    storage[\"average\"][split]['max_len'] = max_sample_len\n",
    "    storage['average'][split]['average'] = np.average(storage['average'][split]['token_lens'])\n",
    "    storage['average'][split]['std'] = np.std(storage['average'][split]['token_lens'])\n",
    "    storage['average'][split]['median'] = np.median(storage['average'][split]['token_lens'])\n",
    "    storage['average'][split]['min'] = np.min(storage['average'][split]['token_lens'])\n",
    "    storage['average'][split]['max'] = np.max(storage['average'][split]['token_lens'])\n"
   ]
  },
  {
   "cell_type": "code",
   "execution_count": 8,
   "metadata": {},
   "outputs": [
    {
     "data": {
      "text/plain": [
       "{'audio': {'path': '/Users/micheleyin/.cache/huggingface/datasets/downloads/extracted/3d3cbc84ba0b9413c9fe0f34efcb2940101ba3eb263537b37d6ab5a45358b80e/other/20090204-0900-PLENARY-15-en_20090204-18:30:04_3.wav',\n",
       "  'array': array([-0.11941528, -0.13668823, -0.13772583, ...,  0.00234985,\n",
       "          0.0017395 ,  0.00234985], dtype=float32),\n",
       "  'sampling_rate': 16000},\n",
       " 'ortho_transcript': \"Uh, couldn't we not do more, and could you perhaps be more specific, what has been done so far? What are your aims?\",\n",
       " 'norm_transcript': \"uh couldn't we not do more and could you perhaps be more specific what has been done so far what are your aims\",\n",
       " 'id': '20090204-0900-PLENARY-15-en_20090204-18:30:04_3',\n",
       " 'dataset': 'voxpopuli'}"
      ]
     },
     "execution_count": 8,
     "metadata": {},
     "output_type": "execute_result"
    }
   ],
   "source": [
    "dataset[0]"
   ]
  },
  {
   "cell_type": "code",
   "execution_count": 48,
   "metadata": {},
   "outputs": [
    {
     "name": "stderr",
     "output_type": "stream",
     "text": [
      "Found cached dataset diagnostic-dataset (/Users/micheleyin/.cache/huggingface/datasets/diagnostic-dataset/ami/1.0.0/1e12ea3493085c0ab38871cee98397cfae30b510e030b1b3722f2460a10d2e98)\n",
      "Found cached dataset diagnostic-dataset (/Users/micheleyin/.cache/huggingface/datasets/diagnostic-dataset/ami/1.0.0/1e12ea3493085c0ab38871cee98397cfae30b510e030b1b3722f2460a10d2e98)\n",
      "Found cached dataset diagnostic-dataset (/Users/micheleyin/.cache/huggingface/datasets/diagnostic-dataset/common_voice/1.0.0/1e12ea3493085c0ab38871cee98397cfae30b510e030b1b3722f2460a10d2e98)\n",
      "Found cached dataset diagnostic-dataset (/Users/micheleyin/.cache/huggingface/datasets/diagnostic-dataset/common_voice/1.0.0/1e12ea3493085c0ab38871cee98397cfae30b510e030b1b3722f2460a10d2e98)\n",
      "Found cached dataset diagnostic-dataset (/Users/micheleyin/.cache/huggingface/datasets/diagnostic-dataset/earnings22/1.0.0/1e12ea3493085c0ab38871cee98397cfae30b510e030b1b3722f2460a10d2e98)\n",
      "Found cached dataset diagnostic-dataset (/Users/micheleyin/.cache/huggingface/datasets/diagnostic-dataset/earnings22/1.0.0/1e12ea3493085c0ab38871cee98397cfae30b510e030b1b3722f2460a10d2e98)\n",
      "Found cached dataset diagnostic-dataset (/Users/micheleyin/.cache/huggingface/datasets/diagnostic-dataset/gigaspeech/1.0.0/1e12ea3493085c0ab38871cee98397cfae30b510e030b1b3722f2460a10d2e98)\n",
      "Found cached dataset diagnostic-dataset (/Users/micheleyin/.cache/huggingface/datasets/diagnostic-dataset/gigaspeech/1.0.0/1e12ea3493085c0ab38871cee98397cfae30b510e030b1b3722f2460a10d2e98)\n",
      "Found cached dataset diagnostic-dataset (/Users/micheleyin/.cache/huggingface/datasets/diagnostic-dataset/librispeech/1.0.0/1e12ea3493085c0ab38871cee98397cfae30b510e030b1b3722f2460a10d2e98)\n",
      "Found cached dataset diagnostic-dataset (/Users/micheleyin/.cache/huggingface/datasets/diagnostic-dataset/librispeech/1.0.0/1e12ea3493085c0ab38871cee98397cfae30b510e030b1b3722f2460a10d2e98)\n",
      "Found cached dataset diagnostic-dataset (/Users/micheleyin/.cache/huggingface/datasets/diagnostic-dataset/spgispeech/1.0.0/1e12ea3493085c0ab38871cee98397cfae30b510e030b1b3722f2460a10d2e98)\n",
      "Found cached dataset diagnostic-dataset (/Users/micheleyin/.cache/huggingface/datasets/diagnostic-dataset/spgispeech/1.0.0/1e12ea3493085c0ab38871cee98397cfae30b510e030b1b3722f2460a10d2e98)\n",
      "Found cached dataset diagnostic-dataset (/Users/micheleyin/.cache/huggingface/datasets/diagnostic-dataset/tedlium/1.0.0/1e12ea3493085c0ab38871cee98397cfae30b510e030b1b3722f2460a10d2e98)\n",
      "Found cached dataset diagnostic-dataset (/Users/micheleyin/.cache/huggingface/datasets/diagnostic-dataset/tedlium/1.0.0/1e12ea3493085c0ab38871cee98397cfae30b510e030b1b3722f2460a10d2e98)\n",
      "Found cached dataset diagnostic-dataset (/Users/micheleyin/.cache/huggingface/datasets/diagnostic-dataset/voxpopuli/1.0.0/1e12ea3493085c0ab38871cee98397cfae30b510e030b1b3722f2460a10d2e98)\n",
      "Found cached dataset diagnostic-dataset (/Users/micheleyin/.cache/huggingface/datasets/diagnostic-dataset/voxpopuli/1.0.0/1e12ea3493085c0ab38871cee98397cfae30b510e030b1b3722f2460a10d2e98)\n"
     ]
    }
   ],
   "source": [
    "medians = []\n",
    "mins = []\n",
    "maxs = []\n",
    "total = 10\n",
    "new_dataset = {}\n",
    "for name in datasets_names:\n",
    "    new_dataset[name] = {}\n",
    "    for split in dataset_splits:\n",
    "        new_dataset[name][split] = {}\n",
    "        new_dataset[name][split]['median'] = []\n",
    "        new_dataset[name][split]['min'] = []\n",
    "        new_dataset[name][split]['max'] = []\n",
    "        dataset = load_dataset(\"esb/diagnostic-dataset\", name , split=split)\n",
    "        sorted_dataset = sorted(dataset, key=lambda k: len(k['norm_transcript'].split(' ')))\n",
    "        for sample in sorted_dataset:\n",
    "            if len(new_dataset[name][split]['min']) < total:\n",
    "                new_dataset[name][split]['min'].append(sample)\n",
    "            else:\n",
    "                break\n",
    "        sorted_dataset = sorted(dataset, key=lambda k: len(k['norm_transcript'].split(' ')),reverse=True)\n",
    "        for sample in sorted_dataset:\n",
    "            if len(new_dataset[name][split]['max']) < total:\n",
    "                new_dataset[name][split]['max'].append(sample)\n",
    "            else:\n",
    "                break\n",
    "        sorted_dataset = sorted(dataset, key=lambda k: np.abs(len(k['norm_transcript'].split(' ')) -  np.average(storage[name][split]['token_lens'])))\n",
    "        for sample in sorted_dataset:\n",
    "            if len(new_dataset[name][split]['median']) < total:\n",
    "                new_dataset[name][split]['median'].append(sample)\n",
    "            else:\n",
    "                break"
   ]
  },
  {
   "cell_type": "code",
   "execution_count": 2,
   "metadata": {},
   "outputs": [
    {
     "name": "stderr",
     "output_type": "stream",
     "text": [
      "Some weights of the model checkpoint at facebook/wav2vec2-large-lv60 were not used when initializing Wav2Vec2Model: ['quantizer.weight_proj.bias', 'project_hid.bias', 'project_q.bias', 'project_q.weight', 'project_hid.weight', 'quantizer.codevectors', 'quantizer.weight_proj.weight']\n",
      "- This IS expected if you are initializing Wav2Vec2Model from the checkpoint of a model trained on another task or with another architecture (e.g. initializing a BertForSequenceClassification model from a BertForPreTraining model).\n",
      "- This IS NOT expected if you are initializing Wav2Vec2Model from the checkpoint of a model that you expect to be exactly identical (initializing a BertForSequenceClassification model from a BertForSequenceClassification model).\n",
      "speechbrain.lobes.models.huggingface_wav2vec - wav2vec 2.0 is frozen.\n"
     ]
    },
    {
     "data": {
      "application/vnd.jupyter.widget-view+json": {
       "model_id": "1c17d930056d40ab8daeb93cdf13a4ed",
       "version_major": 2,
       "version_minor": 0
      },
      "text/plain": [
       "Downloading (…)\"wav2vec2.ckpt\";:   0%|          | 0.00/1.26G [00:00<?, ?B/s]"
      ]
     },
     "metadata": {},
     "output_type": "display_data"
    },
    {
     "data": {
      "application/vnd.jupyter.widget-view+json": {
       "model_id": "4e4f684f85ea4513b68bb95e2d2fae67",
       "version_major": 2,
       "version_minor": 0
      },
      "text/plain": [
       "Downloading (…)\"asr.ckpt\";:   0%|          | 0.00/64.9M [00:00<?, ?B/s]"
      ]
     },
     "metadata": {},
     "output_type": "display_data"
    },
    {
     "data": {
      "application/vnd.jupyter.widget-view+json": {
       "model_id": "5c8e4194eb1645cb846f92c6bfe8743d",
       "version_major": 2,
       "version_minor": 0
      },
      "text/plain": [
       "Downloading (…)\"tokenizer.ckpt\";:   0%|          | 0.00/253k [00:00<?, ?B/s]"
      ]
     },
     "metadata": {},
     "output_type": "display_data"
    },
    {
     "data": {
      "application/vnd.jupyter.widget-view+json": {
       "model_id": "5ea21cedfed744c086c95009b7a35c50",
       "version_major": 2,
       "version_minor": 0
      },
      "text/plain": [
       "Downloading (…)lve/main/example.wav:   0%|          | 0.00/104k [00:00<?, ?B/s]"
      ]
     },
     "metadata": {},
     "output_type": "display_data"
    },
    {
     "data": {
      "text/plain": [
       "'THE BIRCH CANOE SLID ON SMOOTH PLANKS'"
      ]
     },
     "execution_count": 2,
     "metadata": {},
     "output_type": "execute_result"
    }
   ],
   "source": [
    "asr_model = EncoderDecoderASR.from_hparams(source=\"speechbrain/asr-wav2vec2-commonvoice-en\", savedir=\"pretrained_models/asr-wav2vec2-commonvoice-en\")"
   ]
  },
  {
   "cell_type": "code",
   "execution_count": 49,
   "metadata": {},
   "outputs": [
    {
     "name": "stderr",
     "output_type": "stream",
     "text": [
      "\u001b[34m\u001b[1mwandb\u001b[0m: Currently logged in as: \u001b[33mbigemperor26\u001b[0m (\u001b[33mmicheleyin\u001b[0m). Use \u001b[1m`wandb login --relogin`\u001b[0m to force relogin\n"
     ]
    },
    {
     "data": {
      "application/vnd.jupyter.widget-view+json": {
       "model_id": "7467ebe46f7446c0a922dcf05bef29c1",
       "version_major": 2,
       "version_minor": 0
      },
      "text/plain": [
       "VBox(children=(Label(value='Waiting for wandb.init()...\\r'), FloatProgress(value=0.016751846516611598, max=1.0…"
      ]
     },
     "metadata": {},
     "output_type": "display_data"
    },
    {
     "data": {
      "text/html": [
       "Tracking run with wandb version 0.13.10"
      ],
      "text/plain": [
       "<IPython.core.display.HTML object>"
      ]
     },
     "metadata": {},
     "output_type": "display_data"
    },
    {
     "data": {
      "text/html": [
       "Run data is saved locally in <code>/Users/micheleyin/Documents/AI_DBMovie/asr/wandb/run-20230223_124734-tuau72dh</code>"
      ],
      "text/plain": [
       "<IPython.core.display.HTML object>"
      ]
     },
     "metadata": {},
     "output_type": "display_data"
    },
    {
     "data": {
      "text/html": [
       "Syncing run <strong><a href='https://wandb.ai/micheleyin/ASR%20WER%20Test%20Local%20asr-wav2vec2-commonvoice-en/runs/tuau72dh' target=\"_blank\">Local asr-wav2vec2-commonvoice-en_ami_clean_median</a></strong> to <a href='https://wandb.ai/micheleyin/ASR%20WER%20Test%20Local%20asr-wav2vec2-commonvoice-en' target=\"_blank\">Weights & Biases</a> (<a href='https://wandb.me/run' target=\"_blank\">docs</a>)<br/>"
      ],
      "text/plain": [
       "<IPython.core.display.HTML object>"
      ]
     },
     "metadata": {},
     "output_type": "display_data"
    },
    {
     "data": {
      "text/html": [
       " View project at <a href='https://wandb.ai/micheleyin/ASR%20WER%20Test%20Local%20asr-wav2vec2-commonvoice-en' target=\"_blank\">https://wandb.ai/micheleyin/ASR%20WER%20Test%20Local%20asr-wav2vec2-commonvoice-en</a>"
      ],
      "text/plain": [
       "<IPython.core.display.HTML object>"
      ]
     },
     "metadata": {},
     "output_type": "display_data"
    },
    {
     "data": {
      "text/html": [
       " View run at <a href='https://wandb.ai/micheleyin/ASR%20WER%20Test%20Local%20asr-wav2vec2-commonvoice-en/runs/tuau72dh' target=\"_blank\">https://wandb.ai/micheleyin/ASR%20WER%20Test%20Local%20asr-wav2vec2-commonvoice-en/runs/tuau72dh</a>"
      ],
      "text/plain": [
       "<IPython.core.display.HTML object>"
      ]
     },
     "metadata": {},
     "output_type": "display_data"
    },
    {
     "data": {
      "text/html": [
       "Waiting for W&B process to finish... <strong style=\"color:green\">(success).</strong>"
      ],
      "text/plain": [
       "<IPython.core.display.HTML object>"
      ]
     },
     "metadata": {},
     "output_type": "display_data"
    },
    {
     "data": {
      "application/vnd.jupyter.widget-view+json": {
       "model_id": "76bdd8fb331c463cbeace309a45dc178",
       "version_major": 2,
       "version_minor": 0
      },
      "text/plain": [
       "VBox(children=(Label(value='0.001 MB of 0.014 MB uploaded (0.000 MB deduped)\\r'), FloatProgress(value=0.069947…"
      ]
     },
     "metadata": {},
     "output_type": "display_data"
    },
    {
     "data": {
      "text/html": [
       "<style>\n",
       "    table.wandb td:nth-child(1) { padding: 0 10px; text-align: left ; width: auto;} td:nth-child(2) {text-align: left ; width: 100%}\n",
       "    .wandb-row { display: flex; flex-direction: row; flex-wrap: wrap; justify-content: flex-start; width: 100% }\n",
       "    .wandb-col { display: flex; flex-direction: column; flex-basis: 100%; flex: 1; padding: 10px; }\n",
       "    </style>\n",
       "<div class=\"wandb-row\"><div class=\"wandb-col\"><h3>Run history:</h3><br/><table class=\"wandb\"><tr><td>Average time per sample</td><td>▁</td></tr><tr><td>Tokens per second</td><td>▁</td></tr><tr><td>Total samples</td><td>▁</td></tr><tr><td>Total time</td><td>▁</td></tr><tr><td>Total tokens</td><td>▁</td></tr><tr><td>WER</td><td>▁</td></tr></table><br/></div><div class=\"wandb-col\"><h3>Run summary:</h3><br/><table class=\"wandb\"><tr><td>Average time per sample</td><td>1.35698</td></tr><tr><td>Tokens per second</td><td>19.65147</td></tr><tr><td>Total samples</td><td>210</td></tr><tr><td>Total time</td><td>4.07094</td></tr><tr><td>Total tokens</td><td>80</td></tr><tr><td>WER</td><td>0.38889</td></tr></table><br/></div></div>"
      ],
      "text/plain": [
       "<IPython.core.display.HTML object>"
      ]
     },
     "metadata": {},
     "output_type": "display_data"
    },
    {
     "data": {
      "text/html": [
       " View run <strong style=\"color:#cdcd00\">Local asr-wav2vec2-commonvoice-en_ami_clean_median</strong> at: <a href='https://wandb.ai/micheleyin/ASR%20WER%20Test%20Local%20asr-wav2vec2-commonvoice-en/runs/tuau72dh' target=\"_blank\">https://wandb.ai/micheleyin/ASR%20WER%20Test%20Local%20asr-wav2vec2-commonvoice-en/runs/tuau72dh</a><br/>Synced 5 W&B file(s), 0 media file(s), 0 artifact file(s) and 0 other file(s)"
      ],
      "text/plain": [
       "<IPython.core.display.HTML object>"
      ]
     },
     "metadata": {},
     "output_type": "display_data"
    },
    {
     "data": {
      "text/html": [
       "Find logs at: <code>./wandb/run-20230223_124734-tuau72dh/logs</code>"
      ],
      "text/plain": [
       "<IPython.core.display.HTML object>"
      ]
     },
     "metadata": {},
     "output_type": "display_data"
    },
    {
     "data": {
      "application/vnd.jupyter.widget-view+json": {
       "model_id": "d655fc9835f247f3a350f274725c48ea",
       "version_major": 2,
       "version_minor": 0
      },
      "text/plain": [
       "VBox(children=(Label(value='Waiting for wandb.init()...\\r'), FloatProgress(value=0.016749791666613115, max=1.0…"
      ]
     },
     "metadata": {},
     "output_type": "display_data"
    },
    {
     "data": {
      "text/html": [
       "Tracking run with wandb version 0.13.10"
      ],
      "text/plain": [
       "<IPython.core.display.HTML object>"
      ]
     },
     "metadata": {},
     "output_type": "display_data"
    },
    {
     "data": {
      "text/html": [
       "Run data is saved locally in <code>/Users/micheleyin/Documents/AI_DBMovie/asr/wandb/run-20230223_124748-49bdlzyy</code>"
      ],
      "text/plain": [
       "<IPython.core.display.HTML object>"
      ]
     },
     "metadata": {},
     "output_type": "display_data"
    },
    {
     "data": {
      "text/html": [
       "Syncing run <strong><a href='https://wandb.ai/micheleyin/ASR%20WER%20Test%20Local%20asr-wav2vec2-commonvoice-en/runs/49bdlzyy' target=\"_blank\">Local asr-wav2vec2-commonvoice-en_ami_clean_min</a></strong> to <a href='https://wandb.ai/micheleyin/ASR%20WER%20Test%20Local%20asr-wav2vec2-commonvoice-en' target=\"_blank\">Weights & Biases</a> (<a href='https://wandb.me/run' target=\"_blank\">docs</a>)<br/>"
      ],
      "text/plain": [
       "<IPython.core.display.HTML object>"
      ]
     },
     "metadata": {},
     "output_type": "display_data"
    },
    {
     "data": {
      "text/html": [
       " View project at <a href='https://wandb.ai/micheleyin/ASR%20WER%20Test%20Local%20asr-wav2vec2-commonvoice-en' target=\"_blank\">https://wandb.ai/micheleyin/ASR%20WER%20Test%20Local%20asr-wav2vec2-commonvoice-en</a>"
      ],
      "text/plain": [
       "<IPython.core.display.HTML object>"
      ]
     },
     "metadata": {},
     "output_type": "display_data"
    },
    {
     "data": {
      "text/html": [
       " View run at <a href='https://wandb.ai/micheleyin/ASR%20WER%20Test%20Local%20asr-wav2vec2-commonvoice-en/runs/49bdlzyy' target=\"_blank\">https://wandb.ai/micheleyin/ASR%20WER%20Test%20Local%20asr-wav2vec2-commonvoice-en/runs/49bdlzyy</a>"
      ],
      "text/plain": [
       "<IPython.core.display.HTML object>"
      ]
     },
     "metadata": {},
     "output_type": "display_data"
    },
    {
     "data": {
      "text/html": [
       "Waiting for W&B process to finish... <strong style=\"color:green\">(success).</strong>"
      ],
      "text/plain": [
       "<IPython.core.display.HTML object>"
      ]
     },
     "metadata": {},
     "output_type": "display_data"
    },
    {
     "data": {
      "application/vnd.jupyter.widget-view+json": {
       "model_id": "3e025a264f8b4b119b437e7bdb3d82cd",
       "version_major": 2,
       "version_minor": 0
      },
      "text/plain": [
       "VBox(children=(Label(value='0.001 MB of 0.014 MB uploaded (0.000 MB deduped)\\r'), FloatProgress(value=0.069901…"
      ]
     },
     "metadata": {},
     "output_type": "display_data"
    },
    {
     "data": {
      "text/html": [
       "<style>\n",
       "    table.wandb td:nth-child(1) { padding: 0 10px; text-align: left ; width: auto;} td:nth-child(2) {text-align: left ; width: 100%}\n",
       "    .wandb-row { display: flex; flex-direction: row; flex-wrap: wrap; justify-content: flex-start; width: 100% }\n",
       "    .wandb-col { display: flex; flex-direction: column; flex-basis: 100%; flex: 1; padding: 10px; }\n",
       "    </style>\n",
       "<div class=\"wandb-row\"><div class=\"wandb-col\"><h3>Run history:</h3><br/><table class=\"wandb\"><tr><td>Average time per sample</td><td>▁</td></tr><tr><td>Tokens per second</td><td>▁</td></tr><tr><td>Total samples</td><td>▁</td></tr><tr><td>Total time</td><td>▁</td></tr><tr><td>Total tokens</td><td>▁</td></tr><tr><td>WER</td><td>▁</td></tr></table><br/></div><div class=\"wandb-col\"><h3>Run summary:</h3><br/><table class=\"wandb\"><tr><td>Average time per sample</td><td>0.58526</td></tr><tr><td>Tokens per second</td><td>5.69548</td></tr><tr><td>Total samples</td><td>210</td></tr><tr><td>Total time</td><td>1.75578</td></tr><tr><td>Total tokens</td><td>10</td></tr><tr><td>WER</td><td>0.91667</td></tr></table><br/></div></div>"
      ],
      "text/plain": [
       "<IPython.core.display.HTML object>"
      ]
     },
     "metadata": {},
     "output_type": "display_data"
    },
    {
     "data": {
      "text/html": [
       " View run <strong style=\"color:#cdcd00\">Local asr-wav2vec2-commonvoice-en_ami_clean_min</strong> at: <a href='https://wandb.ai/micheleyin/ASR%20WER%20Test%20Local%20asr-wav2vec2-commonvoice-en/runs/49bdlzyy' target=\"_blank\">https://wandb.ai/micheleyin/ASR%20WER%20Test%20Local%20asr-wav2vec2-commonvoice-en/runs/49bdlzyy</a><br/>Synced 5 W&B file(s), 0 media file(s), 0 artifact file(s) and 0 other file(s)"
      ],
      "text/plain": [
       "<IPython.core.display.HTML object>"
      ]
     },
     "metadata": {},
     "output_type": "display_data"
    },
    {
     "data": {
      "text/html": [
       "Find logs at: <code>./wandb/run-20230223_124748-49bdlzyy/logs</code>"
      ],
      "text/plain": [
       "<IPython.core.display.HTML object>"
      ]
     },
     "metadata": {},
     "output_type": "display_data"
    },
    {
     "data": {
      "application/vnd.jupyter.widget-view+json": {
       "model_id": "bae1b915724548c596c9e21464552c59",
       "version_major": 2,
       "version_minor": 0
      },
      "text/plain": [
       "VBox(children=(Label(value='Waiting for wandb.init()...\\r'), FloatProgress(value=0.01669541041677197, max=1.0)…"
      ]
     },
     "metadata": {},
     "output_type": "display_data"
    },
    {
     "data": {
      "text/html": [
       "Tracking run with wandb version 0.13.10"
      ],
      "text/plain": [
       "<IPython.core.display.HTML object>"
      ]
     },
     "metadata": {},
     "output_type": "display_data"
    },
    {
     "data": {
      "text/html": [
       "Run data is saved locally in <code>/Users/micheleyin/Documents/AI_DBMovie/asr/wandb/run-20230223_124758-wq3xkvko</code>"
      ],
      "text/plain": [
       "<IPython.core.display.HTML object>"
      ]
     },
     "metadata": {},
     "output_type": "display_data"
    },
    {
     "data": {
      "text/html": [
       "Syncing run <strong><a href='https://wandb.ai/micheleyin/ASR%20WER%20Test%20Local%20asr-wav2vec2-commonvoice-en/runs/wq3xkvko' target=\"_blank\">Local asr-wav2vec2-commonvoice-en_ami_clean_max</a></strong> to <a href='https://wandb.ai/micheleyin/ASR%20WER%20Test%20Local%20asr-wav2vec2-commonvoice-en' target=\"_blank\">Weights & Biases</a> (<a href='https://wandb.me/run' target=\"_blank\">docs</a>)<br/>"
      ],
      "text/plain": [
       "<IPython.core.display.HTML object>"
      ]
     },
     "metadata": {},
     "output_type": "display_data"
    },
    {
     "data": {
      "text/html": [
       " View project at <a href='https://wandb.ai/micheleyin/ASR%20WER%20Test%20Local%20asr-wav2vec2-commonvoice-en' target=\"_blank\">https://wandb.ai/micheleyin/ASR%20WER%20Test%20Local%20asr-wav2vec2-commonvoice-en</a>"
      ],
      "text/plain": [
       "<IPython.core.display.HTML object>"
      ]
     },
     "metadata": {},
     "output_type": "display_data"
    },
    {
     "data": {
      "text/html": [
       " View run at <a href='https://wandb.ai/micheleyin/ASR%20WER%20Test%20Local%20asr-wav2vec2-commonvoice-en/runs/wq3xkvko' target=\"_blank\">https://wandb.ai/micheleyin/ASR%20WER%20Test%20Local%20asr-wav2vec2-commonvoice-en/runs/wq3xkvko</a>"
      ],
      "text/plain": [
       "<IPython.core.display.HTML object>"
      ]
     },
     "metadata": {},
     "output_type": "display_data"
    },
    {
     "data": {
      "text/html": [
       "Waiting for W&B process to finish... <strong style=\"color:green\">(success).</strong>"
      ],
      "text/plain": [
       "<IPython.core.display.HTML object>"
      ]
     },
     "metadata": {},
     "output_type": "display_data"
    },
    {
     "data": {
      "application/vnd.jupyter.widget-view+json": {
       "model_id": "e751b55758934e1193fcb8c000c0b0c5",
       "version_major": 2,
       "version_minor": 0
      },
      "text/plain": [
       "VBox(children=(Label(value='0.002 MB of 0.014 MB uploaded (0.000 MB deduped)\\r'), FloatProgress(value=0.124885…"
      ]
     },
     "metadata": {},
     "output_type": "display_data"
    },
    {
     "data": {
      "text/html": [
       "<style>\n",
       "    table.wandb td:nth-child(1) { padding: 0 10px; text-align: left ; width: auto;} td:nth-child(2) {text-align: left ; width: 100%}\n",
       "    .wandb-row { display: flex; flex-direction: row; flex-wrap: wrap; justify-content: flex-start; width: 100% }\n",
       "    .wandb-col { display: flex; flex-direction: column; flex-basis: 100%; flex: 1; padding: 10px; }\n",
       "    </style>\n",
       "<div class=\"wandb-row\"><div class=\"wandb-col\"><h3>Run history:</h3><br/><table class=\"wandb\"><tr><td>Average time per sample</td><td>▁</td></tr><tr><td>Tokens per second</td><td>▁</td></tr><tr><td>Total samples</td><td>▁</td></tr><tr><td>Total time</td><td>▁</td></tr><tr><td>Total tokens</td><td>▁</td></tr><tr><td>WER</td><td>▁</td></tr></table><br/></div><div class=\"wandb-col\"><h3>Run summary:</h3><br/><table class=\"wandb\"><tr><td>Average time per sample</td><td>8.63912</td></tr><tr><td>Tokens per second</td><td>13.08003</td></tr><tr><td>Total samples</td><td>210</td></tr><tr><td>Total time</td><td>25.91737</td></tr><tr><td>Total tokens</td><td>339</td></tr><tr><td>WER</td><td>0.39695</td></tr></table><br/></div></div>"
      ],
      "text/plain": [
       "<IPython.core.display.HTML object>"
      ]
     },
     "metadata": {},
     "output_type": "display_data"
    },
    {
     "data": {
      "text/html": [
       " View run <strong style=\"color:#cdcd00\">Local asr-wav2vec2-commonvoice-en_ami_clean_max</strong> at: <a href='https://wandb.ai/micheleyin/ASR%20WER%20Test%20Local%20asr-wav2vec2-commonvoice-en/runs/wq3xkvko' target=\"_blank\">https://wandb.ai/micheleyin/ASR%20WER%20Test%20Local%20asr-wav2vec2-commonvoice-en/runs/wq3xkvko</a><br/>Synced 5 W&B file(s), 0 media file(s), 0 artifact file(s) and 0 other file(s)"
      ],
      "text/plain": [
       "<IPython.core.display.HTML object>"
      ]
     },
     "metadata": {},
     "output_type": "display_data"
    },
    {
     "data": {
      "text/html": [
       "Find logs at: <code>./wandb/run-20230223_124758-wq3xkvko/logs</code>"
      ],
      "text/plain": [
       "<IPython.core.display.HTML object>"
      ]
     },
     "metadata": {},
     "output_type": "display_data"
    },
    {
     "data": {
      "application/vnd.jupyter.widget-view+json": {
       "model_id": "ab7655e0d360423fb061454cb91e8811",
       "version_major": 2,
       "version_minor": 0
      },
      "text/plain": [
       "VBox(children=(Label(value='Waiting for wandb.init()...\\r'), FloatProgress(value=0.016732063899932353, max=1.0…"
      ]
     },
     "metadata": {},
     "output_type": "display_data"
    },
    {
     "data": {
      "text/html": [
       "Tracking run with wandb version 0.13.10"
      ],
      "text/plain": [
       "<IPython.core.display.HTML object>"
      ]
     },
     "metadata": {},
     "output_type": "display_data"
    },
    {
     "data": {
      "text/html": [
       "Run data is saved locally in <code>/Users/micheleyin/Documents/AI_DBMovie/asr/wandb/run-20230223_124834-ff6svrfa</code>"
      ],
      "text/plain": [
       "<IPython.core.display.HTML object>"
      ]
     },
     "metadata": {},
     "output_type": "display_data"
    },
    {
     "data": {
      "text/html": [
       "Syncing run <strong><a href='https://wandb.ai/micheleyin/ASR%20WER%20Test%20Local%20asr-wav2vec2-commonvoice-en/runs/ff6svrfa' target=\"_blank\">Local asr-wav2vec2-commonvoice-en_ami_other_median</a></strong> to <a href='https://wandb.ai/micheleyin/ASR%20WER%20Test%20Local%20asr-wav2vec2-commonvoice-en' target=\"_blank\">Weights & Biases</a> (<a href='https://wandb.me/run' target=\"_blank\">docs</a>)<br/>"
      ],
      "text/plain": [
       "<IPython.core.display.HTML object>"
      ]
     },
     "metadata": {},
     "output_type": "display_data"
    },
    {
     "data": {
      "text/html": [
       " View project at <a href='https://wandb.ai/micheleyin/ASR%20WER%20Test%20Local%20asr-wav2vec2-commonvoice-en' target=\"_blank\">https://wandb.ai/micheleyin/ASR%20WER%20Test%20Local%20asr-wav2vec2-commonvoice-en</a>"
      ],
      "text/plain": [
       "<IPython.core.display.HTML object>"
      ]
     },
     "metadata": {},
     "output_type": "display_data"
    },
    {
     "data": {
      "text/html": [
       " View run at <a href='https://wandb.ai/micheleyin/ASR%20WER%20Test%20Local%20asr-wav2vec2-commonvoice-en/runs/ff6svrfa' target=\"_blank\">https://wandb.ai/micheleyin/ASR%20WER%20Test%20Local%20asr-wav2vec2-commonvoice-en/runs/ff6svrfa</a>"
      ],
      "text/plain": [
       "<IPython.core.display.HTML object>"
      ]
     },
     "metadata": {},
     "output_type": "display_data"
    },
    {
     "data": {
      "text/html": [
       "Waiting for W&B process to finish... <strong style=\"color:green\">(success).</strong>"
      ],
      "text/plain": [
       "<IPython.core.display.HTML object>"
      ]
     },
     "metadata": {},
     "output_type": "display_data"
    },
    {
     "data": {
      "application/vnd.jupyter.widget-view+json": {
       "model_id": "d9a4499daa184d348be7eb012d9a690b",
       "version_major": 2,
       "version_minor": 0
      },
      "text/plain": [
       "VBox(children=(Label(value='0.001 MB of 0.014 MB uploaded (0.000 MB deduped)\\r'), FloatProgress(value=0.069887…"
      ]
     },
     "metadata": {},
     "output_type": "display_data"
    },
    {
     "data": {
      "text/html": [
       "<style>\n",
       "    table.wandb td:nth-child(1) { padding: 0 10px; text-align: left ; width: auto;} td:nth-child(2) {text-align: left ; width: 100%}\n",
       "    .wandb-row { display: flex; flex-direction: row; flex-wrap: wrap; justify-content: flex-start; width: 100% }\n",
       "    .wandb-col { display: flex; flex-direction: column; flex-basis: 100%; flex: 1; padding: 10px; }\n",
       "    </style>\n",
       "<div class=\"wandb-row\"><div class=\"wandb-col\"><h3>Run history:</h3><br/><table class=\"wandb\"><tr><td>Average time per sample</td><td>▁</td></tr><tr><td>Tokens per second</td><td>▁</td></tr><tr><td>Total samples</td><td>▁</td></tr><tr><td>Total time</td><td>▁</td></tr><tr><td>Total tokens</td><td>▁</td></tr><tr><td>WER</td><td>▁</td></tr></table><br/></div><div class=\"wandb-col\"><h3>Run summary:</h3><br/><table class=\"wandb\"><tr><td>Average time per sample</td><td>1.04363</td></tr><tr><td>Tokens per second</td><td>25.55176</td></tr><tr><td>Total samples</td><td>210</td></tr><tr><td>Total time</td><td>3.1309</td></tr><tr><td>Total tokens</td><td>80</td></tr><tr><td>WER</td><td>0.94231</td></tr></table><br/></div></div>"
      ],
      "text/plain": [
       "<IPython.core.display.HTML object>"
      ]
     },
     "metadata": {},
     "output_type": "display_data"
    },
    {
     "data": {
      "text/html": [
       " View run <strong style=\"color:#cdcd00\">Local asr-wav2vec2-commonvoice-en_ami_other_median</strong> at: <a href='https://wandb.ai/micheleyin/ASR%20WER%20Test%20Local%20asr-wav2vec2-commonvoice-en/runs/ff6svrfa' target=\"_blank\">https://wandb.ai/micheleyin/ASR%20WER%20Test%20Local%20asr-wav2vec2-commonvoice-en/runs/ff6svrfa</a><br/>Synced 5 W&B file(s), 0 media file(s), 0 artifact file(s) and 0 other file(s)"
      ],
      "text/plain": [
       "<IPython.core.display.HTML object>"
      ]
     },
     "metadata": {},
     "output_type": "display_data"
    },
    {
     "data": {
      "text/html": [
       "Find logs at: <code>./wandb/run-20230223_124834-ff6svrfa/logs</code>"
      ],
      "text/plain": [
       "<IPython.core.display.HTML object>"
      ]
     },
     "metadata": {},
     "output_type": "display_data"
    },
    {
     "data": {
      "application/vnd.jupyter.widget-view+json": {
       "model_id": "7adc2b2a75844b18a3c15a2cbfa478ff",
       "version_major": 2,
       "version_minor": 0
      },
      "text/plain": [
       "VBox(children=(Label(value='Waiting for wandb.init()...\\r'), FloatProgress(value=0.01675222708339182, max=1.0)…"
      ]
     },
     "metadata": {},
     "output_type": "display_data"
    },
    {
     "data": {
      "text/html": [
       "Tracking run with wandb version 0.13.10"
      ],
      "text/plain": [
       "<IPython.core.display.HTML object>"
      ]
     },
     "metadata": {},
     "output_type": "display_data"
    },
    {
     "data": {
      "text/html": [
       "Run data is saved locally in <code>/Users/micheleyin/Documents/AI_DBMovie/asr/wandb/run-20230223_124846-olv2q33d</code>"
      ],
      "text/plain": [
       "<IPython.core.display.HTML object>"
      ]
     },
     "metadata": {},
     "output_type": "display_data"
    },
    {
     "data": {
      "text/html": [
       "Syncing run <strong><a href='https://wandb.ai/micheleyin/ASR%20WER%20Test%20Local%20asr-wav2vec2-commonvoice-en/runs/olv2q33d' target=\"_blank\">Local asr-wav2vec2-commonvoice-en_ami_other_min</a></strong> to <a href='https://wandb.ai/micheleyin/ASR%20WER%20Test%20Local%20asr-wav2vec2-commonvoice-en' target=\"_blank\">Weights & Biases</a> (<a href='https://wandb.me/run' target=\"_blank\">docs</a>)<br/>"
      ],
      "text/plain": [
       "<IPython.core.display.HTML object>"
      ]
     },
     "metadata": {},
     "output_type": "display_data"
    },
    {
     "data": {
      "text/html": [
       " View project at <a href='https://wandb.ai/micheleyin/ASR%20WER%20Test%20Local%20asr-wav2vec2-commonvoice-en' target=\"_blank\">https://wandb.ai/micheleyin/ASR%20WER%20Test%20Local%20asr-wav2vec2-commonvoice-en</a>"
      ],
      "text/plain": [
       "<IPython.core.display.HTML object>"
      ]
     },
     "metadata": {},
     "output_type": "display_data"
    },
    {
     "data": {
      "text/html": [
       " View run at <a href='https://wandb.ai/micheleyin/ASR%20WER%20Test%20Local%20asr-wav2vec2-commonvoice-en/runs/olv2q33d' target=\"_blank\">https://wandb.ai/micheleyin/ASR%20WER%20Test%20Local%20asr-wav2vec2-commonvoice-en/runs/olv2q33d</a>"
      ],
      "text/plain": [
       "<IPython.core.display.HTML object>"
      ]
     },
     "metadata": {},
     "output_type": "display_data"
    },
    {
     "data": {
      "text/html": [
       "Waiting for W&B process to finish... <strong style=\"color:green\">(success).</strong>"
      ],
      "text/plain": [
       "<IPython.core.display.HTML object>"
      ]
     },
     "metadata": {},
     "output_type": "display_data"
    },
    {
     "data": {
      "application/vnd.jupyter.widget-view+json": {
       "model_id": "e5724fc5d9f148bdad408a978c97fb3a",
       "version_major": 2,
       "version_minor": 0
      },
      "text/plain": [
       "VBox(children=(Label(value='0.001 MB of 0.005 MB uploaded (0.000 MB deduped)\\r'), FloatProgress(value=0.174379…"
      ]
     },
     "metadata": {},
     "output_type": "display_data"
    },
    {
     "data": {
      "text/html": [
       "<style>\n",
       "    table.wandb td:nth-child(1) { padding: 0 10px; text-align: left ; width: auto;} td:nth-child(2) {text-align: left ; width: 100%}\n",
       "    .wandb-row { display: flex; flex-direction: row; flex-wrap: wrap; justify-content: flex-start; width: 100% }\n",
       "    .wandb-col { display: flex; flex-direction: column; flex-basis: 100%; flex: 1; padding: 10px; }\n",
       "    </style>\n",
       "<div class=\"wandb-row\"><div class=\"wandb-col\"><h3>Run history:</h3><br/><table class=\"wandb\"><tr><td>Average time per sample</td><td>▁</td></tr><tr><td>Tokens per second</td><td>▁</td></tr><tr><td>Total samples</td><td>▁</td></tr><tr><td>Total time</td><td>▁</td></tr><tr><td>Total tokens</td><td>▁</td></tr><tr><td>WER</td><td>▁</td></tr></table><br/></div><div class=\"wandb-col\"><h3>Run summary:</h3><br/><table class=\"wandb\"><tr><td>Average time per sample</td><td>0.64187</td></tr><tr><td>Tokens per second</td><td>5.19316</td></tr><tr><td>Total samples</td><td>210</td></tr><tr><td>Total time</td><td>1.92561</td></tr><tr><td>Total tokens</td><td>10</td></tr><tr><td>WER</td><td>1.0</td></tr></table><br/></div></div>"
      ],
      "text/plain": [
       "<IPython.core.display.HTML object>"
      ]
     },
     "metadata": {},
     "output_type": "display_data"
    },
    {
     "data": {
      "text/html": [
       " View run <strong style=\"color:#cdcd00\">Local asr-wav2vec2-commonvoice-en_ami_other_min</strong> at: <a href='https://wandb.ai/micheleyin/ASR%20WER%20Test%20Local%20asr-wav2vec2-commonvoice-en/runs/olv2q33d' target=\"_blank\">https://wandb.ai/micheleyin/ASR%20WER%20Test%20Local%20asr-wav2vec2-commonvoice-en/runs/olv2q33d</a><br/>Synced 5 W&B file(s), 0 media file(s), 0 artifact file(s) and 0 other file(s)"
      ],
      "text/plain": [
       "<IPython.core.display.HTML object>"
      ]
     },
     "metadata": {},
     "output_type": "display_data"
    },
    {
     "data": {
      "text/html": [
       "Find logs at: <code>./wandb/run-20230223_124846-olv2q33d/logs</code>"
      ],
      "text/plain": [
       "<IPython.core.display.HTML object>"
      ]
     },
     "metadata": {},
     "output_type": "display_data"
    },
    {
     "data": {
      "application/vnd.jupyter.widget-view+json": {
       "model_id": "a2c68ad1142346339768cb2504b8ef4c",
       "version_major": 2,
       "version_minor": 0
      },
      "text/plain": [
       "VBox(children=(Label(value='Waiting for wandb.init()...\\r'), FloatProgress(value=0.01668789513326677, max=1.0)…"
      ]
     },
     "metadata": {},
     "output_type": "display_data"
    },
    {
     "data": {
      "text/html": [
       "Tracking run with wandb version 0.13.10"
      ],
      "text/plain": [
       "<IPython.core.display.HTML object>"
      ]
     },
     "metadata": {},
     "output_type": "display_data"
    },
    {
     "data": {
      "text/html": [
       "Run data is saved locally in <code>/Users/micheleyin/Documents/AI_DBMovie/asr/wandb/run-20230223_124858-dlbl1xt8</code>"
      ],
      "text/plain": [
       "<IPython.core.display.HTML object>"
      ]
     },
     "metadata": {},
     "output_type": "display_data"
    },
    {
     "data": {
      "text/html": [
       "Syncing run <strong><a href='https://wandb.ai/micheleyin/ASR%20WER%20Test%20Local%20asr-wav2vec2-commonvoice-en/runs/dlbl1xt8' target=\"_blank\">Local asr-wav2vec2-commonvoice-en_ami_other_max</a></strong> to <a href='https://wandb.ai/micheleyin/ASR%20WER%20Test%20Local%20asr-wav2vec2-commonvoice-en' target=\"_blank\">Weights & Biases</a> (<a href='https://wandb.me/run' target=\"_blank\">docs</a>)<br/>"
      ],
      "text/plain": [
       "<IPython.core.display.HTML object>"
      ]
     },
     "metadata": {},
     "output_type": "display_data"
    },
    {
     "data": {
      "text/html": [
       " View project at <a href='https://wandb.ai/micheleyin/ASR%20WER%20Test%20Local%20asr-wav2vec2-commonvoice-en' target=\"_blank\">https://wandb.ai/micheleyin/ASR%20WER%20Test%20Local%20asr-wav2vec2-commonvoice-en</a>"
      ],
      "text/plain": [
       "<IPython.core.display.HTML object>"
      ]
     },
     "metadata": {},
     "output_type": "display_data"
    },
    {
     "data": {
      "text/html": [
       " View run at <a href='https://wandb.ai/micheleyin/ASR%20WER%20Test%20Local%20asr-wav2vec2-commonvoice-en/runs/dlbl1xt8' target=\"_blank\">https://wandb.ai/micheleyin/ASR%20WER%20Test%20Local%20asr-wav2vec2-commonvoice-en/runs/dlbl1xt8</a>"
      ],
      "text/plain": [
       "<IPython.core.display.HTML object>"
      ]
     },
     "metadata": {},
     "output_type": "display_data"
    },
    {
     "data": {
      "text/html": [
       "Waiting for W&B process to finish... <strong style=\"color:green\">(success).</strong>"
      ],
      "text/plain": [
       "<IPython.core.display.HTML object>"
      ]
     },
     "metadata": {},
     "output_type": "display_data"
    },
    {
     "data": {
      "text/html": [
       "<style>\n",
       "    table.wandb td:nth-child(1) { padding: 0 10px; text-align: left ; width: auto;} td:nth-child(2) {text-align: left ; width: 100%}\n",
       "    .wandb-row { display: flex; flex-direction: row; flex-wrap: wrap; justify-content: flex-start; width: 100% }\n",
       "    .wandb-col { display: flex; flex-direction: column; flex-basis: 100%; flex: 1; padding: 10px; }\n",
       "    </style>\n",
       "<div class=\"wandb-row\"><div class=\"wandb-col\"><h3>Run history:</h3><br/><table class=\"wandb\"><tr><td>Average time per sample</td><td>▁</td></tr><tr><td>Tokens per second</td><td>▁</td></tr><tr><td>Total samples</td><td>▁</td></tr><tr><td>Total time</td><td>▁</td></tr><tr><td>Total tokens</td><td>▁</td></tr><tr><td>WER</td><td>▁</td></tr></table><br/></div><div class=\"wandb-col\"><h3>Run summary:</h3><br/><table class=\"wandb\"><tr><td>Average time per sample</td><td>10.47816</td></tr><tr><td>Tokens per second</td><td>9.76635</td></tr><tr><td>Total samples</td><td>210</td></tr><tr><td>Total time</td><td>31.43448</td></tr><tr><td>Total tokens</td><td>307</td></tr><tr><td>WER</td><td>1.06349</td></tr></table><br/></div></div>"
      ],
      "text/plain": [
       "<IPython.core.display.HTML object>"
      ]
     },
     "metadata": {},
     "output_type": "display_data"
    },
    {
     "data": {
      "text/html": [
       " View run <strong style=\"color:#cdcd00\">Local asr-wav2vec2-commonvoice-en_ami_other_max</strong> at: <a href='https://wandb.ai/micheleyin/ASR%20WER%20Test%20Local%20asr-wav2vec2-commonvoice-en/runs/dlbl1xt8' target=\"_blank\">https://wandb.ai/micheleyin/ASR%20WER%20Test%20Local%20asr-wav2vec2-commonvoice-en/runs/dlbl1xt8</a><br/>Synced 5 W&B file(s), 0 media file(s), 0 artifact file(s) and 0 other file(s)"
      ],
      "text/plain": [
       "<IPython.core.display.HTML object>"
      ]
     },
     "metadata": {},
     "output_type": "display_data"
    },
    {
     "data": {
      "text/html": [
       "Find logs at: <code>./wandb/run-20230223_124858-dlbl1xt8/logs</code>"
      ],
      "text/plain": [
       "<IPython.core.display.HTML object>"
      ]
     },
     "metadata": {},
     "output_type": "display_data"
    },
    {
     "data": {
      "application/vnd.jupyter.widget-view+json": {
       "model_id": "67dbd9b0f0474afeabe728c30fc79856",
       "version_major": 2,
       "version_minor": 0
      },
      "text/plain": [
       "VBox(children=(Label(value='Waiting for wandb.init()...\\r'), FloatProgress(value=0.01675112916661116, max=1.0)…"
      ]
     },
     "metadata": {},
     "output_type": "display_data"
    },
    {
     "data": {
      "text/html": [
       "Tracking run with wandb version 0.13.10"
      ],
      "text/plain": [
       "<IPython.core.display.HTML object>"
      ]
     },
     "metadata": {},
     "output_type": "display_data"
    },
    {
     "data": {
      "text/html": [
       "Run data is saved locally in <code>/Users/micheleyin/Documents/AI_DBMovie/asr/wandb/run-20230223_124945-e9nwwyix</code>"
      ],
      "text/plain": [
       "<IPython.core.display.HTML object>"
      ]
     },
     "metadata": {},
     "output_type": "display_data"
    },
    {
     "data": {
      "text/html": [
       "Syncing run <strong><a href='https://wandb.ai/micheleyin/ASR%20WER%20Test%20Local%20asr-wav2vec2-commonvoice-en/runs/e9nwwyix' target=\"_blank\">Local asr-wav2vec2-commonvoice-en_common_voice_clean_median</a></strong> to <a href='https://wandb.ai/micheleyin/ASR%20WER%20Test%20Local%20asr-wav2vec2-commonvoice-en' target=\"_blank\">Weights & Biases</a> (<a href='https://wandb.me/run' target=\"_blank\">docs</a>)<br/>"
      ],
      "text/plain": [
       "<IPython.core.display.HTML object>"
      ]
     },
     "metadata": {},
     "output_type": "display_data"
    },
    {
     "data": {
      "text/html": [
       " View project at <a href='https://wandb.ai/micheleyin/ASR%20WER%20Test%20Local%20asr-wav2vec2-commonvoice-en' target=\"_blank\">https://wandb.ai/micheleyin/ASR%20WER%20Test%20Local%20asr-wav2vec2-commonvoice-en</a>"
      ],
      "text/plain": [
       "<IPython.core.display.HTML object>"
      ]
     },
     "metadata": {},
     "output_type": "display_data"
    },
    {
     "data": {
      "text/html": [
       " View run at <a href='https://wandb.ai/micheleyin/ASR%20WER%20Test%20Local%20asr-wav2vec2-commonvoice-en/runs/e9nwwyix' target=\"_blank\">https://wandb.ai/micheleyin/ASR%20WER%20Test%20Local%20asr-wav2vec2-commonvoice-en/runs/e9nwwyix</a>"
      ],
      "text/plain": [
       "<IPython.core.display.HTML object>"
      ]
     },
     "metadata": {},
     "output_type": "display_data"
    },
    {
     "data": {
      "text/html": [
       "Waiting for W&B process to finish... <strong style=\"color:green\">(success).</strong>"
      ],
      "text/plain": [
       "<IPython.core.display.HTML object>"
      ]
     },
     "metadata": {},
     "output_type": "display_data"
    },
    {
     "data": {
      "application/vnd.jupyter.widget-view+json": {
       "model_id": "1a104f81e1bc431582cf138f9faed685",
       "version_major": 2,
       "version_minor": 0
      },
      "text/plain": [
       "VBox(children=(Label(value='0.001 MB of 0.001 MB uploaded (0.000 MB deduped)\\r'), FloatProgress(value=1.0, max…"
      ]
     },
     "metadata": {},
     "output_type": "display_data"
    },
    {
     "data": {
      "text/html": [
       "<style>\n",
       "    table.wandb td:nth-child(1) { padding: 0 10px; text-align: left ; width: auto;} td:nth-child(2) {text-align: left ; width: 100%}\n",
       "    .wandb-row { display: flex; flex-direction: row; flex-wrap: wrap; justify-content: flex-start; width: 100% }\n",
       "    .wandb-col { display: flex; flex-direction: column; flex-basis: 100%; flex: 1; padding: 10px; }\n",
       "    </style>\n",
       "<div class=\"wandb-row\"><div class=\"wandb-col\"><h3>Run history:</h3><br/><table class=\"wandb\"><tr><td>Average time per sample</td><td>▁</td></tr><tr><td>Tokens per second</td><td>▁</td></tr><tr><td>Total samples</td><td>▁</td></tr><tr><td>Total time</td><td>▁</td></tr><tr><td>Total tokens</td><td>▁</td></tr><tr><td>WER</td><td>▁</td></tr></table><br/></div><div class=\"wandb-col\"><h3>Run summary:</h3><br/><table class=\"wandb\"><tr><td>Average time per sample</td><td>2.75079</td></tr><tr><td>Tokens per second</td><td>12.11773</td></tr><tr><td>Total samples</td><td>210</td></tr><tr><td>Total time</td><td>8.25237</td></tr><tr><td>Total tokens</td><td>100</td></tr><tr><td>WER</td><td>0.06</td></tr></table><br/></div></div>"
      ],
      "text/plain": [
       "<IPython.core.display.HTML object>"
      ]
     },
     "metadata": {},
     "output_type": "display_data"
    },
    {
     "data": {
      "text/html": [
       " View run <strong style=\"color:#cdcd00\">Local asr-wav2vec2-commonvoice-en_common_voice_clean_median</strong> at: <a href='https://wandb.ai/micheleyin/ASR%20WER%20Test%20Local%20asr-wav2vec2-commonvoice-en/runs/e9nwwyix' target=\"_blank\">https://wandb.ai/micheleyin/ASR%20WER%20Test%20Local%20asr-wav2vec2-commonvoice-en/runs/e9nwwyix</a><br/>Synced 5 W&B file(s), 0 media file(s), 0 artifact file(s) and 0 other file(s)"
      ],
      "text/plain": [
       "<IPython.core.display.HTML object>"
      ]
     },
     "metadata": {},
     "output_type": "display_data"
    },
    {
     "data": {
      "text/html": [
       "Find logs at: <code>./wandb/run-20230223_124945-e9nwwyix/logs</code>"
      ],
      "text/plain": [
       "<IPython.core.display.HTML object>"
      ]
     },
     "metadata": {},
     "output_type": "display_data"
    },
    {
     "data": {
      "application/vnd.jupyter.widget-view+json": {
       "model_id": "fc1b6538985043e79381bc0b8f257bae",
       "version_major": 2,
       "version_minor": 0
      },
      "text/plain": [
       "VBox(children=(Label(value='Waiting for wandb.init()...\\r'), FloatProgress(value=0.016751372216579814, max=1.0…"
      ]
     },
     "metadata": {},
     "output_type": "display_data"
    },
    {
     "data": {
      "text/html": [
       "Tracking run with wandb version 0.13.10"
      ],
      "text/plain": [
       "<IPython.core.display.HTML object>"
      ]
     },
     "metadata": {},
     "output_type": "display_data"
    },
    {
     "data": {
      "text/html": [
       "Run data is saved locally in <code>/Users/micheleyin/Documents/AI_DBMovie/asr/wandb/run-20230223_125003-nm2bvxsl</code>"
      ],
      "text/plain": [
       "<IPython.core.display.HTML object>"
      ]
     },
     "metadata": {},
     "output_type": "display_data"
    },
    {
     "data": {
      "text/html": [
       "Syncing run <strong><a href='https://wandb.ai/micheleyin/ASR%20WER%20Test%20Local%20asr-wav2vec2-commonvoice-en/runs/nm2bvxsl' target=\"_blank\">Local asr-wav2vec2-commonvoice-en_common_voice_clean_min</a></strong> to <a href='https://wandb.ai/micheleyin/ASR%20WER%20Test%20Local%20asr-wav2vec2-commonvoice-en' target=\"_blank\">Weights & Biases</a> (<a href='https://wandb.me/run' target=\"_blank\">docs</a>)<br/>"
      ],
      "text/plain": [
       "<IPython.core.display.HTML object>"
      ]
     },
     "metadata": {},
     "output_type": "display_data"
    },
    {
     "data": {
      "text/html": [
       " View project at <a href='https://wandb.ai/micheleyin/ASR%20WER%20Test%20Local%20asr-wav2vec2-commonvoice-en' target=\"_blank\">https://wandb.ai/micheleyin/ASR%20WER%20Test%20Local%20asr-wav2vec2-commonvoice-en</a>"
      ],
      "text/plain": [
       "<IPython.core.display.HTML object>"
      ]
     },
     "metadata": {},
     "output_type": "display_data"
    },
    {
     "data": {
      "text/html": [
       " View run at <a href='https://wandb.ai/micheleyin/ASR%20WER%20Test%20Local%20asr-wav2vec2-commonvoice-en/runs/nm2bvxsl' target=\"_blank\">https://wandb.ai/micheleyin/ASR%20WER%20Test%20Local%20asr-wav2vec2-commonvoice-en/runs/nm2bvxsl</a>"
      ],
      "text/plain": [
       "<IPython.core.display.HTML object>"
      ]
     },
     "metadata": {},
     "output_type": "display_data"
    },
    {
     "data": {
      "text/html": [
       "Waiting for W&B process to finish... <strong style=\"color:green\">(success).</strong>"
      ],
      "text/plain": [
       "<IPython.core.display.HTML object>"
      ]
     },
     "metadata": {},
     "output_type": "display_data"
    },
    {
     "data": {
      "text/html": [
       "<style>\n",
       "    table.wandb td:nth-child(1) { padding: 0 10px; text-align: left ; width: auto;} td:nth-child(2) {text-align: left ; width: 100%}\n",
       "    .wandb-row { display: flex; flex-direction: row; flex-wrap: wrap; justify-content: flex-start; width: 100% }\n",
       "    .wandb-col { display: flex; flex-direction: column; flex-basis: 100%; flex: 1; padding: 10px; }\n",
       "    </style>\n",
       "<div class=\"wandb-row\"><div class=\"wandb-col\"><h3>Run history:</h3><br/><table class=\"wandb\"><tr><td>Average time per sample</td><td>▁</td></tr><tr><td>Tokens per second</td><td>▁</td></tr><tr><td>Total samples</td><td>▁</td></tr><tr><td>Total time</td><td>▁</td></tr><tr><td>Total tokens</td><td>▁</td></tr><tr><td>WER</td><td>▁</td></tr></table><br/></div><div class=\"wandb-col\"><h3>Run summary:</h3><br/><table class=\"wandb\"><tr><td>Average time per sample</td><td>3.44711</td></tr><tr><td>Tokens per second</td><td>3.09438</td></tr><tr><td>Total samples</td><td>210</td></tr><tr><td>Total time</td><td>10.34132</td></tr><tr><td>Total tokens</td><td>32</td></tr><tr><td>WER</td><td>0.27586</td></tr></table><br/></div></div>"
      ],
      "text/plain": [
       "<IPython.core.display.HTML object>"
      ]
     },
     "metadata": {},
     "output_type": "display_data"
    },
    {
     "data": {
      "text/html": [
       " View run <strong style=\"color:#cdcd00\">Local asr-wav2vec2-commonvoice-en_common_voice_clean_min</strong> at: <a href='https://wandb.ai/micheleyin/ASR%20WER%20Test%20Local%20asr-wav2vec2-commonvoice-en/runs/nm2bvxsl' target=\"_blank\">https://wandb.ai/micheleyin/ASR%20WER%20Test%20Local%20asr-wav2vec2-commonvoice-en/runs/nm2bvxsl</a><br/>Synced 5 W&B file(s), 0 media file(s), 0 artifact file(s) and 0 other file(s)"
      ],
      "text/plain": [
       "<IPython.core.display.HTML object>"
      ]
     },
     "metadata": {},
     "output_type": "display_data"
    },
    {
     "data": {
      "text/html": [
       "Find logs at: <code>./wandb/run-20230223_125003-nm2bvxsl/logs</code>"
      ],
      "text/plain": [
       "<IPython.core.display.HTML object>"
      ]
     },
     "metadata": {},
     "output_type": "display_data"
    },
    {
     "data": {
      "application/vnd.jupyter.widget-view+json": {
       "model_id": "26b7b5af13324da1b2d501d77a9c6920",
       "version_major": 2,
       "version_minor": 0
      },
      "text/plain": [
       "VBox(children=(Label(value='Waiting for wandb.init()...\\r'), FloatProgress(value=0.016752400700109624, max=1.0…"
      ]
     },
     "metadata": {},
     "output_type": "display_data"
    },
    {
     "data": {
      "text/html": [
       "Tracking run with wandb version 0.13.10"
      ],
      "text/plain": [
       "<IPython.core.display.HTML object>"
      ]
     },
     "metadata": {},
     "output_type": "display_data"
    },
    {
     "data": {
      "text/html": [
       "Run data is saved locally in <code>/Users/micheleyin/Documents/AI_DBMovie/asr/wandb/run-20230223_125029-gbc3rkza</code>"
      ],
      "text/plain": [
       "<IPython.core.display.HTML object>"
      ]
     },
     "metadata": {},
     "output_type": "display_data"
    },
    {
     "data": {
      "text/html": [
       "Syncing run <strong><a href='https://wandb.ai/micheleyin/ASR%20WER%20Test%20Local%20asr-wav2vec2-commonvoice-en/runs/gbc3rkza' target=\"_blank\">Local asr-wav2vec2-commonvoice-en_common_voice_clean_max</a></strong> to <a href='https://wandb.ai/micheleyin/ASR%20WER%20Test%20Local%20asr-wav2vec2-commonvoice-en' target=\"_blank\">Weights & Biases</a> (<a href='https://wandb.me/run' target=\"_blank\">docs</a>)<br/>"
      ],
      "text/plain": [
       "<IPython.core.display.HTML object>"
      ]
     },
     "metadata": {},
     "output_type": "display_data"
    },
    {
     "data": {
      "text/html": [
       " View project at <a href='https://wandb.ai/micheleyin/ASR%20WER%20Test%20Local%20asr-wav2vec2-commonvoice-en' target=\"_blank\">https://wandb.ai/micheleyin/ASR%20WER%20Test%20Local%20asr-wav2vec2-commonvoice-en</a>"
      ],
      "text/plain": [
       "<IPython.core.display.HTML object>"
      ]
     },
     "metadata": {},
     "output_type": "display_data"
    },
    {
     "data": {
      "text/html": [
       " View run at <a href='https://wandb.ai/micheleyin/ASR%20WER%20Test%20Local%20asr-wav2vec2-commonvoice-en/runs/gbc3rkza' target=\"_blank\">https://wandb.ai/micheleyin/ASR%20WER%20Test%20Local%20asr-wav2vec2-commonvoice-en/runs/gbc3rkza</a>"
      ],
      "text/plain": [
       "<IPython.core.display.HTML object>"
      ]
     },
     "metadata": {},
     "output_type": "display_data"
    },
    {
     "data": {
      "text/html": [
       "Waiting for W&B process to finish... <strong style=\"color:green\">(success).</strong>"
      ],
      "text/plain": [
       "<IPython.core.display.HTML object>"
      ]
     },
     "metadata": {},
     "output_type": "display_data"
    },
    {
     "data": {
      "application/vnd.jupyter.widget-view+json": {
       "model_id": "271efd934ef043c0b9356ac3fb7ed767",
       "version_major": 2,
       "version_minor": 0
      },
      "text/plain": [
       "VBox(children=(Label(value='0.010 MB of 0.014 MB uploaded (0.000 MB deduped)\\r'), FloatProgress(value=0.723318…"
      ]
     },
     "metadata": {},
     "output_type": "display_data"
    },
    {
     "data": {
      "text/html": [
       "<style>\n",
       "    table.wandb td:nth-child(1) { padding: 0 10px; text-align: left ; width: auto;} td:nth-child(2) {text-align: left ; width: 100%}\n",
       "    .wandb-row { display: flex; flex-direction: row; flex-wrap: wrap; justify-content: flex-start; width: 100% }\n",
       "    .wandb-col { display: flex; flex-direction: column; flex-basis: 100%; flex: 1; padding: 10px; }\n",
       "    </style>\n",
       "<div class=\"wandb-row\"><div class=\"wandb-col\"><h3>Run history:</h3><br/><table class=\"wandb\"><tr><td>Average time per sample</td><td>▁</td></tr><tr><td>Tokens per second</td><td>▁</td></tr><tr><td>Total samples</td><td>▁</td></tr><tr><td>Total time</td><td>▁</td></tr><tr><td>Total tokens</td><td>▁</td></tr><tr><td>WER</td><td>▁</td></tr></table><br/></div><div class=\"wandb-col\"><h3>Run summary:</h3><br/><table class=\"wandb\"><tr><td>Average time per sample</td><td>4.60713</td></tr><tr><td>Tokens per second</td><td>12.51682</td></tr><tr><td>Total samples</td><td>210</td></tr><tr><td>Total time</td><td>13.8214</td></tr><tr><td>Total tokens</td><td>173</td></tr><tr><td>WER</td><td>0.14545</td></tr></table><br/></div></div>"
      ],
      "text/plain": [
       "<IPython.core.display.HTML object>"
      ]
     },
     "metadata": {},
     "output_type": "display_data"
    },
    {
     "data": {
      "text/html": [
       " View run <strong style=\"color:#cdcd00\">Local asr-wav2vec2-commonvoice-en_common_voice_clean_max</strong> at: <a href='https://wandb.ai/micheleyin/ASR%20WER%20Test%20Local%20asr-wav2vec2-commonvoice-en/runs/gbc3rkza' target=\"_blank\">https://wandb.ai/micheleyin/ASR%20WER%20Test%20Local%20asr-wav2vec2-commonvoice-en/runs/gbc3rkza</a><br/>Synced 5 W&B file(s), 0 media file(s), 0 artifact file(s) and 0 other file(s)"
      ],
      "text/plain": [
       "<IPython.core.display.HTML object>"
      ]
     },
     "metadata": {},
     "output_type": "display_data"
    },
    {
     "data": {
      "text/html": [
       "Find logs at: <code>./wandb/run-20230223_125029-gbc3rkza/logs</code>"
      ],
      "text/plain": [
       "<IPython.core.display.HTML object>"
      ]
     },
     "metadata": {},
     "output_type": "display_data"
    },
    {
     "data": {
      "application/vnd.jupyter.widget-view+json": {
       "model_id": "283adbf6ca8940c499248d7d0b4ce7e3",
       "version_major": 2,
       "version_minor": 0
      },
      "text/plain": [
       "VBox(children=(Label(value='Waiting for wandb.init()...\\r'), FloatProgress(value=0.016751460416708143, max=1.0…"
      ]
     },
     "metadata": {},
     "output_type": "display_data"
    },
    {
     "data": {
      "text/html": [
       "Tracking run with wandb version 0.13.10"
      ],
      "text/plain": [
       "<IPython.core.display.HTML object>"
      ]
     },
     "metadata": {},
     "output_type": "display_data"
    },
    {
     "data": {
      "text/html": [
       "Run data is saved locally in <code>/Users/micheleyin/Documents/AI_DBMovie/asr/wandb/run-20230223_125052-0jdrj69y</code>"
      ],
      "text/plain": [
       "<IPython.core.display.HTML object>"
      ]
     },
     "metadata": {},
     "output_type": "display_data"
    },
    {
     "data": {
      "text/html": [
       "Syncing run <strong><a href='https://wandb.ai/micheleyin/ASR%20WER%20Test%20Local%20asr-wav2vec2-commonvoice-en/runs/0jdrj69y' target=\"_blank\">Local asr-wav2vec2-commonvoice-en_common_voice_other_median</a></strong> to <a href='https://wandb.ai/micheleyin/ASR%20WER%20Test%20Local%20asr-wav2vec2-commonvoice-en' target=\"_blank\">Weights & Biases</a> (<a href='https://wandb.me/run' target=\"_blank\">docs</a>)<br/>"
      ],
      "text/plain": [
       "<IPython.core.display.HTML object>"
      ]
     },
     "metadata": {},
     "output_type": "display_data"
    },
    {
     "data": {
      "text/html": [
       " View project at <a href='https://wandb.ai/micheleyin/ASR%20WER%20Test%20Local%20asr-wav2vec2-commonvoice-en' target=\"_blank\">https://wandb.ai/micheleyin/ASR%20WER%20Test%20Local%20asr-wav2vec2-commonvoice-en</a>"
      ],
      "text/plain": [
       "<IPython.core.display.HTML object>"
      ]
     },
     "metadata": {},
     "output_type": "display_data"
    },
    {
     "data": {
      "text/html": [
       " View run at <a href='https://wandb.ai/micheleyin/ASR%20WER%20Test%20Local%20asr-wav2vec2-commonvoice-en/runs/0jdrj69y' target=\"_blank\">https://wandb.ai/micheleyin/ASR%20WER%20Test%20Local%20asr-wav2vec2-commonvoice-en/runs/0jdrj69y</a>"
      ],
      "text/plain": [
       "<IPython.core.display.HTML object>"
      ]
     },
     "metadata": {},
     "output_type": "display_data"
    },
    {
     "data": {
      "text/html": [
       "Waiting for W&B process to finish... <strong style=\"color:green\">(success).</strong>"
      ],
      "text/plain": [
       "<IPython.core.display.HTML object>"
      ]
     },
     "metadata": {},
     "output_type": "display_data"
    },
    {
     "data": {
      "application/vnd.jupyter.widget-view+json": {
       "model_id": "fe5d3122f3884e39930d46d9b5e2100c",
       "version_major": 2,
       "version_minor": 0
      },
      "text/plain": [
       "VBox(children=(Label(value='0.010 MB of 0.014 MB uploaded (0.000 MB deduped)\\r'), FloatProgress(value=0.743958…"
      ]
     },
     "metadata": {},
     "output_type": "display_data"
    },
    {
     "data": {
      "text/html": [
       "<style>\n",
       "    table.wandb td:nth-child(1) { padding: 0 10px; text-align: left ; width: auto;} td:nth-child(2) {text-align: left ; width: 100%}\n",
       "    .wandb-row { display: flex; flex-direction: row; flex-wrap: wrap; justify-content: flex-start; width: 100% }\n",
       "    .wandb-col { display: flex; flex-direction: column; flex-basis: 100%; flex: 1; padding: 10px; }\n",
       "    </style>\n",
       "<div class=\"wandb-row\"><div class=\"wandb-col\"><h3>Run history:</h3><br/><table class=\"wandb\"><tr><td>Average time per sample</td><td>▁</td></tr><tr><td>Tokens per second</td><td>▁</td></tr><tr><td>Total samples</td><td>▁</td></tr><tr><td>Total time</td><td>▁</td></tr><tr><td>Total tokens</td><td>▁</td></tr><tr><td>WER</td><td>▁</td></tr></table><br/></div><div class=\"wandb-col\"><h3>Run summary:</h3><br/><table class=\"wandb\"><tr><td>Average time per sample</td><td>2.6279</td></tr><tr><td>Tokens per second</td><td>12.6844</td></tr><tr><td>Total samples</td><td>210</td></tr><tr><td>Total time</td><td>7.8837</td></tr><tr><td>Total tokens</td><td>100</td></tr><tr><td>WER</td><td>0.12871</td></tr></table><br/></div></div>"
      ],
      "text/plain": [
       "<IPython.core.display.HTML object>"
      ]
     },
     "metadata": {},
     "output_type": "display_data"
    },
    {
     "data": {
      "text/html": [
       " View run <strong style=\"color:#cdcd00\">Local asr-wav2vec2-commonvoice-en_common_voice_other_median</strong> at: <a href='https://wandb.ai/micheleyin/ASR%20WER%20Test%20Local%20asr-wav2vec2-commonvoice-en/runs/0jdrj69y' target=\"_blank\">https://wandb.ai/micheleyin/ASR%20WER%20Test%20Local%20asr-wav2vec2-commonvoice-en/runs/0jdrj69y</a><br/>Synced 5 W&B file(s), 0 media file(s), 0 artifact file(s) and 0 other file(s)"
      ],
      "text/plain": [
       "<IPython.core.display.HTML object>"
      ]
     },
     "metadata": {},
     "output_type": "display_data"
    },
    {
     "data": {
      "text/html": [
       "Find logs at: <code>./wandb/run-20230223_125052-0jdrj69y/logs</code>"
      ],
      "text/plain": [
       "<IPython.core.display.HTML object>"
      ]
     },
     "metadata": {},
     "output_type": "display_data"
    },
    {
     "data": {
      "application/vnd.jupyter.widget-view+json": {
       "model_id": "3f23193af49e419794d0e7cdc5b8a21f",
       "version_major": 2,
       "version_minor": 0
      },
      "text/plain": [
       "VBox(children=(Label(value='Waiting for wandb.init()...\\r'), FloatProgress(value=0.016751278466836085, max=1.0…"
      ]
     },
     "metadata": {},
     "output_type": "display_data"
    },
    {
     "data": {
      "text/html": [
       "Tracking run with wandb version 0.13.10"
      ],
      "text/plain": [
       "<IPython.core.display.HTML object>"
      ]
     },
     "metadata": {},
     "output_type": "display_data"
    },
    {
     "data": {
      "text/html": [
       "Run data is saved locally in <code>/Users/micheleyin/Documents/AI_DBMovie/asr/wandb/run-20230223_125109-h3g1ib9u</code>"
      ],
      "text/plain": [
       "<IPython.core.display.HTML object>"
      ]
     },
     "metadata": {},
     "output_type": "display_data"
    },
    {
     "data": {
      "text/html": [
       "Syncing run <strong><a href='https://wandb.ai/micheleyin/ASR%20WER%20Test%20Local%20asr-wav2vec2-commonvoice-en/runs/h3g1ib9u' target=\"_blank\">Local asr-wav2vec2-commonvoice-en_common_voice_other_min</a></strong> to <a href='https://wandb.ai/micheleyin/ASR%20WER%20Test%20Local%20asr-wav2vec2-commonvoice-en' target=\"_blank\">Weights & Biases</a> (<a href='https://wandb.me/run' target=\"_blank\">docs</a>)<br/>"
      ],
      "text/plain": [
       "<IPython.core.display.HTML object>"
      ]
     },
     "metadata": {},
     "output_type": "display_data"
    },
    {
     "data": {
      "text/html": [
       " View project at <a href='https://wandb.ai/micheleyin/ASR%20WER%20Test%20Local%20asr-wav2vec2-commonvoice-en' target=\"_blank\">https://wandb.ai/micheleyin/ASR%20WER%20Test%20Local%20asr-wav2vec2-commonvoice-en</a>"
      ],
      "text/plain": [
       "<IPython.core.display.HTML object>"
      ]
     },
     "metadata": {},
     "output_type": "display_data"
    },
    {
     "data": {
      "text/html": [
       " View run at <a href='https://wandb.ai/micheleyin/ASR%20WER%20Test%20Local%20asr-wav2vec2-commonvoice-en/runs/h3g1ib9u' target=\"_blank\">https://wandb.ai/micheleyin/ASR%20WER%20Test%20Local%20asr-wav2vec2-commonvoice-en/runs/h3g1ib9u</a>"
      ],
      "text/plain": [
       "<IPython.core.display.HTML object>"
      ]
     },
     "metadata": {},
     "output_type": "display_data"
    },
    {
     "data": {
      "text/html": [
       "Waiting for W&B process to finish... <strong style=\"color:green\">(success).</strong>"
      ],
      "text/plain": [
       "<IPython.core.display.HTML object>"
      ]
     },
     "metadata": {},
     "output_type": "display_data"
    },
    {
     "data": {
      "application/vnd.jupyter.widget-view+json": {
       "model_id": "6fdf1f8366e84377917dfb8e9f8b2fcf",
       "version_major": 2,
       "version_minor": 0
      },
      "text/plain": [
       "VBox(children=(Label(value='0.001 MB of 0.014 MB uploaded (0.000 MB deduped)\\r'), FloatProgress(value=0.069918…"
      ]
     },
     "metadata": {},
     "output_type": "display_data"
    },
    {
     "data": {
      "text/html": [
       "<style>\n",
       "    table.wandb td:nth-child(1) { padding: 0 10px; text-align: left ; width: auto;} td:nth-child(2) {text-align: left ; width: 100%}\n",
       "    .wandb-row { display: flex; flex-direction: row; flex-wrap: wrap; justify-content: flex-start; width: 100% }\n",
       "    .wandb-col { display: flex; flex-direction: column; flex-basis: 100%; flex: 1; padding: 10px; }\n",
       "    </style>\n",
       "<div class=\"wandb-row\"><div class=\"wandb-col\"><h3>Run history:</h3><br/><table class=\"wandb\"><tr><td>Average time per sample</td><td>▁</td></tr><tr><td>Tokens per second</td><td>▁</td></tr><tr><td>Total samples</td><td>▁</td></tr><tr><td>Total time</td><td>▁</td></tr><tr><td>Total tokens</td><td>▁</td></tr><tr><td>WER</td><td>▁</td></tr></table><br/></div><div class=\"wandb-col\"><h3>Run summary:</h3><br/><table class=\"wandb\"><tr><td>Average time per sample</td><td>1.46124</td></tr><tr><td>Tokens per second</td><td>8.21218</td></tr><tr><td>Total samples</td><td>210</td></tr><tr><td>Total time</td><td>4.38373</td></tr><tr><td>Total tokens</td><td>36</td></tr><tr><td>WER</td><td>0.35897</td></tr></table><br/></div></div>"
      ],
      "text/plain": [
       "<IPython.core.display.HTML object>"
      ]
     },
     "metadata": {},
     "output_type": "display_data"
    },
    {
     "data": {
      "text/html": [
       " View run <strong style=\"color:#cdcd00\">Local asr-wav2vec2-commonvoice-en_common_voice_other_min</strong> at: <a href='https://wandb.ai/micheleyin/ASR%20WER%20Test%20Local%20asr-wav2vec2-commonvoice-en/runs/h3g1ib9u' target=\"_blank\">https://wandb.ai/micheleyin/ASR%20WER%20Test%20Local%20asr-wav2vec2-commonvoice-en/runs/h3g1ib9u</a><br/>Synced 5 W&B file(s), 0 media file(s), 0 artifact file(s) and 0 other file(s)"
      ],
      "text/plain": [
       "<IPython.core.display.HTML object>"
      ]
     },
     "metadata": {},
     "output_type": "display_data"
    },
    {
     "data": {
      "text/html": [
       "Find logs at: <code>./wandb/run-20230223_125109-h3g1ib9u/logs</code>"
      ],
      "text/plain": [
       "<IPython.core.display.HTML object>"
      ]
     },
     "metadata": {},
     "output_type": "display_data"
    },
    {
     "data": {
      "application/vnd.jupyter.widget-view+json": {
       "model_id": "c2265ec4e7e5456c91e62cf586276487",
       "version_major": 2,
       "version_minor": 0
      },
      "text/plain": [
       "VBox(children=(Label(value='Waiting for wandb.init()...\\r'), FloatProgress(value=0.016739940283393175, max=1.0…"
      ]
     },
     "metadata": {},
     "output_type": "display_data"
    },
    {
     "data": {
      "text/html": [
       "Tracking run with wandb version 0.13.10"
      ],
      "text/plain": [
       "<IPython.core.display.HTML object>"
      ]
     },
     "metadata": {},
     "output_type": "display_data"
    },
    {
     "data": {
      "text/html": [
       "Run data is saved locally in <code>/Users/micheleyin/Documents/AI_DBMovie/asr/wandb/run-20230223_125122-zd9ceft4</code>"
      ],
      "text/plain": [
       "<IPython.core.display.HTML object>"
      ]
     },
     "metadata": {},
     "output_type": "display_data"
    },
    {
     "data": {
      "text/html": [
       "Syncing run <strong><a href='https://wandb.ai/micheleyin/ASR%20WER%20Test%20Local%20asr-wav2vec2-commonvoice-en/runs/zd9ceft4' target=\"_blank\">Local asr-wav2vec2-commonvoice-en_common_voice_other_max</a></strong> to <a href='https://wandb.ai/micheleyin/ASR%20WER%20Test%20Local%20asr-wav2vec2-commonvoice-en' target=\"_blank\">Weights & Biases</a> (<a href='https://wandb.me/run' target=\"_blank\">docs</a>)<br/>"
      ],
      "text/plain": [
       "<IPython.core.display.HTML object>"
      ]
     },
     "metadata": {},
     "output_type": "display_data"
    },
    {
     "data": {
      "text/html": [
       " View project at <a href='https://wandb.ai/micheleyin/ASR%20WER%20Test%20Local%20asr-wav2vec2-commonvoice-en' target=\"_blank\">https://wandb.ai/micheleyin/ASR%20WER%20Test%20Local%20asr-wav2vec2-commonvoice-en</a>"
      ],
      "text/plain": [
       "<IPython.core.display.HTML object>"
      ]
     },
     "metadata": {},
     "output_type": "display_data"
    },
    {
     "data": {
      "text/html": [
       " View run at <a href='https://wandb.ai/micheleyin/ASR%20WER%20Test%20Local%20asr-wav2vec2-commonvoice-en/runs/zd9ceft4' target=\"_blank\">https://wandb.ai/micheleyin/ASR%20WER%20Test%20Local%20asr-wav2vec2-commonvoice-en/runs/zd9ceft4</a>"
      ],
      "text/plain": [
       "<IPython.core.display.HTML object>"
      ]
     },
     "metadata": {},
     "output_type": "display_data"
    },
    {
     "data": {
      "text/html": [
       "Waiting for W&B process to finish... <strong style=\"color:green\">(success).</strong>"
      ],
      "text/plain": [
       "<IPython.core.display.HTML object>"
      ]
     },
     "metadata": {},
     "output_type": "display_data"
    },
    {
     "data": {
      "application/vnd.jupyter.widget-view+json": {
       "model_id": "28a4b82056a7461f9b0b1fcd51780e04",
       "version_major": 2,
       "version_minor": 0
      },
      "text/plain": [
       "VBox(children=(Label(value='0.001 MB of 0.005 MB uploaded (0.000 MB deduped)\\r'), FloatProgress(value=0.173524…"
      ]
     },
     "metadata": {},
     "output_type": "display_data"
    },
    {
     "data": {
      "text/html": [
       "<style>\n",
       "    table.wandb td:nth-child(1) { padding: 0 10px; text-align: left ; width: auto;} td:nth-child(2) {text-align: left ; width: 100%}\n",
       "    .wandb-row { display: flex; flex-direction: row; flex-wrap: wrap; justify-content: flex-start; width: 100% }\n",
       "    .wandb-col { display: flex; flex-direction: column; flex-basis: 100%; flex: 1; padding: 10px; }\n",
       "    </style>\n",
       "<div class=\"wandb-row\"><div class=\"wandb-col\"><h3>Run history:</h3><br/><table class=\"wandb\"><tr><td>Average time per sample</td><td>▁</td></tr><tr><td>Tokens per second</td><td>▁</td></tr><tr><td>Total samples</td><td>▁</td></tr><tr><td>Total time</td><td>▁</td></tr><tr><td>Total tokens</td><td>▁</td></tr><tr><td>WER</td><td>▁</td></tr></table><br/></div><div class=\"wandb-col\"><h3>Run summary:</h3><br/><table class=\"wandb\"><tr><td>Average time per sample</td><td>3.82731</td></tr><tr><td>Tokens per second</td><td>13.3253</td></tr><tr><td>Total samples</td><td>210</td></tr><tr><td>Total time</td><td>11.48192</td></tr><tr><td>Total tokens</td><td>153</td></tr><tr><td>WER</td><td>0.18367</td></tr></table><br/></div></div>"
      ],
      "text/plain": [
       "<IPython.core.display.HTML object>"
      ]
     },
     "metadata": {},
     "output_type": "display_data"
    },
    {
     "data": {
      "text/html": [
       " View run <strong style=\"color:#cdcd00\">Local asr-wav2vec2-commonvoice-en_common_voice_other_max</strong> at: <a href='https://wandb.ai/micheleyin/ASR%20WER%20Test%20Local%20asr-wav2vec2-commonvoice-en/runs/zd9ceft4' target=\"_blank\">https://wandb.ai/micheleyin/ASR%20WER%20Test%20Local%20asr-wav2vec2-commonvoice-en/runs/zd9ceft4</a><br/>Synced 5 W&B file(s), 0 media file(s), 0 artifact file(s) and 0 other file(s)"
      ],
      "text/plain": [
       "<IPython.core.display.HTML object>"
      ]
     },
     "metadata": {},
     "output_type": "display_data"
    },
    {
     "data": {
      "text/html": [
       "Find logs at: <code>./wandb/run-20230223_125122-zd9ceft4/logs</code>"
      ],
      "text/plain": [
       "<IPython.core.display.HTML object>"
      ]
     },
     "metadata": {},
     "output_type": "display_data"
    },
    {
     "data": {
      "application/vnd.jupyter.widget-view+json": {
       "model_id": "048bb334a3cc4325a8bcdd0675af61ea",
       "version_major": 2,
       "version_minor": 0
      },
      "text/plain": [
       "VBox(children=(Label(value='Waiting for wandb.init()...\\r'), FloatProgress(value=0.01675124653338571, max=1.0)…"
      ]
     },
     "metadata": {},
     "output_type": "display_data"
    },
    {
     "data": {
      "text/html": [
       "Tracking run with wandb version 0.13.10"
      ],
      "text/plain": [
       "<IPython.core.display.HTML object>"
      ]
     },
     "metadata": {},
     "output_type": "display_data"
    },
    {
     "data": {
      "text/html": [
       "Run data is saved locally in <code>/Users/micheleyin/Documents/AI_DBMovie/asr/wandb/run-20230223_125154-ghjutvc1</code>"
      ],
      "text/plain": [
       "<IPython.core.display.HTML object>"
      ]
     },
     "metadata": {},
     "output_type": "display_data"
    },
    {
     "data": {
      "text/html": [
       "Syncing run <strong><a href='https://wandb.ai/micheleyin/ASR%20WER%20Test%20Local%20asr-wav2vec2-commonvoice-en/runs/ghjutvc1' target=\"_blank\">Local asr-wav2vec2-commonvoice-en_earnings22_clean_median</a></strong> to <a href='https://wandb.ai/micheleyin/ASR%20WER%20Test%20Local%20asr-wav2vec2-commonvoice-en' target=\"_blank\">Weights & Biases</a> (<a href='https://wandb.me/run' target=\"_blank\">docs</a>)<br/>"
      ],
      "text/plain": [
       "<IPython.core.display.HTML object>"
      ]
     },
     "metadata": {},
     "output_type": "display_data"
    },
    {
     "data": {
      "text/html": [
       " View project at <a href='https://wandb.ai/micheleyin/ASR%20WER%20Test%20Local%20asr-wav2vec2-commonvoice-en' target=\"_blank\">https://wandb.ai/micheleyin/ASR%20WER%20Test%20Local%20asr-wav2vec2-commonvoice-en</a>"
      ],
      "text/plain": [
       "<IPython.core.display.HTML object>"
      ]
     },
     "metadata": {},
     "output_type": "display_data"
    },
    {
     "data": {
      "text/html": [
       " View run at <a href='https://wandb.ai/micheleyin/ASR%20WER%20Test%20Local%20asr-wav2vec2-commonvoice-en/runs/ghjutvc1' target=\"_blank\">https://wandb.ai/micheleyin/ASR%20WER%20Test%20Local%20asr-wav2vec2-commonvoice-en/runs/ghjutvc1</a>"
      ],
      "text/plain": [
       "<IPython.core.display.HTML object>"
      ]
     },
     "metadata": {},
     "output_type": "display_data"
    },
    {
     "data": {
      "text/html": [
       "Waiting for W&B process to finish... <strong style=\"color:green\">(success).</strong>"
      ],
      "text/plain": [
       "<IPython.core.display.HTML object>"
      ]
     },
     "metadata": {},
     "output_type": "display_data"
    },
    {
     "data": {
      "application/vnd.jupyter.widget-view+json": {
       "model_id": "ee1da359f1ae417b9390b5ddb726d908",
       "version_major": 2,
       "version_minor": 0
      },
      "text/plain": [
       "VBox(children=(Label(value='0.001 MB of 0.005 MB uploaded (0.000 MB deduped)\\r'), FloatProgress(value=0.173524…"
      ]
     },
     "metadata": {},
     "output_type": "display_data"
    },
    {
     "data": {
      "text/html": [
       "<style>\n",
       "    table.wandb td:nth-child(1) { padding: 0 10px; text-align: left ; width: auto;} td:nth-child(2) {text-align: left ; width: 100%}\n",
       "    .wandb-row { display: flex; flex-direction: row; flex-wrap: wrap; justify-content: flex-start; width: 100% }\n",
       "    .wandb-col { display: flex; flex-direction: column; flex-basis: 100%; flex: 1; padding: 10px; }\n",
       "    </style>\n",
       "<div class=\"wandb-row\"><div class=\"wandb-col\"><h3>Run history:</h3><br/><table class=\"wandb\"><tr><td>Average time per sample</td><td>▁</td></tr><tr><td>Tokens per second</td><td>▁</td></tr><tr><td>Total samples</td><td>▁</td></tr><tr><td>Total time</td><td>▁</td></tr><tr><td>Total tokens</td><td>▁</td></tr><tr><td>WER</td><td>▁</td></tr></table><br/></div><div class=\"wandb-col\"><h3>Run summary:</h3><br/><table class=\"wandb\"><tr><td>Average time per sample</td><td>3.28091</td></tr><tr><td>Tokens per second</td><td>18.4908</td></tr><tr><td>Total samples</td><td>210</td></tr><tr><td>Total time</td><td>9.84273</td></tr><tr><td>Total tokens</td><td>182</td></tr><tr><td>WER</td><td>0.27545</td></tr></table><br/></div></div>"
      ],
      "text/plain": [
       "<IPython.core.display.HTML object>"
      ]
     },
     "metadata": {},
     "output_type": "display_data"
    },
    {
     "data": {
      "text/html": [
       " View run <strong style=\"color:#cdcd00\">Local asr-wav2vec2-commonvoice-en_earnings22_clean_median</strong> at: <a href='https://wandb.ai/micheleyin/ASR%20WER%20Test%20Local%20asr-wav2vec2-commonvoice-en/runs/ghjutvc1' target=\"_blank\">https://wandb.ai/micheleyin/ASR%20WER%20Test%20Local%20asr-wav2vec2-commonvoice-en/runs/ghjutvc1</a><br/>Synced 5 W&B file(s), 0 media file(s), 0 artifact file(s) and 0 other file(s)"
      ],
      "text/plain": [
       "<IPython.core.display.HTML object>"
      ]
     },
     "metadata": {},
     "output_type": "display_data"
    },
    {
     "data": {
      "text/html": [
       "Find logs at: <code>./wandb/run-20230223_125154-ghjutvc1/logs</code>"
      ],
      "text/plain": [
       "<IPython.core.display.HTML object>"
      ]
     },
     "metadata": {},
     "output_type": "display_data"
    },
    {
     "data": {
      "application/vnd.jupyter.widget-view+json": {
       "model_id": "498fca8a860a4bccaad1cd2955f8d9c3",
       "version_major": 2,
       "version_minor": 0
      },
      "text/plain": [
       "VBox(children=(Label(value='Waiting for wandb.init()...\\r'), FloatProgress(value=0.016722581250117705, max=1.0…"
      ]
     },
     "metadata": {},
     "output_type": "display_data"
    },
    {
     "data": {
      "text/html": [
       "Tracking run with wandb version 0.13.10"
      ],
      "text/plain": [
       "<IPython.core.display.HTML object>"
      ]
     },
     "metadata": {},
     "output_type": "display_data"
    },
    {
     "data": {
      "text/html": [
       "Run data is saved locally in <code>/Users/micheleyin/Documents/AI_DBMovie/asr/wandb/run-20230223_125214-sauvw10x</code>"
      ],
      "text/plain": [
       "<IPython.core.display.HTML object>"
      ]
     },
     "metadata": {},
     "output_type": "display_data"
    },
    {
     "data": {
      "text/html": [
       "Syncing run <strong><a href='https://wandb.ai/micheleyin/ASR%20WER%20Test%20Local%20asr-wav2vec2-commonvoice-en/runs/sauvw10x' target=\"_blank\">Local asr-wav2vec2-commonvoice-en_earnings22_clean_min</a></strong> to <a href='https://wandb.ai/micheleyin/ASR%20WER%20Test%20Local%20asr-wav2vec2-commonvoice-en' target=\"_blank\">Weights & Biases</a> (<a href='https://wandb.me/run' target=\"_blank\">docs</a>)<br/>"
      ],
      "text/plain": [
       "<IPython.core.display.HTML object>"
      ]
     },
     "metadata": {},
     "output_type": "display_data"
    },
    {
     "data": {
      "text/html": [
       " View project at <a href='https://wandb.ai/micheleyin/ASR%20WER%20Test%20Local%20asr-wav2vec2-commonvoice-en' target=\"_blank\">https://wandb.ai/micheleyin/ASR%20WER%20Test%20Local%20asr-wav2vec2-commonvoice-en</a>"
      ],
      "text/plain": [
       "<IPython.core.display.HTML object>"
      ]
     },
     "metadata": {},
     "output_type": "display_data"
    },
    {
     "data": {
      "text/html": [
       " View run at <a href='https://wandb.ai/micheleyin/ASR%20WER%20Test%20Local%20asr-wav2vec2-commonvoice-en/runs/sauvw10x' target=\"_blank\">https://wandb.ai/micheleyin/ASR%20WER%20Test%20Local%20asr-wav2vec2-commonvoice-en/runs/sauvw10x</a>"
      ],
      "text/plain": [
       "<IPython.core.display.HTML object>"
      ]
     },
     "metadata": {},
     "output_type": "display_data"
    },
    {
     "data": {
      "text/html": [
       "Waiting for W&B process to finish... <strong style=\"color:green\">(success).</strong>"
      ],
      "text/plain": [
       "<IPython.core.display.HTML object>"
      ]
     },
     "metadata": {},
     "output_type": "display_data"
    },
    {
     "data": {
      "application/vnd.jupyter.widget-view+json": {
       "model_id": "f7257ba134084159bf0a59f2628dc5fd",
       "version_major": 2,
       "version_minor": 0
      },
      "text/plain": [
       "VBox(children=(Label(value='0.001 MB of 0.014 MB uploaded (0.000 MB deduped)\\r'), FloatProgress(value=0.069857…"
      ]
     },
     "metadata": {},
     "output_type": "display_data"
    },
    {
     "data": {
      "text/html": [
       "<style>\n",
       "    table.wandb td:nth-child(1) { padding: 0 10px; text-align: left ; width: auto;} td:nth-child(2) {text-align: left ; width: 100%}\n",
       "    .wandb-row { display: flex; flex-direction: row; flex-wrap: wrap; justify-content: flex-start; width: 100% }\n",
       "    .wandb-col { display: flex; flex-direction: column; flex-basis: 100%; flex: 1; padding: 10px; }\n",
       "    </style>\n",
       "<div class=\"wandb-row\"><div class=\"wandb-col\"><h3>Run history:</h3><br/><table class=\"wandb\"><tr><td>Average time per sample</td><td>▁</td></tr><tr><td>Tokens per second</td><td>▁</td></tr><tr><td>Total samples</td><td>▁</td></tr><tr><td>Total time</td><td>▁</td></tr><tr><td>Total tokens</td><td>▁</td></tr><tr><td>WER</td><td>▁</td></tr></table><br/></div><div class=\"wandb-col\"><h3>Run summary:</h3><br/><table class=\"wandb\"><tr><td>Average time per sample</td><td>0.65233</td></tr><tr><td>Tokens per second</td><td>10.21973</td></tr><tr><td>Total samples</td><td>210</td></tr><tr><td>Total time</td><td>1.957</td></tr><tr><td>Total tokens</td><td>20</td></tr><tr><td>WER</td><td>0.6</td></tr></table><br/></div></div>"
      ],
      "text/plain": [
       "<IPython.core.display.HTML object>"
      ]
     },
     "metadata": {},
     "output_type": "display_data"
    },
    {
     "data": {
      "text/html": [
       " View run <strong style=\"color:#cdcd00\">Local asr-wav2vec2-commonvoice-en_earnings22_clean_min</strong> at: <a href='https://wandb.ai/micheleyin/ASR%20WER%20Test%20Local%20asr-wav2vec2-commonvoice-en/runs/sauvw10x' target=\"_blank\">https://wandb.ai/micheleyin/ASR%20WER%20Test%20Local%20asr-wav2vec2-commonvoice-en/runs/sauvw10x</a><br/>Synced 5 W&B file(s), 0 media file(s), 0 artifact file(s) and 0 other file(s)"
      ],
      "text/plain": [
       "<IPython.core.display.HTML object>"
      ]
     },
     "metadata": {},
     "output_type": "display_data"
    },
    {
     "data": {
      "text/html": [
       "Find logs at: <code>./wandb/run-20230223_125214-sauvw10x/logs</code>"
      ],
      "text/plain": [
       "<IPython.core.display.HTML object>"
      ]
     },
     "metadata": {},
     "output_type": "display_data"
    },
    {
     "data": {
      "application/vnd.jupyter.widget-view+json": {
       "model_id": "7fa48860e4cc4b87bf33802c6756a14f",
       "version_major": 2,
       "version_minor": 0
      },
      "text/plain": [
       "VBox(children=(Label(value='Waiting for wandb.init()...\\r'), FloatProgress(value=0.016751022216825125, max=1.0…"
      ]
     },
     "metadata": {},
     "output_type": "display_data"
    },
    {
     "data": {
      "text/html": [
       "Tracking run with wandb version 0.13.10"
      ],
      "text/plain": [
       "<IPython.core.display.HTML object>"
      ]
     },
     "metadata": {},
     "output_type": "display_data"
    },
    {
     "data": {
      "text/html": [
       "Run data is saved locally in <code>/Users/micheleyin/Documents/AI_DBMovie/asr/wandb/run-20230223_125226-2cxmmdsd</code>"
      ],
      "text/plain": [
       "<IPython.core.display.HTML object>"
      ]
     },
     "metadata": {},
     "output_type": "display_data"
    },
    {
     "data": {
      "text/html": [
       "Syncing run <strong><a href='https://wandb.ai/micheleyin/ASR%20WER%20Test%20Local%20asr-wav2vec2-commonvoice-en/runs/2cxmmdsd' target=\"_blank\">Local asr-wav2vec2-commonvoice-en_earnings22_clean_max</a></strong> to <a href='https://wandb.ai/micheleyin/ASR%20WER%20Test%20Local%20asr-wav2vec2-commonvoice-en' target=\"_blank\">Weights & Biases</a> (<a href='https://wandb.me/run' target=\"_blank\">docs</a>)<br/>"
      ],
      "text/plain": [
       "<IPython.core.display.HTML object>"
      ]
     },
     "metadata": {},
     "output_type": "display_data"
    },
    {
     "data": {
      "text/html": [
       " View project at <a href='https://wandb.ai/micheleyin/ASR%20WER%20Test%20Local%20asr-wav2vec2-commonvoice-en' target=\"_blank\">https://wandb.ai/micheleyin/ASR%20WER%20Test%20Local%20asr-wav2vec2-commonvoice-en</a>"
      ],
      "text/plain": [
       "<IPython.core.display.HTML object>"
      ]
     },
     "metadata": {},
     "output_type": "display_data"
    },
    {
     "data": {
      "text/html": [
       " View run at <a href='https://wandb.ai/micheleyin/ASR%20WER%20Test%20Local%20asr-wav2vec2-commonvoice-en/runs/2cxmmdsd' target=\"_blank\">https://wandb.ai/micheleyin/ASR%20WER%20Test%20Local%20asr-wav2vec2-commonvoice-en/runs/2cxmmdsd</a>"
      ],
      "text/plain": [
       "<IPython.core.display.HTML object>"
      ]
     },
     "metadata": {},
     "output_type": "display_data"
    },
    {
     "data": {
      "text/html": [
       "Waiting for W&B process to finish... <strong style=\"color:green\">(success).</strong>"
      ],
      "text/plain": [
       "<IPython.core.display.HTML object>"
      ]
     },
     "metadata": {},
     "output_type": "display_data"
    },
    {
     "data": {
      "application/vnd.jupyter.widget-view+json": {
       "model_id": "94b387441fa746c4be459f6168dfb199",
       "version_major": 2,
       "version_minor": 0
      },
      "text/plain": [
       "VBox(children=(Label(value='0.001 MB of 0.005 MB uploaded (0.000 MB deduped)\\r'), FloatProgress(value=0.173852…"
      ]
     },
     "metadata": {},
     "output_type": "display_data"
    },
    {
     "data": {
      "text/html": [
       "<style>\n",
       "    table.wandb td:nth-child(1) { padding: 0 10px; text-align: left ; width: auto;} td:nth-child(2) {text-align: left ; width: 100%}\n",
       "    .wandb-row { display: flex; flex-direction: row; flex-wrap: wrap; justify-content: flex-start; width: 100% }\n",
       "    .wandb-col { display: flex; flex-direction: column; flex-basis: 100%; flex: 1; padding: 10px; }\n",
       "    </style>\n",
       "<div class=\"wandb-row\"><div class=\"wandb-col\"><h3>Run history:</h3><br/><table class=\"wandb\"><tr><td>Average time per sample</td><td>▁</td></tr><tr><td>Tokens per second</td><td>▁</td></tr><tr><td>Total samples</td><td>▁</td></tr><tr><td>Total time</td><td>▁</td></tr><tr><td>Total tokens</td><td>▁</td></tr><tr><td>WER</td><td>▁</td></tr></table><br/></div><div class=\"wandb-col\"><h3>Run summary:</h3><br/><table class=\"wandb\"><tr><td>Average time per sample</td><td>19.78662</td></tr><tr><td>Tokens per second</td><td>10.00676</td></tr><tr><td>Total samples</td><td>210</td></tr><tr><td>Total time</td><td>59.35985</td></tr><tr><td>Total tokens</td><td>594</td></tr><tr><td>WER</td><td>0.54943</td></tr></table><br/></div></div>"
      ],
      "text/plain": [
       "<IPython.core.display.HTML object>"
      ]
     },
     "metadata": {},
     "output_type": "display_data"
    },
    {
     "data": {
      "text/html": [
       " View run <strong style=\"color:#cdcd00\">Local asr-wav2vec2-commonvoice-en_earnings22_clean_max</strong> at: <a href='https://wandb.ai/micheleyin/ASR%20WER%20Test%20Local%20asr-wav2vec2-commonvoice-en/runs/2cxmmdsd' target=\"_blank\">https://wandb.ai/micheleyin/ASR%20WER%20Test%20Local%20asr-wav2vec2-commonvoice-en/runs/2cxmmdsd</a><br/>Synced 5 W&B file(s), 0 media file(s), 0 artifact file(s) and 0 other file(s)"
      ],
      "text/plain": [
       "<IPython.core.display.HTML object>"
      ]
     },
     "metadata": {},
     "output_type": "display_data"
    },
    {
     "data": {
      "text/html": [
       "Find logs at: <code>./wandb/run-20230223_125226-2cxmmdsd/logs</code>"
      ],
      "text/plain": [
       "<IPython.core.display.HTML object>"
      ]
     },
     "metadata": {},
     "output_type": "display_data"
    },
    {
     "data": {
      "application/vnd.jupyter.widget-view+json": {
       "model_id": "c94e271e3cb6414d8e314193debe1da8",
       "version_major": 2,
       "version_minor": 0
      },
      "text/plain": [
       "VBox(children=(Label(value='Waiting for wandb.init()...\\r'), FloatProgress(value=0.016751963183439026, max=1.0…"
      ]
     },
     "metadata": {},
     "output_type": "display_data"
    },
    {
     "data": {
      "text/html": [
       "Tracking run with wandb version 0.13.10"
      ],
      "text/plain": [
       "<IPython.core.display.HTML object>"
      ]
     },
     "metadata": {},
     "output_type": "display_data"
    },
    {
     "data": {
      "text/html": [
       "Run data is saved locally in <code>/Users/micheleyin/Documents/AI_DBMovie/asr/wandb/run-20230223_125335-0rxxiv9w</code>"
      ],
      "text/plain": [
       "<IPython.core.display.HTML object>"
      ]
     },
     "metadata": {},
     "output_type": "display_data"
    },
    {
     "data": {
      "text/html": [
       "Syncing run <strong><a href='https://wandb.ai/micheleyin/ASR%20WER%20Test%20Local%20asr-wav2vec2-commonvoice-en/runs/0rxxiv9w' target=\"_blank\">Local asr-wav2vec2-commonvoice-en_earnings22_other_median</a></strong> to <a href='https://wandb.ai/micheleyin/ASR%20WER%20Test%20Local%20asr-wav2vec2-commonvoice-en' target=\"_blank\">Weights & Biases</a> (<a href='https://wandb.me/run' target=\"_blank\">docs</a>)<br/>"
      ],
      "text/plain": [
       "<IPython.core.display.HTML object>"
      ]
     },
     "metadata": {},
     "output_type": "display_data"
    },
    {
     "data": {
      "text/html": [
       " View project at <a href='https://wandb.ai/micheleyin/ASR%20WER%20Test%20Local%20asr-wav2vec2-commonvoice-en' target=\"_blank\">https://wandb.ai/micheleyin/ASR%20WER%20Test%20Local%20asr-wav2vec2-commonvoice-en</a>"
      ],
      "text/plain": [
       "<IPython.core.display.HTML object>"
      ]
     },
     "metadata": {},
     "output_type": "display_data"
    },
    {
     "data": {
      "text/html": [
       " View run at <a href='https://wandb.ai/micheleyin/ASR%20WER%20Test%20Local%20asr-wav2vec2-commonvoice-en/runs/0rxxiv9w' target=\"_blank\">https://wandb.ai/micheleyin/ASR%20WER%20Test%20Local%20asr-wav2vec2-commonvoice-en/runs/0rxxiv9w</a>"
      ],
      "text/plain": [
       "<IPython.core.display.HTML object>"
      ]
     },
     "metadata": {},
     "output_type": "display_data"
    },
    {
     "data": {
      "text/html": [
       "Waiting for W&B process to finish... <strong style=\"color:green\">(success).</strong>"
      ],
      "text/plain": [
       "<IPython.core.display.HTML object>"
      ]
     },
     "metadata": {},
     "output_type": "display_data"
    },
    {
     "data": {
      "application/vnd.jupyter.widget-view+json": {
       "model_id": "19ead19ff1b74069aa188caa9e2fc199",
       "version_major": 2,
       "version_minor": 0
      },
      "text/plain": [
       "VBox(children=(Label(value='0.001 MB of 0.005 MB uploaded (0.000 MB deduped)\\r'), FloatProgress(value=0.173494…"
      ]
     },
     "metadata": {},
     "output_type": "display_data"
    },
    {
     "data": {
      "text/html": [
       "<style>\n",
       "    table.wandb td:nth-child(1) { padding: 0 10px; text-align: left ; width: auto;} td:nth-child(2) {text-align: left ; width: 100%}\n",
       "    .wandb-row { display: flex; flex-direction: row; flex-wrap: wrap; justify-content: flex-start; width: 100% }\n",
       "    .wandb-col { display: flex; flex-direction: column; flex-basis: 100%; flex: 1; padding: 10px; }\n",
       "    </style>\n",
       "<div class=\"wandb-row\"><div class=\"wandb-col\"><h3>Run history:</h3><br/><table class=\"wandb\"><tr><td>Average time per sample</td><td>▁</td></tr><tr><td>Tokens per second</td><td>▁</td></tr><tr><td>Total samples</td><td>▁</td></tr><tr><td>Total time</td><td>▁</td></tr><tr><td>Total tokens</td><td>▁</td></tr><tr><td>WER</td><td>▁</td></tr></table><br/></div><div class=\"wandb-col\"><h3>Run summary:</h3><br/><table class=\"wandb\"><tr><td>Average time per sample</td><td>4.09766</td></tr><tr><td>Tokens per second</td><td>15.70003</td></tr><tr><td>Total samples</td><td>210</td></tr><tr><td>Total time</td><td>12.29297</td></tr><tr><td>Total tokens</td><td>193</td></tr><tr><td>WER</td><td>0.38012</td></tr></table><br/></div></div>"
      ],
      "text/plain": [
       "<IPython.core.display.HTML object>"
      ]
     },
     "metadata": {},
     "output_type": "display_data"
    },
    {
     "data": {
      "text/html": [
       " View run <strong style=\"color:#cdcd00\">Local asr-wav2vec2-commonvoice-en_earnings22_other_median</strong> at: <a href='https://wandb.ai/micheleyin/ASR%20WER%20Test%20Local%20asr-wav2vec2-commonvoice-en/runs/0rxxiv9w' target=\"_blank\">https://wandb.ai/micheleyin/ASR%20WER%20Test%20Local%20asr-wav2vec2-commonvoice-en/runs/0rxxiv9w</a><br/>Synced 5 W&B file(s), 0 media file(s), 0 artifact file(s) and 0 other file(s)"
      ],
      "text/plain": [
       "<IPython.core.display.HTML object>"
      ]
     },
     "metadata": {},
     "output_type": "display_data"
    },
    {
     "data": {
      "text/html": [
       "Find logs at: <code>./wandb/run-20230223_125335-0rxxiv9w/logs</code>"
      ],
      "text/plain": [
       "<IPython.core.display.HTML object>"
      ]
     },
     "metadata": {},
     "output_type": "display_data"
    },
    {
     "data": {
      "application/vnd.jupyter.widget-view+json": {
       "model_id": "d0c1fbf030e74cd2982d277e9c3490fe",
       "version_major": 2,
       "version_minor": 0
      },
      "text/plain": [
       "VBox(children=(Label(value='Waiting for wandb.init()...\\r'), FloatProgress(value=0.016751570150033028, max=1.0…"
      ]
     },
     "metadata": {},
     "output_type": "display_data"
    },
    {
     "data": {
      "text/html": [
       "Tracking run with wandb version 0.13.10"
      ],
      "text/plain": [
       "<IPython.core.display.HTML object>"
      ]
     },
     "metadata": {},
     "output_type": "display_data"
    },
    {
     "data": {
      "text/html": [
       "Run data is saved locally in <code>/Users/micheleyin/Documents/AI_DBMovie/asr/wandb/run-20230223_125356-1zsurv2n</code>"
      ],
      "text/plain": [
       "<IPython.core.display.HTML object>"
      ]
     },
     "metadata": {},
     "output_type": "display_data"
    },
    {
     "data": {
      "text/html": [
       "Syncing run <strong><a href='https://wandb.ai/micheleyin/ASR%20WER%20Test%20Local%20asr-wav2vec2-commonvoice-en/runs/1zsurv2n' target=\"_blank\">Local asr-wav2vec2-commonvoice-en_earnings22_other_min</a></strong> to <a href='https://wandb.ai/micheleyin/ASR%20WER%20Test%20Local%20asr-wav2vec2-commonvoice-en' target=\"_blank\">Weights & Biases</a> (<a href='https://wandb.me/run' target=\"_blank\">docs</a>)<br/>"
      ],
      "text/plain": [
       "<IPython.core.display.HTML object>"
      ]
     },
     "metadata": {},
     "output_type": "display_data"
    },
    {
     "data": {
      "text/html": [
       " View project at <a href='https://wandb.ai/micheleyin/ASR%20WER%20Test%20Local%20asr-wav2vec2-commonvoice-en' target=\"_blank\">https://wandb.ai/micheleyin/ASR%20WER%20Test%20Local%20asr-wav2vec2-commonvoice-en</a>"
      ],
      "text/plain": [
       "<IPython.core.display.HTML object>"
      ]
     },
     "metadata": {},
     "output_type": "display_data"
    },
    {
     "data": {
      "text/html": [
       " View run at <a href='https://wandb.ai/micheleyin/ASR%20WER%20Test%20Local%20asr-wav2vec2-commonvoice-en/runs/1zsurv2n' target=\"_blank\">https://wandb.ai/micheleyin/ASR%20WER%20Test%20Local%20asr-wav2vec2-commonvoice-en/runs/1zsurv2n</a>"
      ],
      "text/plain": [
       "<IPython.core.display.HTML object>"
      ]
     },
     "metadata": {},
     "output_type": "display_data"
    },
    {
     "data": {
      "text/html": [
       "Waiting for W&B process to finish... <strong style=\"color:green\">(success).</strong>"
      ],
      "text/plain": [
       "<IPython.core.display.HTML object>"
      ]
     },
     "metadata": {},
     "output_type": "display_data"
    },
    {
     "data": {
      "text/html": [
       "<style>\n",
       "    table.wandb td:nth-child(1) { padding: 0 10px; text-align: left ; width: auto;} td:nth-child(2) {text-align: left ; width: 100%}\n",
       "    .wandb-row { display: flex; flex-direction: row; flex-wrap: wrap; justify-content: flex-start; width: 100% }\n",
       "    .wandb-col { display: flex; flex-direction: column; flex-basis: 100%; flex: 1; padding: 10px; }\n",
       "    </style>\n",
       "<div class=\"wandb-row\"><div class=\"wandb-col\"><h3>Run history:</h3><br/><table class=\"wandb\"><tr><td>Average time per sample</td><td>▁</td></tr><tr><td>Tokens per second</td><td>▁</td></tr><tr><td>Total samples</td><td>▁</td></tr><tr><td>Total time</td><td>▁</td></tr><tr><td>Total tokens</td><td>▁</td></tr><tr><td>WER</td><td>▁</td></tr></table><br/></div><div class=\"wandb-col\"><h3>Run summary:</h3><br/><table class=\"wandb\"><tr><td>Average time per sample</td><td>0.59942</td></tr><tr><td>Tokens per second</td><td>7.22924</td></tr><tr><td>Total samples</td><td>210</td></tr><tr><td>Total time</td><td>1.79825</td></tr><tr><td>Total tokens</td><td>13</td></tr><tr><td>WER</td><td>1.17391</td></tr></table><br/></div></div>"
      ],
      "text/plain": [
       "<IPython.core.display.HTML object>"
      ]
     },
     "metadata": {},
     "output_type": "display_data"
    },
    {
     "data": {
      "text/html": [
       " View run <strong style=\"color:#cdcd00\">Local asr-wav2vec2-commonvoice-en_earnings22_other_min</strong> at: <a href='https://wandb.ai/micheleyin/ASR%20WER%20Test%20Local%20asr-wav2vec2-commonvoice-en/runs/1zsurv2n' target=\"_blank\">https://wandb.ai/micheleyin/ASR%20WER%20Test%20Local%20asr-wav2vec2-commonvoice-en/runs/1zsurv2n</a><br/>Synced 5 W&B file(s), 0 media file(s), 0 artifact file(s) and 0 other file(s)"
      ],
      "text/plain": [
       "<IPython.core.display.HTML object>"
      ]
     },
     "metadata": {},
     "output_type": "display_data"
    },
    {
     "data": {
      "text/html": [
       "Find logs at: <code>./wandb/run-20230223_125356-1zsurv2n/logs</code>"
      ],
      "text/plain": [
       "<IPython.core.display.HTML object>"
      ]
     },
     "metadata": {},
     "output_type": "display_data"
    },
    {
     "data": {
      "application/vnd.jupyter.widget-view+json": {
       "model_id": "d10fb94ccf7746988095cc7cf79cce11",
       "version_major": 2,
       "version_minor": 0
      },
      "text/plain": [
       "VBox(children=(Label(value='Waiting for wandb.init()...\\r'), FloatProgress(value=0.016700853466803285, max=1.0…"
      ]
     },
     "metadata": {},
     "output_type": "display_data"
    },
    {
     "data": {
      "text/html": [
       "Tracking run with wandb version 0.13.10"
      ],
      "text/plain": [
       "<IPython.core.display.HTML object>"
      ]
     },
     "metadata": {},
     "output_type": "display_data"
    },
    {
     "data": {
      "text/html": [
       "Run data is saved locally in <code>/Users/micheleyin/Documents/AI_DBMovie/asr/wandb/run-20230223_125413-xloiberp</code>"
      ],
      "text/plain": [
       "<IPython.core.display.HTML object>"
      ]
     },
     "metadata": {},
     "output_type": "display_data"
    },
    {
     "data": {
      "text/html": [
       "Syncing run <strong><a href='https://wandb.ai/micheleyin/ASR%20WER%20Test%20Local%20asr-wav2vec2-commonvoice-en/runs/xloiberp' target=\"_blank\">Local asr-wav2vec2-commonvoice-en_earnings22_other_max</a></strong> to <a href='https://wandb.ai/micheleyin/ASR%20WER%20Test%20Local%20asr-wav2vec2-commonvoice-en' target=\"_blank\">Weights & Biases</a> (<a href='https://wandb.me/run' target=\"_blank\">docs</a>)<br/>"
      ],
      "text/plain": [
       "<IPython.core.display.HTML object>"
      ]
     },
     "metadata": {},
     "output_type": "display_data"
    },
    {
     "data": {
      "text/html": [
       " View project at <a href='https://wandb.ai/micheleyin/ASR%20WER%20Test%20Local%20asr-wav2vec2-commonvoice-en' target=\"_blank\">https://wandb.ai/micheleyin/ASR%20WER%20Test%20Local%20asr-wav2vec2-commonvoice-en</a>"
      ],
      "text/plain": [
       "<IPython.core.display.HTML object>"
      ]
     },
     "metadata": {},
     "output_type": "display_data"
    },
    {
     "data": {
      "text/html": [
       " View run at <a href='https://wandb.ai/micheleyin/ASR%20WER%20Test%20Local%20asr-wav2vec2-commonvoice-en/runs/xloiberp' target=\"_blank\">https://wandb.ai/micheleyin/ASR%20WER%20Test%20Local%20asr-wav2vec2-commonvoice-en/runs/xloiberp</a>"
      ],
      "text/plain": [
       "<IPython.core.display.HTML object>"
      ]
     },
     "metadata": {},
     "output_type": "display_data"
    },
    {
     "data": {
      "text/html": [
       "Waiting for W&B process to finish... <strong style=\"color:green\">(success).</strong>"
      ],
      "text/plain": [
       "<IPython.core.display.HTML object>"
      ]
     },
     "metadata": {},
     "output_type": "display_data"
    },
    {
     "data": {
      "application/vnd.jupyter.widget-view+json": {
       "model_id": "48abe8c9259e4a298cf7d941352de2a3",
       "version_major": 2,
       "version_minor": 0
      },
      "text/plain": [
       "VBox(children=(Label(value='0.001 MB of 0.014 MB uploaded (0.000 MB deduped)\\r'), FloatProgress(value=0.090633…"
      ]
     },
     "metadata": {},
     "output_type": "display_data"
    },
    {
     "data": {
      "text/html": [
       "<style>\n",
       "    table.wandb td:nth-child(1) { padding: 0 10px; text-align: left ; width: auto;} td:nth-child(2) {text-align: left ; width: 100%}\n",
       "    .wandb-row { display: flex; flex-direction: row; flex-wrap: wrap; justify-content: flex-start; width: 100% }\n",
       "    .wandb-col { display: flex; flex-direction: column; flex-basis: 100%; flex: 1; padding: 10px; }\n",
       "    </style>\n",
       "<div class=\"wandb-row\"><div class=\"wandb-col\"><h3>Run history:</h3><br/><table class=\"wandb\"><tr><td>Average time per sample</td><td>▁</td></tr><tr><td>Tokens per second</td><td>▁</td></tr><tr><td>Total samples</td><td>▁</td></tr><tr><td>Total time</td><td>▁</td></tr><tr><td>Total tokens</td><td>▁</td></tr><tr><td>WER</td><td>▁</td></tr></table><br/></div><div class=\"wandb-col\"><h3>Run summary:</h3><br/><table class=\"wandb\"><tr><td>Average time per sample</td><td>58.25652</td></tr><tr><td>Tokens per second</td><td>3.36443</td></tr><tr><td>Total samples</td><td>210</td></tr><tr><td>Total time</td><td>174.76957</td></tr><tr><td>Total tokens</td><td>588</td></tr><tr><td>WER</td><td>0.93455</td></tr></table><br/></div></div>"
      ],
      "text/plain": [
       "<IPython.core.display.HTML object>"
      ]
     },
     "metadata": {},
     "output_type": "display_data"
    },
    {
     "data": {
      "text/html": [
       " View run <strong style=\"color:#cdcd00\">Local asr-wav2vec2-commonvoice-en_earnings22_other_max</strong> at: <a href='https://wandb.ai/micheleyin/ASR%20WER%20Test%20Local%20asr-wav2vec2-commonvoice-en/runs/xloiberp' target=\"_blank\">https://wandb.ai/micheleyin/ASR%20WER%20Test%20Local%20asr-wav2vec2-commonvoice-en/runs/xloiberp</a><br/>Synced 5 W&B file(s), 0 media file(s), 0 artifact file(s) and 0 other file(s)"
      ],
      "text/plain": [
       "<IPython.core.display.HTML object>"
      ]
     },
     "metadata": {},
     "output_type": "display_data"
    },
    {
     "data": {
      "text/html": [
       "Find logs at: <code>./wandb/run-20230223_125413-xloiberp/logs</code>"
      ],
      "text/plain": [
       "<IPython.core.display.HTML object>"
      ]
     },
     "metadata": {},
     "output_type": "display_data"
    },
    {
     "data": {
      "application/vnd.jupyter.widget-view+json": {
       "model_id": "9b440315b48f4203ae9c993779872b34",
       "version_major": 2,
       "version_minor": 0
      },
      "text/plain": [
       "VBox(children=(Label(value='Waiting for wandb.init()...\\r'), FloatProgress(value=0.01668747500007157, max=1.0)…"
      ]
     },
     "metadata": {},
     "output_type": "display_data"
    },
    {
     "data": {
      "text/html": [
       "Tracking run with wandb version 0.13.10"
      ],
      "text/plain": [
       "<IPython.core.display.HTML object>"
      ]
     },
     "metadata": {},
     "output_type": "display_data"
    },
    {
     "data": {
      "text/html": [
       "Run data is saved locally in <code>/Users/micheleyin/Documents/AI_DBMovie/asr/wandb/run-20230223_125716-vkueph3w</code>"
      ],
      "text/plain": [
       "<IPython.core.display.HTML object>"
      ]
     },
     "metadata": {},
     "output_type": "display_data"
    },
    {
     "data": {
      "text/html": [
       "Syncing run <strong><a href='https://wandb.ai/micheleyin/ASR%20WER%20Test%20Local%20asr-wav2vec2-commonvoice-en/runs/vkueph3w' target=\"_blank\">Local asr-wav2vec2-commonvoice-en_gigaspeech_clean_median</a></strong> to <a href='https://wandb.ai/micheleyin/ASR%20WER%20Test%20Local%20asr-wav2vec2-commonvoice-en' target=\"_blank\">Weights & Biases</a> (<a href='https://wandb.me/run' target=\"_blank\">docs</a>)<br/>"
      ],
      "text/plain": [
       "<IPython.core.display.HTML object>"
      ]
     },
     "metadata": {},
     "output_type": "display_data"
    },
    {
     "data": {
      "text/html": [
       " View project at <a href='https://wandb.ai/micheleyin/ASR%20WER%20Test%20Local%20asr-wav2vec2-commonvoice-en' target=\"_blank\">https://wandb.ai/micheleyin/ASR%20WER%20Test%20Local%20asr-wav2vec2-commonvoice-en</a>"
      ],
      "text/plain": [
       "<IPython.core.display.HTML object>"
      ]
     },
     "metadata": {},
     "output_type": "display_data"
    },
    {
     "data": {
      "text/html": [
       " View run at <a href='https://wandb.ai/micheleyin/ASR%20WER%20Test%20Local%20asr-wav2vec2-commonvoice-en/runs/vkueph3w' target=\"_blank\">https://wandb.ai/micheleyin/ASR%20WER%20Test%20Local%20asr-wav2vec2-commonvoice-en/runs/vkueph3w</a>"
      ],
      "text/plain": [
       "<IPython.core.display.HTML object>"
      ]
     },
     "metadata": {},
     "output_type": "display_data"
    },
    {
     "data": {
      "text/html": [
       "Waiting for W&B process to finish... <strong style=\"color:green\">(success).</strong>"
      ],
      "text/plain": [
       "<IPython.core.display.HTML object>"
      ]
     },
     "metadata": {},
     "output_type": "display_data"
    },
    {
     "data": {
      "application/vnd.jupyter.widget-view+json": {
       "model_id": "2842ec95cb3241d99941ec2b2c450031",
       "version_major": 2,
       "version_minor": 0
      },
      "text/plain": [
       "VBox(children=(Label(value='0.001 MB of 0.014 MB uploaded (0.000 MB deduped)\\r'), FloatProgress(value=0.090620…"
      ]
     },
     "metadata": {},
     "output_type": "display_data"
    },
    {
     "data": {
      "text/html": [
       "<style>\n",
       "    table.wandb td:nth-child(1) { padding: 0 10px; text-align: left ; width: auto;} td:nth-child(2) {text-align: left ; width: 100%}\n",
       "    .wandb-row { display: flex; flex-direction: row; flex-wrap: wrap; justify-content: flex-start; width: 100% }\n",
       "    .wandb-col { display: flex; flex-direction: column; flex-basis: 100%; flex: 1; padding: 10px; }\n",
       "    </style>\n",
       "<div class=\"wandb-row\"><div class=\"wandb-col\"><h3>Run history:</h3><br/><table class=\"wandb\"><tr><td>Average time per sample</td><td>▁</td></tr><tr><td>Tokens per second</td><td>▁</td></tr><tr><td>Total samples</td><td>▁</td></tr><tr><td>Total time</td><td>▁</td></tr><tr><td>Total tokens</td><td>▁</td></tr><tr><td>WER</td><td>▁</td></tr></table><br/></div><div class=\"wandb-col\"><h3>Run summary:</h3><br/><table class=\"wandb\"><tr><td>Average time per sample</td><td>5.67027</td></tr><tr><td>Tokens per second</td><td>14.10867</td></tr><tr><td>Total samples</td><td>210</td></tr><tr><td>Total time</td><td>17.01082</td></tr><tr><td>Total tokens</td><td>240</td></tr><tr><td>WER</td><td>0.1125</td></tr></table><br/></div></div>"
      ],
      "text/plain": [
       "<IPython.core.display.HTML object>"
      ]
     },
     "metadata": {},
     "output_type": "display_data"
    },
    {
     "data": {
      "text/html": [
       " View run <strong style=\"color:#cdcd00\">Local asr-wav2vec2-commonvoice-en_gigaspeech_clean_median</strong> at: <a href='https://wandb.ai/micheleyin/ASR%20WER%20Test%20Local%20asr-wav2vec2-commonvoice-en/runs/vkueph3w' target=\"_blank\">https://wandb.ai/micheleyin/ASR%20WER%20Test%20Local%20asr-wav2vec2-commonvoice-en/runs/vkueph3w</a><br/>Synced 5 W&B file(s), 0 media file(s), 0 artifact file(s) and 0 other file(s)"
      ],
      "text/plain": [
       "<IPython.core.display.HTML object>"
      ]
     },
     "metadata": {},
     "output_type": "display_data"
    },
    {
     "data": {
      "text/html": [
       "Find logs at: <code>./wandb/run-20230223_125716-vkueph3w/logs</code>"
      ],
      "text/plain": [
       "<IPython.core.display.HTML object>"
      ]
     },
     "metadata": {},
     "output_type": "display_data"
    },
    {
     "data": {
      "application/vnd.jupyter.widget-view+json": {
       "model_id": "bd01b40303aa41c694c4b4401eef29fd",
       "version_major": 2,
       "version_minor": 0
      },
      "text/plain": [
       "VBox(children=(Label(value='Waiting for wandb.init()...\\r'), FloatProgress(value=0.016751184016660165, max=1.0…"
      ]
     },
     "metadata": {},
     "output_type": "display_data"
    },
    {
     "data": {
      "text/html": [
       "Tracking run with wandb version 0.13.10"
      ],
      "text/plain": [
       "<IPython.core.display.HTML object>"
      ]
     },
     "metadata": {},
     "output_type": "display_data"
    },
    {
     "data": {
      "text/html": [
       "Run data is saved locally in <code>/Users/micheleyin/Documents/AI_DBMovie/asr/wandb/run-20230223_125742-vsrnxdqw</code>"
      ],
      "text/plain": [
       "<IPython.core.display.HTML object>"
      ]
     },
     "metadata": {},
     "output_type": "display_data"
    },
    {
     "data": {
      "text/html": [
       "Syncing run <strong><a href='https://wandb.ai/micheleyin/ASR%20WER%20Test%20Local%20asr-wav2vec2-commonvoice-en/runs/vsrnxdqw' target=\"_blank\">Local asr-wav2vec2-commonvoice-en_gigaspeech_clean_min</a></strong> to <a href='https://wandb.ai/micheleyin/ASR%20WER%20Test%20Local%20asr-wav2vec2-commonvoice-en' target=\"_blank\">Weights & Biases</a> (<a href='https://wandb.me/run' target=\"_blank\">docs</a>)<br/>"
      ],
      "text/plain": [
       "<IPython.core.display.HTML object>"
      ]
     },
     "metadata": {},
     "output_type": "display_data"
    },
    {
     "data": {
      "text/html": [
       " View project at <a href='https://wandb.ai/micheleyin/ASR%20WER%20Test%20Local%20asr-wav2vec2-commonvoice-en' target=\"_blank\">https://wandb.ai/micheleyin/ASR%20WER%20Test%20Local%20asr-wav2vec2-commonvoice-en</a>"
      ],
      "text/plain": [
       "<IPython.core.display.HTML object>"
      ]
     },
     "metadata": {},
     "output_type": "display_data"
    },
    {
     "data": {
      "text/html": [
       " View run at <a href='https://wandb.ai/micheleyin/ASR%20WER%20Test%20Local%20asr-wav2vec2-commonvoice-en/runs/vsrnxdqw' target=\"_blank\">https://wandb.ai/micheleyin/ASR%20WER%20Test%20Local%20asr-wav2vec2-commonvoice-en/runs/vsrnxdqw</a>"
      ],
      "text/plain": [
       "<IPython.core.display.HTML object>"
      ]
     },
     "metadata": {},
     "output_type": "display_data"
    },
    {
     "data": {
      "text/html": [
       "Waiting for W&B process to finish... <strong style=\"color:green\">(success).</strong>"
      ],
      "text/plain": [
       "<IPython.core.display.HTML object>"
      ]
     },
     "metadata": {},
     "output_type": "display_data"
    },
    {
     "data": {
      "application/vnd.jupyter.widget-view+json": {
       "model_id": "c1cd08b9cbe741c9a71a97e032a91ebc",
       "version_major": 2,
       "version_minor": 0
      },
      "text/plain": [
       "VBox(children=(Label(value='0.001 MB of 0.014 MB uploaded (0.000 MB deduped)\\r'), FloatProgress(value=0.069852…"
      ]
     },
     "metadata": {},
     "output_type": "display_data"
    },
    {
     "data": {
      "text/html": [
       "<style>\n",
       "    table.wandb td:nth-child(1) { padding: 0 10px; text-align: left ; width: auto;} td:nth-child(2) {text-align: left ; width: 100%}\n",
       "    .wandb-row { display: flex; flex-direction: row; flex-wrap: wrap; justify-content: flex-start; width: 100% }\n",
       "    .wandb-col { display: flex; flex-direction: column; flex-basis: 100%; flex: 1; padding: 10px; }\n",
       "    </style>\n",
       "<div class=\"wandb-row\"><div class=\"wandb-col\"><h3>Run history:</h3><br/><table class=\"wandb\"><tr><td>Average time per sample</td><td>▁</td></tr><tr><td>Tokens per second</td><td>▁</td></tr><tr><td>Total samples</td><td>▁</td></tr><tr><td>Total time</td><td>▁</td></tr><tr><td>Total tokens</td><td>▁</td></tr><tr><td>WER</td><td>▁</td></tr></table><br/></div><div class=\"wandb-col\"><h3>Run summary:</h3><br/><table class=\"wandb\"><tr><td>Average time per sample</td><td>0.83118</td></tr><tr><td>Tokens per second</td><td>10.02591</td></tr><tr><td>Total samples</td><td>210</td></tr><tr><td>Total time</td><td>2.49354</td></tr><tr><td>Total tokens</td><td>25</td></tr><tr><td>WER</td><td>0.42857</td></tr></table><br/></div></div>"
      ],
      "text/plain": [
       "<IPython.core.display.HTML object>"
      ]
     },
     "metadata": {},
     "output_type": "display_data"
    },
    {
     "data": {
      "text/html": [
       " View run <strong style=\"color:#cdcd00\">Local asr-wav2vec2-commonvoice-en_gigaspeech_clean_min</strong> at: <a href='https://wandb.ai/micheleyin/ASR%20WER%20Test%20Local%20asr-wav2vec2-commonvoice-en/runs/vsrnxdqw' target=\"_blank\">https://wandb.ai/micheleyin/ASR%20WER%20Test%20Local%20asr-wav2vec2-commonvoice-en/runs/vsrnxdqw</a><br/>Synced 5 W&B file(s), 0 media file(s), 0 artifact file(s) and 0 other file(s)"
      ],
      "text/plain": [
       "<IPython.core.display.HTML object>"
      ]
     },
     "metadata": {},
     "output_type": "display_data"
    },
    {
     "data": {
      "text/html": [
       "Find logs at: <code>./wandb/run-20230223_125742-vsrnxdqw/logs</code>"
      ],
      "text/plain": [
       "<IPython.core.display.HTML object>"
      ]
     },
     "metadata": {},
     "output_type": "display_data"
    },
    {
     "data": {
      "application/vnd.jupyter.widget-view+json": {
       "model_id": "cee2070fb6394d14be2223ab48180ce7",
       "version_major": 2,
       "version_minor": 0
      },
      "text/plain": [
       "VBox(children=(Label(value='Waiting for wandb.init()...\\r'), FloatProgress(value=0.01668901111673525, max=1.0)…"
      ]
     },
     "metadata": {},
     "output_type": "display_data"
    },
    {
     "data": {
      "text/html": [
       "Tracking run with wandb version 0.13.10"
      ],
      "text/plain": [
       "<IPython.core.display.HTML object>"
      ]
     },
     "metadata": {},
     "output_type": "display_data"
    },
    {
     "data": {
      "text/html": [
       "Run data is saved locally in <code>/Users/micheleyin/Documents/AI_DBMovie/asr/wandb/run-20230223_125754-31m4dde7</code>"
      ],
      "text/plain": [
       "<IPython.core.display.HTML object>"
      ]
     },
     "metadata": {},
     "output_type": "display_data"
    },
    {
     "data": {
      "text/html": [
       "Syncing run <strong><a href='https://wandb.ai/micheleyin/ASR%20WER%20Test%20Local%20asr-wav2vec2-commonvoice-en/runs/31m4dde7' target=\"_blank\">Local asr-wav2vec2-commonvoice-en_gigaspeech_clean_max</a></strong> to <a href='https://wandb.ai/micheleyin/ASR%20WER%20Test%20Local%20asr-wav2vec2-commonvoice-en' target=\"_blank\">Weights & Biases</a> (<a href='https://wandb.me/run' target=\"_blank\">docs</a>)<br/>"
      ],
      "text/plain": [
       "<IPython.core.display.HTML object>"
      ]
     },
     "metadata": {},
     "output_type": "display_data"
    },
    {
     "data": {
      "text/html": [
       " View project at <a href='https://wandb.ai/micheleyin/ASR%20WER%20Test%20Local%20asr-wav2vec2-commonvoice-en' target=\"_blank\">https://wandb.ai/micheleyin/ASR%20WER%20Test%20Local%20asr-wav2vec2-commonvoice-en</a>"
      ],
      "text/plain": [
       "<IPython.core.display.HTML object>"
      ]
     },
     "metadata": {},
     "output_type": "display_data"
    },
    {
     "data": {
      "text/html": [
       " View run at <a href='https://wandb.ai/micheleyin/ASR%20WER%20Test%20Local%20asr-wav2vec2-commonvoice-en/runs/31m4dde7' target=\"_blank\">https://wandb.ai/micheleyin/ASR%20WER%20Test%20Local%20asr-wav2vec2-commonvoice-en/runs/31m4dde7</a>"
      ],
      "text/plain": [
       "<IPython.core.display.HTML object>"
      ]
     },
     "metadata": {},
     "output_type": "display_data"
    },
    {
     "data": {
      "text/html": [
       "Waiting for W&B process to finish... <strong style=\"color:green\">(success).</strong>"
      ],
      "text/plain": [
       "<IPython.core.display.HTML object>"
      ]
     },
     "metadata": {},
     "output_type": "display_data"
    },
    {
     "data": {
      "application/vnd.jupyter.widget-view+json": {
       "model_id": "8050fff9fb9e4fbcb9effaae928ff79e",
       "version_major": 2,
       "version_minor": 0
      },
      "text/plain": [
       "VBox(children=(Label(value='0.001 MB of 0.001 MB uploaded (0.000 MB deduped)\\r'), FloatProgress(value=1.0, max…"
      ]
     },
     "metadata": {},
     "output_type": "display_data"
    },
    {
     "data": {
      "text/html": [
       "<style>\n",
       "    table.wandb td:nth-child(1) { padding: 0 10px; text-align: left ; width: auto;} td:nth-child(2) {text-align: left ; width: 100%}\n",
       "    .wandb-row { display: flex; flex-direction: row; flex-wrap: wrap; justify-content: flex-start; width: 100% }\n",
       "    .wandb-col { display: flex; flex-direction: column; flex-basis: 100%; flex: 1; padding: 10px; }\n",
       "    </style>\n",
       "<div class=\"wandb-row\"><div class=\"wandb-col\"><h3>Run history:</h3><br/><table class=\"wandb\"><tr><td>Average time per sample</td><td>▁</td></tr><tr><td>Tokens per second</td><td>▁</td></tr><tr><td>Total samples</td><td>▁</td></tr><tr><td>Total time</td><td>▁</td></tr><tr><td>Total tokens</td><td>▁</td></tr><tr><td>WER</td><td>▁</td></tr></table><br/></div><div class=\"wandb-col\"><h3>Run summary:</h3><br/><table class=\"wandb\"><tr><td>Average time per sample</td><td>10.46386</td></tr><tr><td>Tokens per second</td><td>17.20207</td></tr><tr><td>Total samples</td><td>210</td></tr><tr><td>Total time</td><td>31.39158</td></tr><tr><td>Total tokens</td><td>540</td></tr><tr><td>WER</td><td>0.42141</td></tr></table><br/></div></div>"
      ],
      "text/plain": [
       "<IPython.core.display.HTML object>"
      ]
     },
     "metadata": {},
     "output_type": "display_data"
    },
    {
     "data": {
      "text/html": [
       " View run <strong style=\"color:#cdcd00\">Local asr-wav2vec2-commonvoice-en_gigaspeech_clean_max</strong> at: <a href='https://wandb.ai/micheleyin/ASR%20WER%20Test%20Local%20asr-wav2vec2-commonvoice-en/runs/31m4dde7' target=\"_blank\">https://wandb.ai/micheleyin/ASR%20WER%20Test%20Local%20asr-wav2vec2-commonvoice-en/runs/31m4dde7</a><br/>Synced 5 W&B file(s), 0 media file(s), 0 artifact file(s) and 0 other file(s)"
      ],
      "text/plain": [
       "<IPython.core.display.HTML object>"
      ]
     },
     "metadata": {},
     "output_type": "display_data"
    },
    {
     "data": {
      "text/html": [
       "Find logs at: <code>./wandb/run-20230223_125754-31m4dde7/logs</code>"
      ],
      "text/plain": [
       "<IPython.core.display.HTML object>"
      ]
     },
     "metadata": {},
     "output_type": "display_data"
    },
    {
     "data": {
      "application/vnd.jupyter.widget-view+json": {
       "model_id": "f94f191327f64634afc4a9d6cc983b28",
       "version_major": 2,
       "version_minor": 0
      },
      "text/plain": [
       "VBox(children=(Label(value='Waiting for wandb.init()...\\r'), FloatProgress(value=0.016752132633215903, max=1.0…"
      ]
     },
     "metadata": {},
     "output_type": "display_data"
    },
    {
     "data": {
      "text/html": [
       "Tracking run with wandb version 0.13.10"
      ],
      "text/plain": [
       "<IPython.core.display.HTML object>"
      ]
     },
     "metadata": {},
     "output_type": "display_data"
    },
    {
     "data": {
      "text/html": [
       "Run data is saved locally in <code>/Users/micheleyin/Documents/AI_DBMovie/asr/wandb/run-20230223_125836-yujvpiq3</code>"
      ],
      "text/plain": [
       "<IPython.core.display.HTML object>"
      ]
     },
     "metadata": {},
     "output_type": "display_data"
    },
    {
     "data": {
      "text/html": [
       "Syncing run <strong><a href='https://wandb.ai/micheleyin/ASR%20WER%20Test%20Local%20asr-wav2vec2-commonvoice-en/runs/yujvpiq3' target=\"_blank\">Local asr-wav2vec2-commonvoice-en_gigaspeech_other_median</a></strong> to <a href='https://wandb.ai/micheleyin/ASR%20WER%20Test%20Local%20asr-wav2vec2-commonvoice-en' target=\"_blank\">Weights & Biases</a> (<a href='https://wandb.me/run' target=\"_blank\">docs</a>)<br/>"
      ],
      "text/plain": [
       "<IPython.core.display.HTML object>"
      ]
     },
     "metadata": {},
     "output_type": "display_data"
    },
    {
     "data": {
      "text/html": [
       " View project at <a href='https://wandb.ai/micheleyin/ASR%20WER%20Test%20Local%20asr-wav2vec2-commonvoice-en' target=\"_blank\">https://wandb.ai/micheleyin/ASR%20WER%20Test%20Local%20asr-wav2vec2-commonvoice-en</a>"
      ],
      "text/plain": [
       "<IPython.core.display.HTML object>"
      ]
     },
     "metadata": {},
     "output_type": "display_data"
    },
    {
     "data": {
      "text/html": [
       " View run at <a href='https://wandb.ai/micheleyin/ASR%20WER%20Test%20Local%20asr-wav2vec2-commonvoice-en/runs/yujvpiq3' target=\"_blank\">https://wandb.ai/micheleyin/ASR%20WER%20Test%20Local%20asr-wav2vec2-commonvoice-en/runs/yujvpiq3</a>"
      ],
      "text/plain": [
       "<IPython.core.display.HTML object>"
      ]
     },
     "metadata": {},
     "output_type": "display_data"
    },
    {
     "data": {
      "text/html": [
       "Waiting for W&B process to finish... <strong style=\"color:green\">(success).</strong>"
      ],
      "text/plain": [
       "<IPython.core.display.HTML object>"
      ]
     },
     "metadata": {},
     "output_type": "display_data"
    },
    {
     "data": {
      "application/vnd.jupyter.widget-view+json": {
       "model_id": "cb386a0c5b44424f8d3f18420a8b8541",
       "version_major": 2,
       "version_minor": 0
      },
      "text/plain": [
       "VBox(children=(Label(value='0.001 MB of 0.014 MB uploaded (0.000 MB deduped)\\r'), FloatProgress(value=0.069818…"
      ]
     },
     "metadata": {},
     "output_type": "display_data"
    },
    {
     "data": {
      "text/html": [
       "<style>\n",
       "    table.wandb td:nth-child(1) { padding: 0 10px; text-align: left ; width: auto;} td:nth-child(2) {text-align: left ; width: 100%}\n",
       "    .wandb-row { display: flex; flex-direction: row; flex-wrap: wrap; justify-content: flex-start; width: 100% }\n",
       "    .wandb-col { display: flex; flex-direction: column; flex-basis: 100%; flex: 1; padding: 10px; }\n",
       "    </style>\n",
       "<div class=\"wandb-row\"><div class=\"wandb-col\"><h3>Run history:</h3><br/><table class=\"wandb\"><tr><td>Average time per sample</td><td>▁</td></tr><tr><td>Tokens per second</td><td>▁</td></tr><tr><td>Total samples</td><td>▁</td></tr><tr><td>Total time</td><td>▁</td></tr><tr><td>Total tokens</td><td>▁</td></tr><tr><td>WER</td><td>▁</td></tr></table><br/></div><div class=\"wandb-col\"><h3>Run summary:</h3><br/><table class=\"wandb\"><tr><td>Average time per sample</td><td>4.37306</td></tr><tr><td>Tokens per second</td><td>16.76934</td></tr><tr><td>Total samples</td><td>210</td></tr><tr><td>Total time</td><td>13.11918</td></tr><tr><td>Total tokens</td><td>220</td></tr><tr><td>WER</td><td>0.43158</td></tr></table><br/></div></div>"
      ],
      "text/plain": [
       "<IPython.core.display.HTML object>"
      ]
     },
     "metadata": {},
     "output_type": "display_data"
    },
    {
     "data": {
      "text/html": [
       " View run <strong style=\"color:#cdcd00\">Local asr-wav2vec2-commonvoice-en_gigaspeech_other_median</strong> at: <a href='https://wandb.ai/micheleyin/ASR%20WER%20Test%20Local%20asr-wav2vec2-commonvoice-en/runs/yujvpiq3' target=\"_blank\">https://wandb.ai/micheleyin/ASR%20WER%20Test%20Local%20asr-wav2vec2-commonvoice-en/runs/yujvpiq3</a><br/>Synced 5 W&B file(s), 0 media file(s), 0 artifact file(s) and 0 other file(s)"
      ],
      "text/plain": [
       "<IPython.core.display.HTML object>"
      ]
     },
     "metadata": {},
     "output_type": "display_data"
    },
    {
     "data": {
      "text/html": [
       "Find logs at: <code>./wandb/run-20230223_125836-yujvpiq3/logs</code>"
      ],
      "text/plain": [
       "<IPython.core.display.HTML object>"
      ]
     },
     "metadata": {},
     "output_type": "display_data"
    },
    {
     "data": {
      "application/vnd.jupyter.widget-view+json": {
       "model_id": "86c939a1034844b499d61ed4e6f52275",
       "version_major": 2,
       "version_minor": 0
      },
      "text/plain": [
       "VBox(children=(Label(value='Waiting for wandb.init()...\\r'), FloatProgress(value=0.01675133611667358, max=1.0)…"
      ]
     },
     "metadata": {},
     "output_type": "display_data"
    },
    {
     "data": {
      "text/html": [
       "Tracking run with wandb version 0.13.10"
      ],
      "text/plain": [
       "<IPython.core.display.HTML object>"
      ]
     },
     "metadata": {},
     "output_type": "display_data"
    },
    {
     "data": {
      "text/html": [
       "Run data is saved locally in <code>/Users/micheleyin/Documents/AI_DBMovie/asr/wandb/run-20230223_125859-hrj2e7v7</code>"
      ],
      "text/plain": [
       "<IPython.core.display.HTML object>"
      ]
     },
     "metadata": {},
     "output_type": "display_data"
    },
    {
     "data": {
      "text/html": [
       "Syncing run <strong><a href='https://wandb.ai/micheleyin/ASR%20WER%20Test%20Local%20asr-wav2vec2-commonvoice-en/runs/hrj2e7v7' target=\"_blank\">Local asr-wav2vec2-commonvoice-en_gigaspeech_other_min</a></strong> to <a href='https://wandb.ai/micheleyin/ASR%20WER%20Test%20Local%20asr-wav2vec2-commonvoice-en' target=\"_blank\">Weights & Biases</a> (<a href='https://wandb.me/run' target=\"_blank\">docs</a>)<br/>"
      ],
      "text/plain": [
       "<IPython.core.display.HTML object>"
      ]
     },
     "metadata": {},
     "output_type": "display_data"
    },
    {
     "data": {
      "text/html": [
       " View project at <a href='https://wandb.ai/micheleyin/ASR%20WER%20Test%20Local%20asr-wav2vec2-commonvoice-en' target=\"_blank\">https://wandb.ai/micheleyin/ASR%20WER%20Test%20Local%20asr-wav2vec2-commonvoice-en</a>"
      ],
      "text/plain": [
       "<IPython.core.display.HTML object>"
      ]
     },
     "metadata": {},
     "output_type": "display_data"
    },
    {
     "data": {
      "text/html": [
       " View run at <a href='https://wandb.ai/micheleyin/ASR%20WER%20Test%20Local%20asr-wav2vec2-commonvoice-en/runs/hrj2e7v7' target=\"_blank\">https://wandb.ai/micheleyin/ASR%20WER%20Test%20Local%20asr-wav2vec2-commonvoice-en/runs/hrj2e7v7</a>"
      ],
      "text/plain": [
       "<IPython.core.display.HTML object>"
      ]
     },
     "metadata": {},
     "output_type": "display_data"
    },
    {
     "data": {
      "text/html": [
       "Waiting for W&B process to finish... <strong style=\"color:green\">(success).</strong>"
      ],
      "text/plain": [
       "<IPython.core.display.HTML object>"
      ]
     },
     "metadata": {},
     "output_type": "display_data"
    },
    {
     "data": {
      "application/vnd.jupyter.widget-view+json": {
       "model_id": "71ab88d676994981947104465f2fd751",
       "version_major": 2,
       "version_minor": 0
      },
      "text/plain": [
       "VBox(children=(Label(value='0.001 MB of 0.001 MB uploaded (0.000 MB deduped)\\r'), FloatProgress(value=1.0, max…"
      ]
     },
     "metadata": {},
     "output_type": "display_data"
    },
    {
     "data": {
      "text/html": [
       "<style>\n",
       "    table.wandb td:nth-child(1) { padding: 0 10px; text-align: left ; width: auto;} td:nth-child(2) {text-align: left ; width: 100%}\n",
       "    .wandb-row { display: flex; flex-direction: row; flex-wrap: wrap; justify-content: flex-start; width: 100% }\n",
       "    .wandb-col { display: flex; flex-direction: column; flex-basis: 100%; flex: 1; padding: 10px; }\n",
       "    </style>\n",
       "<div class=\"wandb-row\"><div class=\"wandb-col\"><h3>Run history:</h3><br/><table class=\"wandb\"><tr><td>Average time per sample</td><td>▁</td></tr><tr><td>Tokens per second</td><td>▁</td></tr><tr><td>Total samples</td><td>▁</td></tr><tr><td>Total time</td><td>▁</td></tr><tr><td>Total tokens</td><td>▁</td></tr><tr><td>WER</td><td>▁</td></tr></table><br/></div><div class=\"wandb-col\"><h3>Run summary:</h3><br/><table class=\"wandb\"><tr><td>Average time per sample</td><td>1.15111</td></tr><tr><td>Tokens per second</td><td>2.89575</td></tr><tr><td>Total samples</td><td>210</td></tr><tr><td>Total time</td><td>3.45333</td></tr><tr><td>Total tokens</td><td>10</td></tr><tr><td>WER</td><td>0.9697</td></tr></table><br/></div></div>"
      ],
      "text/plain": [
       "<IPython.core.display.HTML object>"
      ]
     },
     "metadata": {},
     "output_type": "display_data"
    },
    {
     "data": {
      "text/html": [
       " View run <strong style=\"color:#cdcd00\">Local asr-wav2vec2-commonvoice-en_gigaspeech_other_min</strong> at: <a href='https://wandb.ai/micheleyin/ASR%20WER%20Test%20Local%20asr-wav2vec2-commonvoice-en/runs/hrj2e7v7' target=\"_blank\">https://wandb.ai/micheleyin/ASR%20WER%20Test%20Local%20asr-wav2vec2-commonvoice-en/runs/hrj2e7v7</a><br/>Synced 5 W&B file(s), 0 media file(s), 0 artifact file(s) and 0 other file(s)"
      ],
      "text/plain": [
       "<IPython.core.display.HTML object>"
      ]
     },
     "metadata": {},
     "output_type": "display_data"
    },
    {
     "data": {
      "text/html": [
       "Find logs at: <code>./wandb/run-20230223_125859-hrj2e7v7/logs</code>"
      ],
      "text/plain": [
       "<IPython.core.display.HTML object>"
      ]
     },
     "metadata": {},
     "output_type": "display_data"
    },
    {
     "data": {
      "application/vnd.jupyter.widget-view+json": {
       "model_id": "4f270eab1064420fad06e4aaead6c683",
       "version_major": 2,
       "version_minor": 0
      },
      "text/plain": [
       "VBox(children=(Label(value='Waiting for wandb.init()...\\r'), FloatProgress(value=0.01673800624994328, max=1.0)…"
      ]
     },
     "metadata": {},
     "output_type": "display_data"
    },
    {
     "data": {
      "text/html": [
       "Tracking run with wandb version 0.13.10"
      ],
      "text/plain": [
       "<IPython.core.display.HTML object>"
      ]
     },
     "metadata": {},
     "output_type": "display_data"
    },
    {
     "data": {
      "text/html": [
       "Run data is saved locally in <code>/Users/micheleyin/Documents/AI_DBMovie/asr/wandb/run-20230223_125914-n9ies4ea</code>"
      ],
      "text/plain": [
       "<IPython.core.display.HTML object>"
      ]
     },
     "metadata": {},
     "output_type": "display_data"
    },
    {
     "data": {
      "text/html": [
       "Syncing run <strong><a href='https://wandb.ai/micheleyin/ASR%20WER%20Test%20Local%20asr-wav2vec2-commonvoice-en/runs/n9ies4ea' target=\"_blank\">Local asr-wav2vec2-commonvoice-en_gigaspeech_other_max</a></strong> to <a href='https://wandb.ai/micheleyin/ASR%20WER%20Test%20Local%20asr-wav2vec2-commonvoice-en' target=\"_blank\">Weights & Biases</a> (<a href='https://wandb.me/run' target=\"_blank\">docs</a>)<br/>"
      ],
      "text/plain": [
       "<IPython.core.display.HTML object>"
      ]
     },
     "metadata": {},
     "output_type": "display_data"
    },
    {
     "data": {
      "text/html": [
       " View project at <a href='https://wandb.ai/micheleyin/ASR%20WER%20Test%20Local%20asr-wav2vec2-commonvoice-en' target=\"_blank\">https://wandb.ai/micheleyin/ASR%20WER%20Test%20Local%20asr-wav2vec2-commonvoice-en</a>"
      ],
      "text/plain": [
       "<IPython.core.display.HTML object>"
      ]
     },
     "metadata": {},
     "output_type": "display_data"
    },
    {
     "data": {
      "text/html": [
       " View run at <a href='https://wandb.ai/micheleyin/ASR%20WER%20Test%20Local%20asr-wav2vec2-commonvoice-en/runs/n9ies4ea' target=\"_blank\">https://wandb.ai/micheleyin/ASR%20WER%20Test%20Local%20asr-wav2vec2-commonvoice-en/runs/n9ies4ea</a>"
      ],
      "text/plain": [
       "<IPython.core.display.HTML object>"
      ]
     },
     "metadata": {},
     "output_type": "display_data"
    },
    {
     "data": {
      "text/html": [
       "Waiting for W&B process to finish... <strong style=\"color:green\">(success).</strong>"
      ],
      "text/plain": [
       "<IPython.core.display.HTML object>"
      ]
     },
     "metadata": {},
     "output_type": "display_data"
    },
    {
     "data": {
      "application/vnd.jupyter.widget-view+json": {
       "model_id": "959714b0b42f4f199976a53ea194bfcf",
       "version_major": 2,
       "version_minor": 0
      },
      "text/plain": [
       "VBox(children=(Label(value='0.001 MB of 0.014 MB uploaded (0.000 MB deduped)\\r'), FloatProgress(value=0.069847…"
      ]
     },
     "metadata": {},
     "output_type": "display_data"
    },
    {
     "data": {
      "text/html": [
       "<style>\n",
       "    table.wandb td:nth-child(1) { padding: 0 10px; text-align: left ; width: auto;} td:nth-child(2) {text-align: left ; width: 100%}\n",
       "    .wandb-row { display: flex; flex-direction: row; flex-wrap: wrap; justify-content: flex-start; width: 100% }\n",
       "    .wandb-col { display: flex; flex-direction: column; flex-basis: 100%; flex: 1; padding: 10px; }\n",
       "    </style>\n",
       "<div class=\"wandb-row\"><div class=\"wandb-col\"><h3>Run history:</h3><br/><table class=\"wandb\"><tr><td>Average time per sample</td><td>▁</td></tr><tr><td>Tokens per second</td><td>▁</td></tr><tr><td>Total samples</td><td>▁</td></tr><tr><td>Total time</td><td>▁</td></tr><tr><td>Total tokens</td><td>▁</td></tr><tr><td>WER</td><td>▁</td></tr></table><br/></div><div class=\"wandb-col\"><h3>Run summary:</h3><br/><table class=\"wandb\"><tr><td>Average time per sample</td><td>14.52677</td></tr><tr><td>Tokens per second</td><td>11.84021</td></tr><tr><td>Total samples</td><td>210</td></tr><tr><td>Total time</td><td>43.5803</td></tr><tr><td>Total tokens</td><td>516</td></tr><tr><td>WER</td><td>0.75824</td></tr></table><br/></div></div>"
      ],
      "text/plain": [
       "<IPython.core.display.HTML object>"
      ]
     },
     "metadata": {},
     "output_type": "display_data"
    },
    {
     "data": {
      "text/html": [
       " View run <strong style=\"color:#cdcd00\">Local asr-wav2vec2-commonvoice-en_gigaspeech_other_max</strong> at: <a href='https://wandb.ai/micheleyin/ASR%20WER%20Test%20Local%20asr-wav2vec2-commonvoice-en/runs/n9ies4ea' target=\"_blank\">https://wandb.ai/micheleyin/ASR%20WER%20Test%20Local%20asr-wav2vec2-commonvoice-en/runs/n9ies4ea</a><br/>Synced 5 W&B file(s), 0 media file(s), 0 artifact file(s) and 0 other file(s)"
      ],
      "text/plain": [
       "<IPython.core.display.HTML object>"
      ]
     },
     "metadata": {},
     "output_type": "display_data"
    },
    {
     "data": {
      "text/html": [
       "Find logs at: <code>./wandb/run-20230223_125914-n9ies4ea/logs</code>"
      ],
      "text/plain": [
       "<IPython.core.display.HTML object>"
      ]
     },
     "metadata": {},
     "output_type": "display_data"
    },
    {
     "data": {
      "application/vnd.jupyter.widget-view+json": {
       "model_id": "2338ae604d5a4a7abfc09b49e6293b54",
       "version_major": 2,
       "version_minor": 0
      },
      "text/plain": [
       "VBox(children=(Label(value='Waiting for wandb.init()...\\r'), FloatProgress(value=0.016752161799862126, max=1.0…"
      ]
     },
     "metadata": {},
     "output_type": "display_data"
    },
    {
     "data": {
      "text/html": [
       "Tracking run with wandb version 0.13.10"
      ],
      "text/plain": [
       "<IPython.core.display.HTML object>"
      ]
     },
     "metadata": {},
     "output_type": "display_data"
    },
    {
     "data": {
      "text/html": [
       "Run data is saved locally in <code>/Users/micheleyin/Documents/AI_DBMovie/asr/wandb/run-20230223_130009-ewmnjlaw</code>"
      ],
      "text/plain": [
       "<IPython.core.display.HTML object>"
      ]
     },
     "metadata": {},
     "output_type": "display_data"
    },
    {
     "data": {
      "text/html": [
       "Syncing run <strong><a href='https://wandb.ai/micheleyin/ASR%20WER%20Test%20Local%20asr-wav2vec2-commonvoice-en/runs/ewmnjlaw' target=\"_blank\">Local asr-wav2vec2-commonvoice-en_librispeech_clean_median</a></strong> to <a href='https://wandb.ai/micheleyin/ASR%20WER%20Test%20Local%20asr-wav2vec2-commonvoice-en' target=\"_blank\">Weights & Biases</a> (<a href='https://wandb.me/run' target=\"_blank\">docs</a>)<br/>"
      ],
      "text/plain": [
       "<IPython.core.display.HTML object>"
      ]
     },
     "metadata": {},
     "output_type": "display_data"
    },
    {
     "data": {
      "text/html": [
       " View project at <a href='https://wandb.ai/micheleyin/ASR%20WER%20Test%20Local%20asr-wav2vec2-commonvoice-en' target=\"_blank\">https://wandb.ai/micheleyin/ASR%20WER%20Test%20Local%20asr-wav2vec2-commonvoice-en</a>"
      ],
      "text/plain": [
       "<IPython.core.display.HTML object>"
      ]
     },
     "metadata": {},
     "output_type": "display_data"
    },
    {
     "data": {
      "text/html": [
       " View run at <a href='https://wandb.ai/micheleyin/ASR%20WER%20Test%20Local%20asr-wav2vec2-commonvoice-en/runs/ewmnjlaw' target=\"_blank\">https://wandb.ai/micheleyin/ASR%20WER%20Test%20Local%20asr-wav2vec2-commonvoice-en/runs/ewmnjlaw</a>"
      ],
      "text/plain": [
       "<IPython.core.display.HTML object>"
      ]
     },
     "metadata": {},
     "output_type": "display_data"
    },
    {
     "data": {
      "text/html": [
       "Waiting for W&B process to finish... <strong style=\"color:green\">(success).</strong>"
      ],
      "text/plain": [
       "<IPython.core.display.HTML object>"
      ]
     },
     "metadata": {},
     "output_type": "display_data"
    },
    {
     "data": {
      "application/vnd.jupyter.widget-view+json": {
       "model_id": "8bb4704ee8454afbb95af4351de5abcf",
       "version_major": 2,
       "version_minor": 0
      },
      "text/plain": [
       "VBox(children=(Label(value='0.001 MB of 0.005 MB uploaded (0.000 MB deduped)\\r'), FloatProgress(value=0.173699…"
      ]
     },
     "metadata": {},
     "output_type": "display_data"
    },
    {
     "data": {
      "text/html": [
       "<style>\n",
       "    table.wandb td:nth-child(1) { padding: 0 10px; text-align: left ; width: auto;} td:nth-child(2) {text-align: left ; width: 100%}\n",
       "    .wandb-row { display: flex; flex-direction: row; flex-wrap: wrap; justify-content: flex-start; width: 100% }\n",
       "    .wandb-col { display: flex; flex-direction: column; flex-basis: 100%; flex: 1; padding: 10px; }\n",
       "    </style>\n",
       "<div class=\"wandb-row\"><div class=\"wandb-col\"><h3>Run history:</h3><br/><table class=\"wandb\"><tr><td>Average time per sample</td><td>▁</td></tr><tr><td>Tokens per second</td><td>▁</td></tr><tr><td>Total samples</td><td>▁</td></tr><tr><td>Total time</td><td>▁</td></tr><tr><td>Total tokens</td><td>▁</td></tr><tr><td>WER</td><td>▁</td></tr></table><br/></div><div class=\"wandb-col\"><h3>Run summary:</h3><br/><table class=\"wandb\"><tr><td>Average time per sample</td><td>4.37539</td></tr><tr><td>Tokens per second</td><td>15.99856</td></tr><tr><td>Total samples</td><td>210</td></tr><tr><td>Total time</td><td>13.12618</td></tr><tr><td>Total tokens</td><td>210</td></tr><tr><td>WER</td><td>0.04831</td></tr></table><br/></div></div>"
      ],
      "text/plain": [
       "<IPython.core.display.HTML object>"
      ]
     },
     "metadata": {},
     "output_type": "display_data"
    },
    {
     "data": {
      "text/html": [
       " View run <strong style=\"color:#cdcd00\">Local asr-wav2vec2-commonvoice-en_librispeech_clean_median</strong> at: <a href='https://wandb.ai/micheleyin/ASR%20WER%20Test%20Local%20asr-wav2vec2-commonvoice-en/runs/ewmnjlaw' target=\"_blank\">https://wandb.ai/micheleyin/ASR%20WER%20Test%20Local%20asr-wav2vec2-commonvoice-en/runs/ewmnjlaw</a><br/>Synced 5 W&B file(s), 0 media file(s), 0 artifact file(s) and 0 other file(s)"
      ],
      "text/plain": [
       "<IPython.core.display.HTML object>"
      ]
     },
     "metadata": {},
     "output_type": "display_data"
    },
    {
     "data": {
      "text/html": [
       "Find logs at: <code>./wandb/run-20230223_130009-ewmnjlaw/logs</code>"
      ],
      "text/plain": [
       "<IPython.core.display.HTML object>"
      ]
     },
     "metadata": {},
     "output_type": "display_data"
    },
    {
     "data": {
      "application/vnd.jupyter.widget-view+json": {
       "model_id": "f2f0e133a78b442ca5b984f2d3db1771",
       "version_major": 2,
       "version_minor": 0
      },
      "text/plain": [
       "VBox(children=(Label(value='Waiting for wandb.init()...\\r'), FloatProgress(value=0.01675199236657742, max=1.0)…"
      ]
     },
     "metadata": {},
     "output_type": "display_data"
    },
    {
     "data": {
      "text/html": [
       "Tracking run with wandb version 0.13.10"
      ],
      "text/plain": [
       "<IPython.core.display.HTML object>"
      ]
     },
     "metadata": {},
     "output_type": "display_data"
    },
    {
     "data": {
      "text/html": [
       "Run data is saved locally in <code>/Users/micheleyin/Documents/AI_DBMovie/asr/wandb/run-20230223_130031-ct8pivna</code>"
      ],
      "text/plain": [
       "<IPython.core.display.HTML object>"
      ]
     },
     "metadata": {},
     "output_type": "display_data"
    },
    {
     "data": {
      "text/html": [
       "Syncing run <strong><a href='https://wandb.ai/micheleyin/ASR%20WER%20Test%20Local%20asr-wav2vec2-commonvoice-en/runs/ct8pivna' target=\"_blank\">Local asr-wav2vec2-commonvoice-en_librispeech_clean_min</a></strong> to <a href='https://wandb.ai/micheleyin/ASR%20WER%20Test%20Local%20asr-wav2vec2-commonvoice-en' target=\"_blank\">Weights & Biases</a> (<a href='https://wandb.me/run' target=\"_blank\">docs</a>)<br/>"
      ],
      "text/plain": [
       "<IPython.core.display.HTML object>"
      ]
     },
     "metadata": {},
     "output_type": "display_data"
    },
    {
     "data": {
      "text/html": [
       " View project at <a href='https://wandb.ai/micheleyin/ASR%20WER%20Test%20Local%20asr-wav2vec2-commonvoice-en' target=\"_blank\">https://wandb.ai/micheleyin/ASR%20WER%20Test%20Local%20asr-wav2vec2-commonvoice-en</a>"
      ],
      "text/plain": [
       "<IPython.core.display.HTML object>"
      ]
     },
     "metadata": {},
     "output_type": "display_data"
    },
    {
     "data": {
      "text/html": [
       " View run at <a href='https://wandb.ai/micheleyin/ASR%20WER%20Test%20Local%20asr-wav2vec2-commonvoice-en/runs/ct8pivna' target=\"_blank\">https://wandb.ai/micheleyin/ASR%20WER%20Test%20Local%20asr-wav2vec2-commonvoice-en/runs/ct8pivna</a>"
      ],
      "text/plain": [
       "<IPython.core.display.HTML object>"
      ]
     },
     "metadata": {},
     "output_type": "display_data"
    },
    {
     "data": {
      "text/html": [
       "Waiting for W&B process to finish... <strong style=\"color:green\">(success).</strong>"
      ],
      "text/plain": [
       "<IPython.core.display.HTML object>"
      ]
     },
     "metadata": {},
     "output_type": "display_data"
    },
    {
     "data": {
      "application/vnd.jupyter.widget-view+json": {
       "model_id": "2532922713334a2eb49f4f745497b407",
       "version_major": 2,
       "version_minor": 0
      },
      "text/plain": [
       "VBox(children=(Label(value='0.001 MB of 0.001 MB uploaded (0.000 MB deduped)\\r'), FloatProgress(value=1.0, max…"
      ]
     },
     "metadata": {},
     "output_type": "display_data"
    },
    {
     "data": {
      "text/html": [
       "<style>\n",
       "    table.wandb td:nth-child(1) { padding: 0 10px; text-align: left ; width: auto;} td:nth-child(2) {text-align: left ; width: 100%}\n",
       "    .wandb-row { display: flex; flex-direction: row; flex-wrap: wrap; justify-content: flex-start; width: 100% }\n",
       "    .wandb-col { display: flex; flex-direction: column; flex-basis: 100%; flex: 1; padding: 10px; }\n",
       "    </style>\n",
       "<div class=\"wandb-row\"><div class=\"wandb-col\"><h3>Run history:</h3><br/><table class=\"wandb\"><tr><td>Average time per sample</td><td>▁</td></tr><tr><td>Tokens per second</td><td>▁</td></tr><tr><td>Total samples</td><td>▁</td></tr><tr><td>Total time</td><td>▁</td></tr><tr><td>Total tokens</td><td>▁</td></tr><tr><td>WER</td><td>▁</td></tr></table><br/></div><div class=\"wandb-col\"><h3>Run summary:</h3><br/><table class=\"wandb\"><tr><td>Average time per sample</td><td>1.1355</td></tr><tr><td>Tokens per second</td><td>8.80671</td></tr><tr><td>Total samples</td><td>210</td></tr><tr><td>Total time</td><td>3.4065</td></tr><tr><td>Total tokens</td><td>30</td></tr><tr><td>WER</td><td>0.16129</td></tr></table><br/></div></div>"
      ],
      "text/plain": [
       "<IPython.core.display.HTML object>"
      ]
     },
     "metadata": {},
     "output_type": "display_data"
    },
    {
     "data": {
      "text/html": [
       " View run <strong style=\"color:#cdcd00\">Local asr-wav2vec2-commonvoice-en_librispeech_clean_min</strong> at: <a href='https://wandb.ai/micheleyin/ASR%20WER%20Test%20Local%20asr-wav2vec2-commonvoice-en/runs/ct8pivna' target=\"_blank\">https://wandb.ai/micheleyin/ASR%20WER%20Test%20Local%20asr-wav2vec2-commonvoice-en/runs/ct8pivna</a><br/>Synced 5 W&B file(s), 0 media file(s), 0 artifact file(s) and 0 other file(s)"
      ],
      "text/plain": [
       "<IPython.core.display.HTML object>"
      ]
     },
     "metadata": {},
     "output_type": "display_data"
    },
    {
     "data": {
      "text/html": [
       "Find logs at: <code>./wandb/run-20230223_130031-ct8pivna/logs</code>"
      ],
      "text/plain": [
       "<IPython.core.display.HTML object>"
      ]
     },
     "metadata": {},
     "output_type": "display_data"
    },
    {
     "data": {
      "application/vnd.jupyter.widget-view+json": {
       "model_id": "6e823f4228db4fa28d68652c8a80f54d",
       "version_major": 2,
       "version_minor": 0
      },
      "text/plain": [
       "VBox(children=(Label(value='Waiting for wandb.init()...\\r'), FloatProgress(value=0.016751491666703564, max=1.0…"
      ]
     },
     "metadata": {},
     "output_type": "display_data"
    },
    {
     "data": {
      "text/html": [
       "Tracking run with wandb version 0.13.10"
      ],
      "text/plain": [
       "<IPython.core.display.HTML object>"
      ]
     },
     "metadata": {},
     "output_type": "display_data"
    },
    {
     "data": {
      "text/html": [
       "Run data is saved locally in <code>/Users/micheleyin/Documents/AI_DBMovie/asr/wandb/run-20230223_130046-7ez6ad32</code>"
      ],
      "text/plain": [
       "<IPython.core.display.HTML object>"
      ]
     },
     "metadata": {},
     "output_type": "display_data"
    },
    {
     "data": {
      "text/html": [
       "Syncing run <strong><a href='https://wandb.ai/micheleyin/ASR%20WER%20Test%20Local%20asr-wav2vec2-commonvoice-en/runs/7ez6ad32' target=\"_blank\">Local asr-wav2vec2-commonvoice-en_librispeech_clean_max</a></strong> to <a href='https://wandb.ai/micheleyin/ASR%20WER%20Test%20Local%20asr-wav2vec2-commonvoice-en' target=\"_blank\">Weights & Biases</a> (<a href='https://wandb.me/run' target=\"_blank\">docs</a>)<br/>"
      ],
      "text/plain": [
       "<IPython.core.display.HTML object>"
      ]
     },
     "metadata": {},
     "output_type": "display_data"
    },
    {
     "data": {
      "text/html": [
       " View project at <a href='https://wandb.ai/micheleyin/ASR%20WER%20Test%20Local%20asr-wav2vec2-commonvoice-en' target=\"_blank\">https://wandb.ai/micheleyin/ASR%20WER%20Test%20Local%20asr-wav2vec2-commonvoice-en</a>"
      ],
      "text/plain": [
       "<IPython.core.display.HTML object>"
      ]
     },
     "metadata": {},
     "output_type": "display_data"
    },
    {
     "data": {
      "text/html": [
       " View run at <a href='https://wandb.ai/micheleyin/ASR%20WER%20Test%20Local%20asr-wav2vec2-commonvoice-en/runs/7ez6ad32' target=\"_blank\">https://wandb.ai/micheleyin/ASR%20WER%20Test%20Local%20asr-wav2vec2-commonvoice-en/runs/7ez6ad32</a>"
      ],
      "text/plain": [
       "<IPython.core.display.HTML object>"
      ]
     },
     "metadata": {},
     "output_type": "display_data"
    },
    {
     "data": {
      "text/html": [
       "Waiting for W&B process to finish... <strong style=\"color:green\">(success).</strong>"
      ],
      "text/plain": [
       "<IPython.core.display.HTML object>"
      ]
     },
     "metadata": {},
     "output_type": "display_data"
    },
    {
     "data": {
      "application/vnd.jupyter.widget-view+json": {
       "model_id": "6ef6c72b523f421ca65aa1dba40cdeb4",
       "version_major": 2,
       "version_minor": 0
      },
      "text/plain": [
       "VBox(children=(Label(value='0.001 MB of 0.014 MB uploaded (0.000 MB deduped)\\r'), FloatProgress(value=0.069913…"
      ]
     },
     "metadata": {},
     "output_type": "display_data"
    },
    {
     "data": {
      "text/html": [
       "<style>\n",
       "    table.wandb td:nth-child(1) { padding: 0 10px; text-align: left ; width: auto;} td:nth-child(2) {text-align: left ; width: 100%}\n",
       "    .wandb-row { display: flex; flex-direction: row; flex-wrap: wrap; justify-content: flex-start; width: 100% }\n",
       "    .wandb-col { display: flex; flex-direction: column; flex-basis: 100%; flex: 1; padding: 10px; }\n",
       "    </style>\n",
       "<div class=\"wandb-row\"><div class=\"wandb-col\"><h3>Run history:</h3><br/><table class=\"wandb\"><tr><td>Average time per sample</td><td>▁</td></tr><tr><td>Tokens per second</td><td>▁</td></tr><tr><td>Total samples</td><td>▁</td></tr><tr><td>Total time</td><td>▁</td></tr><tr><td>Total tokens</td><td>▁</td></tr><tr><td>WER</td><td>▁</td></tr></table><br/></div><div class=\"wandb-col\"><h3>Run summary:</h3><br/><table class=\"wandb\"><tr><td>Average time per sample</td><td>19.47547</td></tr><tr><td>Tokens per second</td><td>11.21068</td></tr><tr><td>Total samples</td><td>210</td></tr><tr><td>Total time</td><td>58.42641</td></tr><tr><td>Total tokens</td><td>655</td></tr><tr><td>WER</td><td>0.3021</td></tr></table><br/></div></div>"
      ],
      "text/plain": [
       "<IPython.core.display.HTML object>"
      ]
     },
     "metadata": {},
     "output_type": "display_data"
    },
    {
     "data": {
      "text/html": [
       " View run <strong style=\"color:#cdcd00\">Local asr-wav2vec2-commonvoice-en_librispeech_clean_max</strong> at: <a href='https://wandb.ai/micheleyin/ASR%20WER%20Test%20Local%20asr-wav2vec2-commonvoice-en/runs/7ez6ad32' target=\"_blank\">https://wandb.ai/micheleyin/ASR%20WER%20Test%20Local%20asr-wav2vec2-commonvoice-en/runs/7ez6ad32</a><br/>Synced 5 W&B file(s), 0 media file(s), 0 artifact file(s) and 0 other file(s)"
      ],
      "text/plain": [
       "<IPython.core.display.HTML object>"
      ]
     },
     "metadata": {},
     "output_type": "display_data"
    },
    {
     "data": {
      "text/html": [
       "Find logs at: <code>./wandb/run-20230223_130046-7ez6ad32/logs</code>"
      ],
      "text/plain": [
       "<IPython.core.display.HTML object>"
      ]
     },
     "metadata": {},
     "output_type": "display_data"
    },
    {
     "data": {
      "application/vnd.jupyter.widget-view+json": {
       "model_id": "c42dc19488b14c3eb7914c5459d91964",
       "version_major": 2,
       "version_minor": 0
      },
      "text/plain": [
       "VBox(children=(Label(value='Waiting for wandb.init()...\\r'), FloatProgress(value=0.016751414583510874, max=1.0…"
      ]
     },
     "metadata": {},
     "output_type": "display_data"
    },
    {
     "data": {
      "text/html": [
       "Tracking run with wandb version 0.13.10"
      ],
      "text/plain": [
       "<IPython.core.display.HTML object>"
      ]
     },
     "metadata": {},
     "output_type": "display_data"
    },
    {
     "data": {
      "text/html": [
       "Run data is saved locally in <code>/Users/micheleyin/Documents/AI_DBMovie/asr/wandb/run-20230223_130156-isvh3shl</code>"
      ],
      "text/plain": [
       "<IPython.core.display.HTML object>"
      ]
     },
     "metadata": {},
     "output_type": "display_data"
    },
    {
     "data": {
      "text/html": [
       "Syncing run <strong><a href='https://wandb.ai/micheleyin/ASR%20WER%20Test%20Local%20asr-wav2vec2-commonvoice-en/runs/isvh3shl' target=\"_blank\">Local asr-wav2vec2-commonvoice-en_librispeech_other_median</a></strong> to <a href='https://wandb.ai/micheleyin/ASR%20WER%20Test%20Local%20asr-wav2vec2-commonvoice-en' target=\"_blank\">Weights & Biases</a> (<a href='https://wandb.me/run' target=\"_blank\">docs</a>)<br/>"
      ],
      "text/plain": [
       "<IPython.core.display.HTML object>"
      ]
     },
     "metadata": {},
     "output_type": "display_data"
    },
    {
     "data": {
      "text/html": [
       " View project at <a href='https://wandb.ai/micheleyin/ASR%20WER%20Test%20Local%20asr-wav2vec2-commonvoice-en' target=\"_blank\">https://wandb.ai/micheleyin/ASR%20WER%20Test%20Local%20asr-wav2vec2-commonvoice-en</a>"
      ],
      "text/plain": [
       "<IPython.core.display.HTML object>"
      ]
     },
     "metadata": {},
     "output_type": "display_data"
    },
    {
     "data": {
      "text/html": [
       " View run at <a href='https://wandb.ai/micheleyin/ASR%20WER%20Test%20Local%20asr-wav2vec2-commonvoice-en/runs/isvh3shl' target=\"_blank\">https://wandb.ai/micheleyin/ASR%20WER%20Test%20Local%20asr-wav2vec2-commonvoice-en/runs/isvh3shl</a>"
      ],
      "text/plain": [
       "<IPython.core.display.HTML object>"
      ]
     },
     "metadata": {},
     "output_type": "display_data"
    },
    {
     "data": {
      "text/html": [
       "Waiting for W&B process to finish... <strong style=\"color:green\">(success).</strong>"
      ],
      "text/plain": [
       "<IPython.core.display.HTML object>"
      ]
     },
     "metadata": {},
     "output_type": "display_data"
    },
    {
     "data": {
      "application/vnd.jupyter.widget-view+json": {
       "model_id": "a9a8b49f43cc4f67a6d06d332a4d50d0",
       "version_major": 2,
       "version_minor": 0
      },
      "text/plain": [
       "VBox(children=(Label(value='0.001 MB of 0.005 MB uploaded (0.000 MB deduped)\\r'), FloatProgress(value=0.173639…"
      ]
     },
     "metadata": {},
     "output_type": "display_data"
    },
    {
     "data": {
      "text/html": [
       "<style>\n",
       "    table.wandb td:nth-child(1) { padding: 0 10px; text-align: left ; width: auto;} td:nth-child(2) {text-align: left ; width: 100%}\n",
       "    .wandb-row { display: flex; flex-direction: row; flex-wrap: wrap; justify-content: flex-start; width: 100% }\n",
       "    .wandb-col { display: flex; flex-direction: column; flex-basis: 100%; flex: 1; padding: 10px; }\n",
       "    </style>\n",
       "<div class=\"wandb-row\"><div class=\"wandb-col\"><h3>Run history:</h3><br/><table class=\"wandb\"><tr><td>Average time per sample</td><td>▁</td></tr><tr><td>Tokens per second</td><td>▁</td></tr><tr><td>Total samples</td><td>▁</td></tr><tr><td>Total time</td><td>▁</td></tr><tr><td>Total tokens</td><td>▁</td></tr><tr><td>WER</td><td>▁</td></tr></table><br/></div><div class=\"wandb-col\"><h3>Run summary:</h3><br/><table class=\"wandb\"><tr><td>Average time per sample</td><td>3.35397</td></tr><tr><td>Tokens per second</td><td>16.89539</td></tr><tr><td>Total samples</td><td>210</td></tr><tr><td>Total time</td><td>10.06192</td></tr><tr><td>Total tokens</td><td>170</td></tr><tr><td>WER</td><td>0.08187</td></tr></table><br/></div></div>"
      ],
      "text/plain": [
       "<IPython.core.display.HTML object>"
      ]
     },
     "metadata": {},
     "output_type": "display_data"
    },
    {
     "data": {
      "text/html": [
       " View run <strong style=\"color:#cdcd00\">Local asr-wav2vec2-commonvoice-en_librispeech_other_median</strong> at: <a href='https://wandb.ai/micheleyin/ASR%20WER%20Test%20Local%20asr-wav2vec2-commonvoice-en/runs/isvh3shl' target=\"_blank\">https://wandb.ai/micheleyin/ASR%20WER%20Test%20Local%20asr-wav2vec2-commonvoice-en/runs/isvh3shl</a><br/>Synced 5 W&B file(s), 0 media file(s), 0 artifact file(s) and 0 other file(s)"
      ],
      "text/plain": [
       "<IPython.core.display.HTML object>"
      ]
     },
     "metadata": {},
     "output_type": "display_data"
    },
    {
     "data": {
      "text/html": [
       "Find logs at: <code>./wandb/run-20230223_130156-isvh3shl/logs</code>"
      ],
      "text/plain": [
       "<IPython.core.display.HTML object>"
      ]
     },
     "metadata": {},
     "output_type": "display_data"
    },
    {
     "data": {
      "application/vnd.jupyter.widget-view+json": {
       "model_id": "68900ef794454a1ab2ce7cf4bb4069b2",
       "version_major": 2,
       "version_minor": 0
      },
      "text/plain": [
       "VBox(children=(Label(value='Waiting for wandb.init()...\\r'), FloatProgress(value=0.016670693749862645, max=1.0…"
      ]
     },
     "metadata": {},
     "output_type": "display_data"
    },
    {
     "data": {
      "text/html": [
       "Tracking run with wandb version 0.13.10"
      ],
      "text/plain": [
       "<IPython.core.display.HTML object>"
      ]
     },
     "metadata": {},
     "output_type": "display_data"
    },
    {
     "data": {
      "text/html": [
       "Run data is saved locally in <code>/Users/micheleyin/Documents/AI_DBMovie/asr/wandb/run-20230223_130217-gven99gk</code>"
      ],
      "text/plain": [
       "<IPython.core.display.HTML object>"
      ]
     },
     "metadata": {},
     "output_type": "display_data"
    },
    {
     "data": {
      "text/html": [
       "Syncing run <strong><a href='https://wandb.ai/micheleyin/ASR%20WER%20Test%20Local%20asr-wav2vec2-commonvoice-en/runs/gven99gk' target=\"_blank\">Local asr-wav2vec2-commonvoice-en_librispeech_other_min</a></strong> to <a href='https://wandb.ai/micheleyin/ASR%20WER%20Test%20Local%20asr-wav2vec2-commonvoice-en' target=\"_blank\">Weights & Biases</a> (<a href='https://wandb.me/run' target=\"_blank\">docs</a>)<br/>"
      ],
      "text/plain": [
       "<IPython.core.display.HTML object>"
      ]
     },
     "metadata": {},
     "output_type": "display_data"
    },
    {
     "data": {
      "text/html": [
       " View project at <a href='https://wandb.ai/micheleyin/ASR%20WER%20Test%20Local%20asr-wav2vec2-commonvoice-en' target=\"_blank\">https://wandb.ai/micheleyin/ASR%20WER%20Test%20Local%20asr-wav2vec2-commonvoice-en</a>"
      ],
      "text/plain": [
       "<IPython.core.display.HTML object>"
      ]
     },
     "metadata": {},
     "output_type": "display_data"
    },
    {
     "data": {
      "text/html": [
       " View run at <a href='https://wandb.ai/micheleyin/ASR%20WER%20Test%20Local%20asr-wav2vec2-commonvoice-en/runs/gven99gk' target=\"_blank\">https://wandb.ai/micheleyin/ASR%20WER%20Test%20Local%20asr-wav2vec2-commonvoice-en/runs/gven99gk</a>"
      ],
      "text/plain": [
       "<IPython.core.display.HTML object>"
      ]
     },
     "metadata": {},
     "output_type": "display_data"
    },
    {
     "data": {
      "text/html": [
       "Waiting for W&B process to finish... <strong style=\"color:green\">(success).</strong>"
      ],
      "text/plain": [
       "<IPython.core.display.HTML object>"
      ]
     },
     "metadata": {},
     "output_type": "display_data"
    },
    {
     "data": {
      "application/vnd.jupyter.widget-view+json": {
       "model_id": "5d12a857846f4e05987b81d19984b50e",
       "version_major": 2,
       "version_minor": 0
      },
      "text/plain": [
       "VBox(children=(Label(value='0.001 MB of 0.014 MB uploaded (0.000 MB deduped)\\r'), FloatProgress(value=0.069977…"
      ]
     },
     "metadata": {},
     "output_type": "display_data"
    },
    {
     "data": {
      "text/html": [
       "<style>\n",
       "    table.wandb td:nth-child(1) { padding: 0 10px; text-align: left ; width: auto;} td:nth-child(2) {text-align: left ; width: 100%}\n",
       "    .wandb-row { display: flex; flex-direction: row; flex-wrap: wrap; justify-content: flex-start; width: 100% }\n",
       "    .wandb-col { display: flex; flex-direction: column; flex-basis: 100%; flex: 1; padding: 10px; }\n",
       "    </style>\n",
       "<div class=\"wandb-row\"><div class=\"wandb-col\"><h3>Run history:</h3><br/><table class=\"wandb\"><tr><td>Average time per sample</td><td>▁</td></tr><tr><td>Tokens per second</td><td>▁</td></tr><tr><td>Total samples</td><td>▁</td></tr><tr><td>Total time</td><td>▁</td></tr><tr><td>Total tokens</td><td>▁</td></tr><tr><td>WER</td><td>▁</td></tr></table><br/></div><div class=\"wandb-col\"><h3>Run summary:</h3><br/><table class=\"wandb\"><tr><td>Average time per sample</td><td>1.11665</td></tr><tr><td>Tokens per second</td><td>8.65682</td></tr><tr><td>Total samples</td><td>210</td></tr><tr><td>Total time</td><td>3.34996</td></tr><tr><td>Total tokens</td><td>29</td></tr><tr><td>WER</td><td>0.3125</td></tr></table><br/></div></div>"
      ],
      "text/plain": [
       "<IPython.core.display.HTML object>"
      ]
     },
     "metadata": {},
     "output_type": "display_data"
    },
    {
     "data": {
      "text/html": [
       " View run <strong style=\"color:#cdcd00\">Local asr-wav2vec2-commonvoice-en_librispeech_other_min</strong> at: <a href='https://wandb.ai/micheleyin/ASR%20WER%20Test%20Local%20asr-wav2vec2-commonvoice-en/runs/gven99gk' target=\"_blank\">https://wandb.ai/micheleyin/ASR%20WER%20Test%20Local%20asr-wav2vec2-commonvoice-en/runs/gven99gk</a><br/>Synced 5 W&B file(s), 0 media file(s), 0 artifact file(s) and 0 other file(s)"
      ],
      "text/plain": [
       "<IPython.core.display.HTML object>"
      ]
     },
     "metadata": {},
     "output_type": "display_data"
    },
    {
     "data": {
      "text/html": [
       "Find logs at: <code>./wandb/run-20230223_130217-gven99gk/logs</code>"
      ],
      "text/plain": [
       "<IPython.core.display.HTML object>"
      ]
     },
     "metadata": {},
     "output_type": "display_data"
    },
    {
     "data": {
      "application/vnd.jupyter.widget-view+json": {
       "model_id": "517fa97f4ffe4eb3add089d0fcf8f8ac",
       "version_major": 2,
       "version_minor": 0
      },
      "text/plain": [
       "VBox(children=(Label(value='Waiting for wandb.init()...\\r'), FloatProgress(value=0.01675146598330078, max=1.0)…"
      ]
     },
     "metadata": {},
     "output_type": "display_data"
    },
    {
     "data": {
      "text/html": [
       "Tracking run with wandb version 0.13.10"
      ],
      "text/plain": [
       "<IPython.core.display.HTML object>"
      ]
     },
     "metadata": {},
     "output_type": "display_data"
    },
    {
     "data": {
      "text/html": [
       "Run data is saved locally in <code>/Users/micheleyin/Documents/AI_DBMovie/asr/wandb/run-20230223_130229-9wpj0bir</code>"
      ],
      "text/plain": [
       "<IPython.core.display.HTML object>"
      ]
     },
     "metadata": {},
     "output_type": "display_data"
    },
    {
     "data": {
      "text/html": [
       "Syncing run <strong><a href='https://wandb.ai/micheleyin/ASR%20WER%20Test%20Local%20asr-wav2vec2-commonvoice-en/runs/9wpj0bir' target=\"_blank\">Local asr-wav2vec2-commonvoice-en_librispeech_other_max</a></strong> to <a href='https://wandb.ai/micheleyin/ASR%20WER%20Test%20Local%20asr-wav2vec2-commonvoice-en' target=\"_blank\">Weights & Biases</a> (<a href='https://wandb.me/run' target=\"_blank\">docs</a>)<br/>"
      ],
      "text/plain": [
       "<IPython.core.display.HTML object>"
      ]
     },
     "metadata": {},
     "output_type": "display_data"
    },
    {
     "data": {
      "text/html": [
       " View project at <a href='https://wandb.ai/micheleyin/ASR%20WER%20Test%20Local%20asr-wav2vec2-commonvoice-en' target=\"_blank\">https://wandb.ai/micheleyin/ASR%20WER%20Test%20Local%20asr-wav2vec2-commonvoice-en</a>"
      ],
      "text/plain": [
       "<IPython.core.display.HTML object>"
      ]
     },
     "metadata": {},
     "output_type": "display_data"
    },
    {
     "data": {
      "text/html": [
       " View run at <a href='https://wandb.ai/micheleyin/ASR%20WER%20Test%20Local%20asr-wav2vec2-commonvoice-en/runs/9wpj0bir' target=\"_blank\">https://wandb.ai/micheleyin/ASR%20WER%20Test%20Local%20asr-wav2vec2-commonvoice-en/runs/9wpj0bir</a>"
      ],
      "text/plain": [
       "<IPython.core.display.HTML object>"
      ]
     },
     "metadata": {},
     "output_type": "display_data"
    },
    {
     "data": {
      "text/html": [
       "Waiting for W&B process to finish... <strong style=\"color:green\">(success).</strong>"
      ],
      "text/plain": [
       "<IPython.core.display.HTML object>"
      ]
     },
     "metadata": {},
     "output_type": "display_data"
    },
    {
     "data": {
      "application/vnd.jupyter.widget-view+json": {
       "model_id": "fb5d74a58efd45c09f268dc4d17e9503",
       "version_major": 2,
       "version_minor": 0
      },
      "text/plain": [
       "VBox(children=(Label(value='0.001 MB of 0.014 MB uploaded (0.000 MB deduped)\\r'), FloatProgress(value=0.069842…"
      ]
     },
     "metadata": {},
     "output_type": "display_data"
    },
    {
     "data": {
      "text/html": [
       "<style>\n",
       "    table.wandb td:nth-child(1) { padding: 0 10px; text-align: left ; width: auto;} td:nth-child(2) {text-align: left ; width: 100%}\n",
       "    .wandb-row { display: flex; flex-direction: row; flex-wrap: wrap; justify-content: flex-start; width: 100% }\n",
       "    .wandb-col { display: flex; flex-direction: column; flex-basis: 100%; flex: 1; padding: 10px; }\n",
       "    </style>\n",
       "<div class=\"wandb-row\"><div class=\"wandb-col\"><h3>Run history:</h3><br/><table class=\"wandb\"><tr><td>Average time per sample</td><td>▁</td></tr><tr><td>Tokens per second</td><td>▁</td></tr><tr><td>Total samples</td><td>▁</td></tr><tr><td>Total time</td><td>▁</td></tr><tr><td>Total tokens</td><td>▁</td></tr><tr><td>WER</td><td>▁</td></tr></table><br/></div><div class=\"wandb-col\"><h3>Run summary:</h3><br/><table class=\"wandb\"><tr><td>Average time per sample</td><td>23.89393</td></tr><tr><td>Tokens per second</td><td>8.78884</td></tr><tr><td>Total samples</td><td>210</td></tr><tr><td>Total time</td><td>71.68178</td></tr><tr><td>Total tokens</td><td>630</td></tr><tr><td>WER</td><td>0.41684</td></tr></table><br/></div></div>"
      ],
      "text/plain": [
       "<IPython.core.display.HTML object>"
      ]
     },
     "metadata": {},
     "output_type": "display_data"
    },
    {
     "data": {
      "text/html": [
       " View run <strong style=\"color:#cdcd00\">Local asr-wav2vec2-commonvoice-en_librispeech_other_max</strong> at: <a href='https://wandb.ai/micheleyin/ASR%20WER%20Test%20Local%20asr-wav2vec2-commonvoice-en/runs/9wpj0bir' target=\"_blank\">https://wandb.ai/micheleyin/ASR%20WER%20Test%20Local%20asr-wav2vec2-commonvoice-en/runs/9wpj0bir</a><br/>Synced 5 W&B file(s), 0 media file(s), 0 artifact file(s) and 0 other file(s)"
      ],
      "text/plain": [
       "<IPython.core.display.HTML object>"
      ]
     },
     "metadata": {},
     "output_type": "display_data"
    },
    {
     "data": {
      "text/html": [
       "Find logs at: <code>./wandb/run-20230223_130229-9wpj0bir/logs</code>"
      ],
      "text/plain": [
       "<IPython.core.display.HTML object>"
      ]
     },
     "metadata": {},
     "output_type": "display_data"
    },
    {
     "data": {
      "application/vnd.jupyter.widget-view+json": {
       "model_id": "24526a7d6f554c11a241fbd24e8bdc34",
       "version_major": 2,
       "version_minor": 0
      },
      "text/plain": [
       "VBox(children=(Label(value='Waiting for wandb.init()...\\r'), FloatProgress(value=0.016679320133456108, max=1.0…"
      ]
     },
     "metadata": {},
     "output_type": "display_data"
    },
    {
     "data": {
      "text/html": [
       "Tracking run with wandb version 0.13.10"
      ],
      "text/plain": [
       "<IPython.core.display.HTML object>"
      ]
     },
     "metadata": {},
     "output_type": "display_data"
    },
    {
     "data": {
      "text/html": [
       "Run data is saved locally in <code>/Users/micheleyin/Documents/AI_DBMovie/asr/wandb/run-20230223_130351-d3hs94ce</code>"
      ],
      "text/plain": [
       "<IPython.core.display.HTML object>"
      ]
     },
     "metadata": {},
     "output_type": "display_data"
    },
    {
     "data": {
      "text/html": [
       "Syncing run <strong><a href='https://wandb.ai/micheleyin/ASR%20WER%20Test%20Local%20asr-wav2vec2-commonvoice-en/runs/d3hs94ce' target=\"_blank\">Local asr-wav2vec2-commonvoice-en_spgispeech_clean_median</a></strong> to <a href='https://wandb.ai/micheleyin/ASR%20WER%20Test%20Local%20asr-wav2vec2-commonvoice-en' target=\"_blank\">Weights & Biases</a> (<a href='https://wandb.me/run' target=\"_blank\">docs</a>)<br/>"
      ],
      "text/plain": [
       "<IPython.core.display.HTML object>"
      ]
     },
     "metadata": {},
     "output_type": "display_data"
    },
    {
     "data": {
      "text/html": [
       " View project at <a href='https://wandb.ai/micheleyin/ASR%20WER%20Test%20Local%20asr-wav2vec2-commonvoice-en' target=\"_blank\">https://wandb.ai/micheleyin/ASR%20WER%20Test%20Local%20asr-wav2vec2-commonvoice-en</a>"
      ],
      "text/plain": [
       "<IPython.core.display.HTML object>"
      ]
     },
     "metadata": {},
     "output_type": "display_data"
    },
    {
     "data": {
      "text/html": [
       " View run at <a href='https://wandb.ai/micheleyin/ASR%20WER%20Test%20Local%20asr-wav2vec2-commonvoice-en/runs/d3hs94ce' target=\"_blank\">https://wandb.ai/micheleyin/ASR%20WER%20Test%20Local%20asr-wav2vec2-commonvoice-en/runs/d3hs94ce</a>"
      ],
      "text/plain": [
       "<IPython.core.display.HTML object>"
      ]
     },
     "metadata": {},
     "output_type": "display_data"
    },
    {
     "data": {
      "text/html": [
       "Waiting for W&B process to finish... <strong style=\"color:green\">(success).</strong>"
      ],
      "text/plain": [
       "<IPython.core.display.HTML object>"
      ]
     },
     "metadata": {},
     "output_type": "display_data"
    },
    {
     "data": {
      "application/vnd.jupyter.widget-view+json": {
       "model_id": "53e861db682946b79cf269384fe613cf",
       "version_major": 2,
       "version_minor": 0
      },
      "text/plain": [
       "VBox(children=(Label(value='0.001 MB of 0.004 MB uploaded (0.000 MB deduped)\\r'), FloatProgress(value=0.214270…"
      ]
     },
     "metadata": {},
     "output_type": "display_data"
    },
    {
     "data": {
      "text/html": [
       "<style>\n",
       "    table.wandb td:nth-child(1) { padding: 0 10px; text-align: left ; width: auto;} td:nth-child(2) {text-align: left ; width: 100%}\n",
       "    .wandb-row { display: flex; flex-direction: row; flex-wrap: wrap; justify-content: flex-start; width: 100% }\n",
       "    .wandb-col { display: flex; flex-direction: column; flex-basis: 100%; flex: 1; padding: 10px; }\n",
       "    </style>\n",
       "<div class=\"wandb-row\"><div class=\"wandb-col\"><h3>Run history:</h3><br/><table class=\"wandb\"><tr><td>Average time per sample</td><td>▁</td></tr><tr><td>Tokens per second</td><td>▁</td></tr><tr><td>Total samples</td><td>▁</td></tr><tr><td>Total time</td><td>▁</td></tr><tr><td>Total tokens</td><td>▁</td></tr><tr><td>WER</td><td>▁</td></tr></table><br/></div><div class=\"wandb-col\"><h3>Run summary:</h3><br/><table class=\"wandb\"><tr><td>Average time per sample</td><td>5.6756</td></tr><tr><td>Tokens per second</td><td>14.21289</td></tr><tr><td>Total samples</td><td>210</td></tr><tr><td>Total time</td><td>17.0268</td></tr><tr><td>Total tokens</td><td>242</td></tr><tr><td>WER</td><td>0.125</td></tr></table><br/></div></div>"
      ],
      "text/plain": [
       "<IPython.core.display.HTML object>"
      ]
     },
     "metadata": {},
     "output_type": "display_data"
    },
    {
     "data": {
      "text/html": [
       " View run <strong style=\"color:#cdcd00\">Local asr-wav2vec2-commonvoice-en_spgispeech_clean_median</strong> at: <a href='https://wandb.ai/micheleyin/ASR%20WER%20Test%20Local%20asr-wav2vec2-commonvoice-en/runs/d3hs94ce' target=\"_blank\">https://wandb.ai/micheleyin/ASR%20WER%20Test%20Local%20asr-wav2vec2-commonvoice-en/runs/d3hs94ce</a><br/>Synced 5 W&B file(s), 0 media file(s), 0 artifact file(s) and 0 other file(s)"
      ],
      "text/plain": [
       "<IPython.core.display.HTML object>"
      ]
     },
     "metadata": {},
     "output_type": "display_data"
    },
    {
     "data": {
      "text/html": [
       "Find logs at: <code>./wandb/run-20230223_130351-d3hs94ce/logs</code>"
      ],
      "text/plain": [
       "<IPython.core.display.HTML object>"
      ]
     },
     "metadata": {},
     "output_type": "display_data"
    },
    {
     "data": {
      "application/vnd.jupyter.widget-view+json": {
       "model_id": "114fe42be87447b480cbf4aee984bc82",
       "version_major": 2,
       "version_minor": 0
      },
      "text/plain": [
       "VBox(children=(Label(value='Waiting for wandb.init()...\\r'), FloatProgress(value=0.016761028483354798, max=1.0…"
      ]
     },
     "metadata": {},
     "output_type": "display_data"
    },
    {
     "data": {
      "text/html": [
       "Tracking run with wandb version 0.13.10"
      ],
      "text/plain": [
       "<IPython.core.display.HTML object>"
      ]
     },
     "metadata": {},
     "output_type": "display_data"
    },
    {
     "data": {
      "text/html": [
       "Run data is saved locally in <code>/Users/micheleyin/Documents/AI_DBMovie/asr/wandb/run-20230223_130418-mr6h07w8</code>"
      ],
      "text/plain": [
       "<IPython.core.display.HTML object>"
      ]
     },
     "metadata": {},
     "output_type": "display_data"
    },
    {
     "data": {
      "text/html": [
       "Syncing run <strong><a href='https://wandb.ai/micheleyin/ASR%20WER%20Test%20Local%20asr-wav2vec2-commonvoice-en/runs/mr6h07w8' target=\"_blank\">Local asr-wav2vec2-commonvoice-en_spgispeech_clean_min</a></strong> to <a href='https://wandb.ai/micheleyin/ASR%20WER%20Test%20Local%20asr-wav2vec2-commonvoice-en' target=\"_blank\">Weights & Biases</a> (<a href='https://wandb.me/run' target=\"_blank\">docs</a>)<br/>"
      ],
      "text/plain": [
       "<IPython.core.display.HTML object>"
      ]
     },
     "metadata": {},
     "output_type": "display_data"
    },
    {
     "data": {
      "text/html": [
       " View project at <a href='https://wandb.ai/micheleyin/ASR%20WER%20Test%20Local%20asr-wav2vec2-commonvoice-en' target=\"_blank\">https://wandb.ai/micheleyin/ASR%20WER%20Test%20Local%20asr-wav2vec2-commonvoice-en</a>"
      ],
      "text/plain": [
       "<IPython.core.display.HTML object>"
      ]
     },
     "metadata": {},
     "output_type": "display_data"
    },
    {
     "data": {
      "text/html": [
       " View run at <a href='https://wandb.ai/micheleyin/ASR%20WER%20Test%20Local%20asr-wav2vec2-commonvoice-en/runs/mr6h07w8' target=\"_blank\">https://wandb.ai/micheleyin/ASR%20WER%20Test%20Local%20asr-wav2vec2-commonvoice-en/runs/mr6h07w8</a>"
      ],
      "text/plain": [
       "<IPython.core.display.HTML object>"
      ]
     },
     "metadata": {},
     "output_type": "display_data"
    },
    {
     "data": {
      "text/html": [
       "Waiting for W&B process to finish... <strong style=\"color:green\">(success).</strong>"
      ],
      "text/plain": [
       "<IPython.core.display.HTML object>"
      ]
     },
     "metadata": {},
     "output_type": "display_data"
    },
    {
     "data": {
      "application/vnd.jupyter.widget-view+json": {
       "model_id": "a116d584cf264aff85e11a1324fe9ed7",
       "version_major": 2,
       "version_minor": 0
      },
      "text/plain": [
       "VBox(children=(Label(value='0.001 MB of 0.005 MB uploaded (0.000 MB deduped)\\r'), FloatProgress(value=0.173943…"
      ]
     },
     "metadata": {},
     "output_type": "display_data"
    },
    {
     "data": {
      "text/html": [
       "<style>\n",
       "    table.wandb td:nth-child(1) { padding: 0 10px; text-align: left ; width: auto;} td:nth-child(2) {text-align: left ; width: 100%}\n",
       "    .wandb-row { display: flex; flex-direction: row; flex-wrap: wrap; justify-content: flex-start; width: 100% }\n",
       "    .wandb-col { display: flex; flex-direction: column; flex-basis: 100%; flex: 1; padding: 10px; }\n",
       "    </style>\n",
       "<div class=\"wandb-row\"><div class=\"wandb-col\"><h3>Run history:</h3><br/><table class=\"wandb\"><tr><td>Average time per sample</td><td>▁</td></tr><tr><td>Tokens per second</td><td>▁</td></tr><tr><td>Total samples</td><td>▁</td></tr><tr><td>Total time</td><td>▁</td></tr><tr><td>Total tokens</td><td>▁</td></tr><tr><td>WER</td><td>▁</td></tr></table><br/></div><div class=\"wandb-col\"><h3>Run summary:</h3><br/><table class=\"wandb\"><tr><td>Average time per sample</td><td>2.96691</td></tr><tr><td>Tokens per second</td><td>11.12269</td></tr><tr><td>Total samples</td><td>210</td></tr><tr><td>Total time</td><td>8.90072</td></tr><tr><td>Total tokens</td><td>99</td></tr><tr><td>WER</td><td>0.17</td></tr></table><br/></div></div>"
      ],
      "text/plain": [
       "<IPython.core.display.HTML object>"
      ]
     },
     "metadata": {},
     "output_type": "display_data"
    },
    {
     "data": {
      "text/html": [
       " View run <strong style=\"color:#cdcd00\">Local asr-wav2vec2-commonvoice-en_spgispeech_clean_min</strong> at: <a href='https://wandb.ai/micheleyin/ASR%20WER%20Test%20Local%20asr-wav2vec2-commonvoice-en/runs/mr6h07w8' target=\"_blank\">https://wandb.ai/micheleyin/ASR%20WER%20Test%20Local%20asr-wav2vec2-commonvoice-en/runs/mr6h07w8</a><br/>Synced 5 W&B file(s), 0 media file(s), 0 artifact file(s) and 0 other file(s)"
      ],
      "text/plain": [
       "<IPython.core.display.HTML object>"
      ]
     },
     "metadata": {},
     "output_type": "display_data"
    },
    {
     "data": {
      "text/html": [
       "Find logs at: <code>./wandb/run-20230223_130418-mr6h07w8/logs</code>"
      ],
      "text/plain": [
       "<IPython.core.display.HTML object>"
      ]
     },
     "metadata": {},
     "output_type": "display_data"
    },
    {
     "data": {
      "application/vnd.jupyter.widget-view+json": {
       "model_id": "390861fd3d974a34903a2e2b4b2ac5c6",
       "version_major": 2,
       "version_minor": 0
      },
      "text/plain": [
       "VBox(children=(Label(value='Waiting for wandb.init()...\\r'), FloatProgress(value=0.016751622216543183, max=1.0…"
      ]
     },
     "metadata": {},
     "output_type": "display_data"
    },
    {
     "data": {
      "text/html": [
       "Tracking run with wandb version 0.13.10"
      ],
      "text/plain": [
       "<IPython.core.display.HTML object>"
      ]
     },
     "metadata": {},
     "output_type": "display_data"
    },
    {
     "data": {
      "text/html": [
       "Run data is saved locally in <code>/Users/micheleyin/Documents/AI_DBMovie/asr/wandb/run-20230223_130436-fwjezrj0</code>"
      ],
      "text/plain": [
       "<IPython.core.display.HTML object>"
      ]
     },
     "metadata": {},
     "output_type": "display_data"
    },
    {
     "data": {
      "text/html": [
       "Syncing run <strong><a href='https://wandb.ai/micheleyin/ASR%20WER%20Test%20Local%20asr-wav2vec2-commonvoice-en/runs/fwjezrj0' target=\"_blank\">Local asr-wav2vec2-commonvoice-en_spgispeech_clean_max</a></strong> to <a href='https://wandb.ai/micheleyin/ASR%20WER%20Test%20Local%20asr-wav2vec2-commonvoice-en' target=\"_blank\">Weights & Biases</a> (<a href='https://wandb.me/run' target=\"_blank\">docs</a>)<br/>"
      ],
      "text/plain": [
       "<IPython.core.display.HTML object>"
      ]
     },
     "metadata": {},
     "output_type": "display_data"
    },
    {
     "data": {
      "text/html": [
       " View project at <a href='https://wandb.ai/micheleyin/ASR%20WER%20Test%20Local%20asr-wav2vec2-commonvoice-en' target=\"_blank\">https://wandb.ai/micheleyin/ASR%20WER%20Test%20Local%20asr-wav2vec2-commonvoice-en</a>"
      ],
      "text/plain": [
       "<IPython.core.display.HTML object>"
      ]
     },
     "metadata": {},
     "output_type": "display_data"
    },
    {
     "data": {
      "text/html": [
       " View run at <a href='https://wandb.ai/micheleyin/ASR%20WER%20Test%20Local%20asr-wav2vec2-commonvoice-en/runs/fwjezrj0' target=\"_blank\">https://wandb.ai/micheleyin/ASR%20WER%20Test%20Local%20asr-wav2vec2-commonvoice-en/runs/fwjezrj0</a>"
      ],
      "text/plain": [
       "<IPython.core.display.HTML object>"
      ]
     },
     "metadata": {},
     "output_type": "display_data"
    },
    {
     "data": {
      "text/html": [
       "Waiting for W&B process to finish... <strong style=\"color:green\">(success).</strong>"
      ],
      "text/plain": [
       "<IPython.core.display.HTML object>"
      ]
     },
     "metadata": {},
     "output_type": "display_data"
    },
    {
     "data": {
      "application/vnd.jupyter.widget-view+json": {
       "model_id": "578d9a9d96ae4a8db7e7de3db66dc463",
       "version_major": 2,
       "version_minor": 0
      },
      "text/plain": [
       "VBox(children=(Label(value='0.001 MB of 0.014 MB uploaded (0.000 MB deduped)\\r'), FloatProgress(value=0.069837…"
      ]
     },
     "metadata": {},
     "output_type": "display_data"
    },
    {
     "data": {
      "text/html": [
       "<style>\n",
       "    table.wandb td:nth-child(1) { padding: 0 10px; text-align: left ; width: auto;} td:nth-child(2) {text-align: left ; width: 100%}\n",
       "    .wandb-row { display: flex; flex-direction: row; flex-wrap: wrap; justify-content: flex-start; width: 100% }\n",
       "    .wandb-col { display: flex; flex-direction: column; flex-basis: 100%; flex: 1; padding: 10px; }\n",
       "    </style>\n",
       "<div class=\"wandb-row\"><div class=\"wandb-col\"><h3>Run history:</h3><br/><table class=\"wandb\"><tr><td>Average time per sample</td><td>▁</td></tr><tr><td>Tokens per second</td><td>▁</td></tr><tr><td>Total samples</td><td>▁</td></tr><tr><td>Total time</td><td>▁</td></tr><tr><td>Total tokens</td><td>▁</td></tr><tr><td>WER</td><td>▁</td></tr></table><br/></div><div class=\"wandb-col\"><h3>Run summary:</h3><br/><table class=\"wandb\"><tr><td>Average time per sample</td><td>15.3979</td></tr><tr><td>Tokens per second</td><td>9.93642</td></tr><tr><td>Total samples</td><td>210</td></tr><tr><td>Total time</td><td>46.1937</td></tr><tr><td>Total tokens</td><td>459</td></tr><tr><td>WER</td><td>0.34865</td></tr></table><br/></div></div>"
      ],
      "text/plain": [
       "<IPython.core.display.HTML object>"
      ]
     },
     "metadata": {},
     "output_type": "display_data"
    },
    {
     "data": {
      "text/html": [
       " View run <strong style=\"color:#cdcd00\">Local asr-wav2vec2-commonvoice-en_spgispeech_clean_max</strong> at: <a href='https://wandb.ai/micheleyin/ASR%20WER%20Test%20Local%20asr-wav2vec2-commonvoice-en/runs/fwjezrj0' target=\"_blank\">https://wandb.ai/micheleyin/ASR%20WER%20Test%20Local%20asr-wav2vec2-commonvoice-en/runs/fwjezrj0</a><br/>Synced 5 W&B file(s), 0 media file(s), 0 artifact file(s) and 0 other file(s)"
      ],
      "text/plain": [
       "<IPython.core.display.HTML object>"
      ]
     },
     "metadata": {},
     "output_type": "display_data"
    },
    {
     "data": {
      "text/html": [
       "Find logs at: <code>./wandb/run-20230223_130436-fwjezrj0/logs</code>"
      ],
      "text/plain": [
       "<IPython.core.display.HTML object>"
      ]
     },
     "metadata": {},
     "output_type": "display_data"
    },
    {
     "data": {
      "application/vnd.jupyter.widget-view+json": {
       "model_id": "26f5bdba35bc43c3a3843600882b5f2c",
       "version_major": 2,
       "version_minor": 0
      },
      "text/plain": [
       "VBox(children=(Label(value='Waiting for wandb.init()...\\r'), FloatProgress(value=0.016729874300168982, max=1.0…"
      ]
     },
     "metadata": {},
     "output_type": "display_data"
    },
    {
     "data": {
      "text/html": [
       "Tracking run with wandb version 0.13.10"
      ],
      "text/plain": [
       "<IPython.core.display.HTML object>"
      ]
     },
     "metadata": {},
     "output_type": "display_data"
    },
    {
     "data": {
      "text/html": [
       "Run data is saved locally in <code>/Users/micheleyin/Documents/AI_DBMovie/asr/wandb/run-20230223_130532-xosdz6cg</code>"
      ],
      "text/plain": [
       "<IPython.core.display.HTML object>"
      ]
     },
     "metadata": {},
     "output_type": "display_data"
    },
    {
     "data": {
      "text/html": [
       "Syncing run <strong><a href='https://wandb.ai/micheleyin/ASR%20WER%20Test%20Local%20asr-wav2vec2-commonvoice-en/runs/xosdz6cg' target=\"_blank\">Local asr-wav2vec2-commonvoice-en_spgispeech_other_median</a></strong> to <a href='https://wandb.ai/micheleyin/ASR%20WER%20Test%20Local%20asr-wav2vec2-commonvoice-en' target=\"_blank\">Weights & Biases</a> (<a href='https://wandb.me/run' target=\"_blank\">docs</a>)<br/>"
      ],
      "text/plain": [
       "<IPython.core.display.HTML object>"
      ]
     },
     "metadata": {},
     "output_type": "display_data"
    },
    {
     "data": {
      "text/html": [
       " View project at <a href='https://wandb.ai/micheleyin/ASR%20WER%20Test%20Local%20asr-wav2vec2-commonvoice-en' target=\"_blank\">https://wandb.ai/micheleyin/ASR%20WER%20Test%20Local%20asr-wav2vec2-commonvoice-en</a>"
      ],
      "text/plain": [
       "<IPython.core.display.HTML object>"
      ]
     },
     "metadata": {},
     "output_type": "display_data"
    },
    {
     "data": {
      "text/html": [
       " View run at <a href='https://wandb.ai/micheleyin/ASR%20WER%20Test%20Local%20asr-wav2vec2-commonvoice-en/runs/xosdz6cg' target=\"_blank\">https://wandb.ai/micheleyin/ASR%20WER%20Test%20Local%20asr-wav2vec2-commonvoice-en/runs/xosdz6cg</a>"
      ],
      "text/plain": [
       "<IPython.core.display.HTML object>"
      ]
     },
     "metadata": {},
     "output_type": "display_data"
    },
    {
     "data": {
      "text/html": [
       "Waiting for W&B process to finish... <strong style=\"color:green\">(success).</strong>"
      ],
      "text/plain": [
       "<IPython.core.display.HTML object>"
      ]
     },
     "metadata": {},
     "output_type": "display_data"
    },
    {
     "data": {
      "application/vnd.jupyter.widget-view+json": {
       "model_id": "25b09e1d41544066abcb3332b9ee8318",
       "version_major": 2,
       "version_minor": 0
      },
      "text/plain": [
       "VBox(children=(Label(value='0.001 MB of 0.014 MB uploaded (0.000 MB deduped)\\r'), FloatProgress(value=0.069823…"
      ]
     },
     "metadata": {},
     "output_type": "display_data"
    },
    {
     "data": {
      "text/html": [
       "<style>\n",
       "    table.wandb td:nth-child(1) { padding: 0 10px; text-align: left ; width: auto;} td:nth-child(2) {text-align: left ; width: 100%}\n",
       "    .wandb-row { display: flex; flex-direction: row; flex-wrap: wrap; justify-content: flex-start; width: 100% }\n",
       "    .wandb-col { display: flex; flex-direction: column; flex-basis: 100%; flex: 1; padding: 10px; }\n",
       "    </style>\n",
       "<div class=\"wandb-row\"><div class=\"wandb-col\"><h3>Run history:</h3><br/><table class=\"wandb\"><tr><td>Average time per sample</td><td>▁</td></tr><tr><td>Tokens per second</td><td>▁</td></tr><tr><td>Total samples</td><td>▁</td></tr><tr><td>Total time</td><td>▁</td></tr><tr><td>Total tokens</td><td>▁</td></tr><tr><td>WER</td><td>▁</td></tr></table><br/></div><div class=\"wandb-col\"><h3>Run summary:</h3><br/><table class=\"wandb\"><tr><td>Average time per sample</td><td>5.74515</td></tr><tr><td>Tokens per second</td><td>15.02716</td></tr><tr><td>Total samples</td><td>210</td></tr><tr><td>Total time</td><td>17.23546</td></tr><tr><td>Total tokens</td><td>259</td></tr><tr><td>WER</td><td>0.23013</td></tr></table><br/></div></div>"
      ],
      "text/plain": [
       "<IPython.core.display.HTML object>"
      ]
     },
     "metadata": {},
     "output_type": "display_data"
    },
    {
     "data": {
      "text/html": [
       " View run <strong style=\"color:#cdcd00\">Local asr-wav2vec2-commonvoice-en_spgispeech_other_median</strong> at: <a href='https://wandb.ai/micheleyin/ASR%20WER%20Test%20Local%20asr-wav2vec2-commonvoice-en/runs/xosdz6cg' target=\"_blank\">https://wandb.ai/micheleyin/ASR%20WER%20Test%20Local%20asr-wav2vec2-commonvoice-en/runs/xosdz6cg</a><br/>Synced 5 W&B file(s), 0 media file(s), 0 artifact file(s) and 0 other file(s)"
      ],
      "text/plain": [
       "<IPython.core.display.HTML object>"
      ]
     },
     "metadata": {},
     "output_type": "display_data"
    },
    {
     "data": {
      "text/html": [
       "Find logs at: <code>./wandb/run-20230223_130532-xosdz6cg/logs</code>"
      ],
      "text/plain": [
       "<IPython.core.display.HTML object>"
      ]
     },
     "metadata": {},
     "output_type": "display_data"
    },
    {
     "data": {
      "application/vnd.jupyter.widget-view+json": {
       "model_id": "a8bad4e5bead4e6899c384bd87641478",
       "version_major": 2,
       "version_minor": 0
      },
      "text/plain": [
       "VBox(children=(Label(value='Waiting for wandb.init()...\\r'), FloatProgress(value=0.01672500276666445, max=1.0)…"
      ]
     },
     "metadata": {},
     "output_type": "display_data"
    },
    {
     "data": {
      "text/html": [
       "Tracking run with wandb version 0.13.10"
      ],
      "text/plain": [
       "<IPython.core.display.HTML object>"
      ]
     },
     "metadata": {},
     "output_type": "display_data"
    },
    {
     "data": {
      "text/html": [
       "Run data is saved locally in <code>/Users/micheleyin/Documents/AI_DBMovie/asr/wandb/run-20230223_130558-9vqeacj2</code>"
      ],
      "text/plain": [
       "<IPython.core.display.HTML object>"
      ]
     },
     "metadata": {},
     "output_type": "display_data"
    },
    {
     "data": {
      "text/html": [
       "Syncing run <strong><a href='https://wandb.ai/micheleyin/ASR%20WER%20Test%20Local%20asr-wav2vec2-commonvoice-en/runs/9vqeacj2' target=\"_blank\">Local asr-wav2vec2-commonvoice-en_spgispeech_other_min</a></strong> to <a href='https://wandb.ai/micheleyin/ASR%20WER%20Test%20Local%20asr-wav2vec2-commonvoice-en' target=\"_blank\">Weights & Biases</a> (<a href='https://wandb.me/run' target=\"_blank\">docs</a>)<br/>"
      ],
      "text/plain": [
       "<IPython.core.display.HTML object>"
      ]
     },
     "metadata": {},
     "output_type": "display_data"
    },
    {
     "data": {
      "text/html": [
       " View project at <a href='https://wandb.ai/micheleyin/ASR%20WER%20Test%20Local%20asr-wav2vec2-commonvoice-en' target=\"_blank\">https://wandb.ai/micheleyin/ASR%20WER%20Test%20Local%20asr-wav2vec2-commonvoice-en</a>"
      ],
      "text/plain": [
       "<IPython.core.display.HTML object>"
      ]
     },
     "metadata": {},
     "output_type": "display_data"
    },
    {
     "data": {
      "text/html": [
       " View run at <a href='https://wandb.ai/micheleyin/ASR%20WER%20Test%20Local%20asr-wav2vec2-commonvoice-en/runs/9vqeacj2' target=\"_blank\">https://wandb.ai/micheleyin/ASR%20WER%20Test%20Local%20asr-wav2vec2-commonvoice-en/runs/9vqeacj2</a>"
      ],
      "text/plain": [
       "<IPython.core.display.HTML object>"
      ]
     },
     "metadata": {},
     "output_type": "display_data"
    },
    {
     "data": {
      "text/html": [
       "Waiting for W&B process to finish... <strong style=\"color:green\">(success).</strong>"
      ],
      "text/plain": [
       "<IPython.core.display.HTML object>"
      ]
     },
     "metadata": {},
     "output_type": "display_data"
    },
    {
     "data": {
      "application/vnd.jupyter.widget-view+json": {
       "model_id": "0d2025d4afee4a23a9bfb05b95e1345d",
       "version_major": 2,
       "version_minor": 0
      },
      "text/plain": [
       "VBox(children=(Label(value='0.001 MB of 0.014 MB uploaded (0.000 MB deduped)\\r'), FloatProgress(value=0.069847…"
      ]
     },
     "metadata": {},
     "output_type": "display_data"
    },
    {
     "data": {
      "text/html": [
       "<style>\n",
       "    table.wandb td:nth-child(1) { padding: 0 10px; text-align: left ; width: auto;} td:nth-child(2) {text-align: left ; width: 100%}\n",
       "    .wandb-row { display: flex; flex-direction: row; flex-wrap: wrap; justify-content: flex-start; width: 100% }\n",
       "    .wandb-col { display: flex; flex-direction: column; flex-basis: 100%; flex: 1; padding: 10px; }\n",
       "    </style>\n",
       "<div class=\"wandb-row\"><div class=\"wandb-col\"><h3>Run history:</h3><br/><table class=\"wandb\"><tr><td>Average time per sample</td><td>▁</td></tr><tr><td>Tokens per second</td><td>▁</td></tr><tr><td>Total samples</td><td>▁</td></tr><tr><td>Total time</td><td>▁</td></tr><tr><td>Total tokens</td><td>▁</td></tr><tr><td>WER</td><td>▁</td></tr></table><br/></div><div class=\"wandb-col\"><h3>Run summary:</h3><br/><table class=\"wandb\"><tr><td>Average time per sample</td><td>2.67162</td></tr><tr><td>Tokens per second</td><td>12.47682</td></tr><tr><td>Total samples</td><td>210</td></tr><tr><td>Total time</td><td>8.01487</td></tr><tr><td>Total tokens</td><td>100</td></tr><tr><td>WER</td><td>0.16129</td></tr></table><br/></div></div>"
      ],
      "text/plain": [
       "<IPython.core.display.HTML object>"
      ]
     },
     "metadata": {},
     "output_type": "display_data"
    },
    {
     "data": {
      "text/html": [
       " View run <strong style=\"color:#cdcd00\">Local asr-wav2vec2-commonvoice-en_spgispeech_other_min</strong> at: <a href='https://wandb.ai/micheleyin/ASR%20WER%20Test%20Local%20asr-wav2vec2-commonvoice-en/runs/9vqeacj2' target=\"_blank\">https://wandb.ai/micheleyin/ASR%20WER%20Test%20Local%20asr-wav2vec2-commonvoice-en/runs/9vqeacj2</a><br/>Synced 5 W&B file(s), 0 media file(s), 0 artifact file(s) and 0 other file(s)"
      ],
      "text/plain": [
       "<IPython.core.display.HTML object>"
      ]
     },
     "metadata": {},
     "output_type": "display_data"
    },
    {
     "data": {
      "text/html": [
       "Find logs at: <code>./wandb/run-20230223_130558-9vqeacj2/logs</code>"
      ],
      "text/plain": [
       "<IPython.core.display.HTML object>"
      ]
     },
     "metadata": {},
     "output_type": "display_data"
    },
    {
     "data": {
      "application/vnd.jupyter.widget-view+json": {
       "model_id": "af27dcbab0984acab923a4cb5f944184",
       "version_major": 2,
       "version_minor": 0
      },
      "text/plain": [
       "VBox(children=(Label(value='Waiting for wandb.init()...\\r'), FloatProgress(value=0.01668711943323918, max=1.0)…"
      ]
     },
     "metadata": {},
     "output_type": "display_data"
    },
    {
     "data": {
      "text/html": [
       "Tracking run with wandb version 0.13.10"
      ],
      "text/plain": [
       "<IPython.core.display.HTML object>"
      ]
     },
     "metadata": {},
     "output_type": "display_data"
    },
    {
     "data": {
      "text/html": [
       "Run data is saved locally in <code>/Users/micheleyin/Documents/AI_DBMovie/asr/wandb/run-20230223_130616-ss3nftxi</code>"
      ],
      "text/plain": [
       "<IPython.core.display.HTML object>"
      ]
     },
     "metadata": {},
     "output_type": "display_data"
    },
    {
     "data": {
      "text/html": [
       "Syncing run <strong><a href='https://wandb.ai/micheleyin/ASR%20WER%20Test%20Local%20asr-wav2vec2-commonvoice-en/runs/ss3nftxi' target=\"_blank\">Local asr-wav2vec2-commonvoice-en_spgispeech_other_max</a></strong> to <a href='https://wandb.ai/micheleyin/ASR%20WER%20Test%20Local%20asr-wav2vec2-commonvoice-en' target=\"_blank\">Weights & Biases</a> (<a href='https://wandb.me/run' target=\"_blank\">docs</a>)<br/>"
      ],
      "text/plain": [
       "<IPython.core.display.HTML object>"
      ]
     },
     "metadata": {},
     "output_type": "display_data"
    },
    {
     "data": {
      "text/html": [
       " View project at <a href='https://wandb.ai/micheleyin/ASR%20WER%20Test%20Local%20asr-wav2vec2-commonvoice-en' target=\"_blank\">https://wandb.ai/micheleyin/ASR%20WER%20Test%20Local%20asr-wav2vec2-commonvoice-en</a>"
      ],
      "text/plain": [
       "<IPython.core.display.HTML object>"
      ]
     },
     "metadata": {},
     "output_type": "display_data"
    },
    {
     "data": {
      "text/html": [
       " View run at <a href='https://wandb.ai/micheleyin/ASR%20WER%20Test%20Local%20asr-wav2vec2-commonvoice-en/runs/ss3nftxi' target=\"_blank\">https://wandb.ai/micheleyin/ASR%20WER%20Test%20Local%20asr-wav2vec2-commonvoice-en/runs/ss3nftxi</a>"
      ],
      "text/plain": [
       "<IPython.core.display.HTML object>"
      ]
     },
     "metadata": {},
     "output_type": "display_data"
    },
    {
     "data": {
      "text/html": [
       "Waiting for W&B process to finish... <strong style=\"color:green\">(success).</strong>"
      ],
      "text/plain": [
       "<IPython.core.display.HTML object>"
      ]
     },
     "metadata": {},
     "output_type": "display_data"
    },
    {
     "data": {
      "application/vnd.jupyter.widget-view+json": {
       "model_id": "37ca0712e6e341f9acabcc69b998ac6e",
       "version_major": 2,
       "version_minor": 0
      },
      "text/plain": [
       "VBox(children=(Label(value='0.001 MB of 0.014 MB uploaded (0.000 MB deduped)\\r'), FloatProgress(value=0.069913…"
      ]
     },
     "metadata": {},
     "output_type": "display_data"
    },
    {
     "data": {
      "text/html": [
       "<style>\n",
       "    table.wandb td:nth-child(1) { padding: 0 10px; text-align: left ; width: auto;} td:nth-child(2) {text-align: left ; width: 100%}\n",
       "    .wandb-row { display: flex; flex-direction: row; flex-wrap: wrap; justify-content: flex-start; width: 100% }\n",
       "    .wandb-col { display: flex; flex-direction: column; flex-basis: 100%; flex: 1; padding: 10px; }\n",
       "    </style>\n",
       "<div class=\"wandb-row\"><div class=\"wandb-col\"><h3>Run history:</h3><br/><table class=\"wandb\"><tr><td>Average time per sample</td><td>▁</td></tr><tr><td>Tokens per second</td><td>▁</td></tr><tr><td>Total samples</td><td>▁</td></tr><tr><td>Total time</td><td>▁</td></tr><tr><td>Total tokens</td><td>▁</td></tr><tr><td>WER</td><td>▁</td></tr></table><br/></div><div class=\"wandb-col\"><h3>Run summary:</h3><br/><table class=\"wandb\"><tr><td>Average time per sample</td><td>11.0533</td></tr><tr><td>Tokens per second</td><td>15.10861</td></tr><tr><td>Total samples</td><td>210</td></tr><tr><td>Total time</td><td>33.1599</td></tr><tr><td>Total tokens</td><td>501</td></tr><tr><td>WER</td><td>0.37762</td></tr></table><br/></div></div>"
      ],
      "text/plain": [
       "<IPython.core.display.HTML object>"
      ]
     },
     "metadata": {},
     "output_type": "display_data"
    },
    {
     "data": {
      "text/html": [
       " View run <strong style=\"color:#cdcd00\">Local asr-wav2vec2-commonvoice-en_spgispeech_other_max</strong> at: <a href='https://wandb.ai/micheleyin/ASR%20WER%20Test%20Local%20asr-wav2vec2-commonvoice-en/runs/ss3nftxi' target=\"_blank\">https://wandb.ai/micheleyin/ASR%20WER%20Test%20Local%20asr-wav2vec2-commonvoice-en/runs/ss3nftxi</a><br/>Synced 5 W&B file(s), 0 media file(s), 0 artifact file(s) and 0 other file(s)"
      ],
      "text/plain": [
       "<IPython.core.display.HTML object>"
      ]
     },
     "metadata": {},
     "output_type": "display_data"
    },
    {
     "data": {
      "text/html": [
       "Find logs at: <code>./wandb/run-20230223_130616-ss3nftxi/logs</code>"
      ],
      "text/plain": [
       "<IPython.core.display.HTML object>"
      ]
     },
     "metadata": {},
     "output_type": "display_data"
    },
    {
     "data": {
      "application/vnd.jupyter.widget-view+json": {
       "model_id": "22864f2e28124ddc9fa893cef9afa059",
       "version_major": 2,
       "version_minor": 0
      },
      "text/plain": [
       "VBox(children=(Label(value='Waiting for wandb.init()...\\r'), FloatProgress(value=0.016739649999847946, max=1.0…"
      ]
     },
     "metadata": {},
     "output_type": "display_data"
    },
    {
     "data": {
      "text/html": [
       "Tracking run with wandb version 0.13.10"
      ],
      "text/plain": [
       "<IPython.core.display.HTML object>"
      ]
     },
     "metadata": {},
     "output_type": "display_data"
    },
    {
     "data": {
      "text/html": [
       "Run data is saved locally in <code>/Users/micheleyin/Documents/AI_DBMovie/asr/wandb/run-20230223_130659-3qxkoldl</code>"
      ],
      "text/plain": [
       "<IPython.core.display.HTML object>"
      ]
     },
     "metadata": {},
     "output_type": "display_data"
    },
    {
     "data": {
      "text/html": [
       "Syncing run <strong><a href='https://wandb.ai/micheleyin/ASR%20WER%20Test%20Local%20asr-wav2vec2-commonvoice-en/runs/3qxkoldl' target=\"_blank\">Local asr-wav2vec2-commonvoice-en_tedlium_clean_median</a></strong> to <a href='https://wandb.ai/micheleyin/ASR%20WER%20Test%20Local%20asr-wav2vec2-commonvoice-en' target=\"_blank\">Weights & Biases</a> (<a href='https://wandb.me/run' target=\"_blank\">docs</a>)<br/>"
      ],
      "text/plain": [
       "<IPython.core.display.HTML object>"
      ]
     },
     "metadata": {},
     "output_type": "display_data"
    },
    {
     "data": {
      "text/html": [
       " View project at <a href='https://wandb.ai/micheleyin/ASR%20WER%20Test%20Local%20asr-wav2vec2-commonvoice-en' target=\"_blank\">https://wandb.ai/micheleyin/ASR%20WER%20Test%20Local%20asr-wav2vec2-commonvoice-en</a>"
      ],
      "text/plain": [
       "<IPython.core.display.HTML object>"
      ]
     },
     "metadata": {},
     "output_type": "display_data"
    },
    {
     "data": {
      "text/html": [
       " View run at <a href='https://wandb.ai/micheleyin/ASR%20WER%20Test%20Local%20asr-wav2vec2-commonvoice-en/runs/3qxkoldl' target=\"_blank\">https://wandb.ai/micheleyin/ASR%20WER%20Test%20Local%20asr-wav2vec2-commonvoice-en/runs/3qxkoldl</a>"
      ],
      "text/plain": [
       "<IPython.core.display.HTML object>"
      ]
     },
     "metadata": {},
     "output_type": "display_data"
    },
    {
     "data": {
      "text/html": [
       "Waiting for W&B process to finish... <strong style=\"color:green\">(success).</strong>"
      ],
      "text/plain": [
       "<IPython.core.display.HTML object>"
      ]
     },
     "metadata": {},
     "output_type": "display_data"
    },
    {
     "data": {
      "application/vnd.jupyter.widget-view+json": {
       "model_id": "58d7f7d80d7945c18a2bb2394d8f5c85",
       "version_major": 2,
       "version_minor": 0
      },
      "text/plain": [
       "VBox(children=(Label(value='0.001 MB of 0.014 MB uploaded (0.000 MB deduped)\\r'), FloatProgress(value=0.069837…"
      ]
     },
     "metadata": {},
     "output_type": "display_data"
    },
    {
     "data": {
      "text/html": [
       "<style>\n",
       "    table.wandb td:nth-child(1) { padding: 0 10px; text-align: left ; width: auto;} td:nth-child(2) {text-align: left ; width: 100%}\n",
       "    .wandb-row { display: flex; flex-direction: row; flex-wrap: wrap; justify-content: flex-start; width: 100% }\n",
       "    .wandb-col { display: flex; flex-direction: column; flex-basis: 100%; flex: 1; padding: 10px; }\n",
       "    </style>\n",
       "<div class=\"wandb-row\"><div class=\"wandb-col\"><h3>Run history:</h3><br/><table class=\"wandb\"><tr><td>Average time per sample</td><td>▁</td></tr><tr><td>Tokens per second</td><td>▁</td></tr><tr><td>Total samples</td><td>▁</td></tr><tr><td>Total time</td><td>▁</td></tr><tr><td>Total tokens</td><td>▁</td></tr><tr><td>WER</td><td>▁</td></tr></table><br/></div><div class=\"wandb-col\"><h3>Run summary:</h3><br/><table class=\"wandb\"><tr><td>Average time per sample</td><td>8.75305</td></tr><tr><td>Tokens per second</td><td>13.5191</td></tr><tr><td>Total samples</td><td>210</td></tr><tr><td>Total time</td><td>26.25915</td></tr><tr><td>Total tokens</td><td>355</td></tr><tr><td>WER</td><td>0.09402</td></tr></table><br/></div></div>"
      ],
      "text/plain": [
       "<IPython.core.display.HTML object>"
      ]
     },
     "metadata": {},
     "output_type": "display_data"
    },
    {
     "data": {
      "text/html": [
       " View run <strong style=\"color:#cdcd00\">Local asr-wav2vec2-commonvoice-en_tedlium_clean_median</strong> at: <a href='https://wandb.ai/micheleyin/ASR%20WER%20Test%20Local%20asr-wav2vec2-commonvoice-en/runs/3qxkoldl' target=\"_blank\">https://wandb.ai/micheleyin/ASR%20WER%20Test%20Local%20asr-wav2vec2-commonvoice-en/runs/3qxkoldl</a><br/>Synced 5 W&B file(s), 0 media file(s), 0 artifact file(s) and 0 other file(s)"
      ],
      "text/plain": [
       "<IPython.core.display.HTML object>"
      ]
     },
     "metadata": {},
     "output_type": "display_data"
    },
    {
     "data": {
      "text/html": [
       "Find logs at: <code>./wandb/run-20230223_130659-3qxkoldl/logs</code>"
      ],
      "text/plain": [
       "<IPython.core.display.HTML object>"
      ]
     },
     "metadata": {},
     "output_type": "display_data"
    },
    {
     "data": {
      "application/vnd.jupyter.widget-view+json": {
       "model_id": "bf6b3ba336274468bb24e293761f485a",
       "version_major": 2,
       "version_minor": 0
      },
      "text/plain": [
       "VBox(children=(Label(value='Waiting for wandb.init()...\\r'), FloatProgress(value=0.01675136388318303, max=1.0)…"
      ]
     },
     "metadata": {},
     "output_type": "display_data"
    },
    {
     "data": {
      "text/html": [
       "Tracking run with wandb version 0.13.10"
      ],
      "text/plain": [
       "<IPython.core.display.HTML object>"
      ]
     },
     "metadata": {},
     "output_type": "display_data"
    },
    {
     "data": {
      "text/html": [
       "Run data is saved locally in <code>/Users/micheleyin/Documents/AI_DBMovie/asr/wandb/run-20230223_130734-gvq2bzdv</code>"
      ],
      "text/plain": [
       "<IPython.core.display.HTML object>"
      ]
     },
     "metadata": {},
     "output_type": "display_data"
    },
    {
     "data": {
      "text/html": [
       "Syncing run <strong><a href='https://wandb.ai/micheleyin/ASR%20WER%20Test%20Local%20asr-wav2vec2-commonvoice-en/runs/gvq2bzdv' target=\"_blank\">Local asr-wav2vec2-commonvoice-en_tedlium_clean_min</a></strong> to <a href='https://wandb.ai/micheleyin/ASR%20WER%20Test%20Local%20asr-wav2vec2-commonvoice-en' target=\"_blank\">Weights & Biases</a> (<a href='https://wandb.me/run' target=\"_blank\">docs</a>)<br/>"
      ],
      "text/plain": [
       "<IPython.core.display.HTML object>"
      ]
     },
     "metadata": {},
     "output_type": "display_data"
    },
    {
     "data": {
      "text/html": [
       " View project at <a href='https://wandb.ai/micheleyin/ASR%20WER%20Test%20Local%20asr-wav2vec2-commonvoice-en' target=\"_blank\">https://wandb.ai/micheleyin/ASR%20WER%20Test%20Local%20asr-wav2vec2-commonvoice-en</a>"
      ],
      "text/plain": [
       "<IPython.core.display.HTML object>"
      ]
     },
     "metadata": {},
     "output_type": "display_data"
    },
    {
     "data": {
      "text/html": [
       " View run at <a href='https://wandb.ai/micheleyin/ASR%20WER%20Test%20Local%20asr-wav2vec2-commonvoice-en/runs/gvq2bzdv' target=\"_blank\">https://wandb.ai/micheleyin/ASR%20WER%20Test%20Local%20asr-wav2vec2-commonvoice-en/runs/gvq2bzdv</a>"
      ],
      "text/plain": [
       "<IPython.core.display.HTML object>"
      ]
     },
     "metadata": {},
     "output_type": "display_data"
    },
    {
     "data": {
      "text/html": [
       "Waiting for W&B process to finish... <strong style=\"color:green\">(success).</strong>"
      ],
      "text/plain": [
       "<IPython.core.display.HTML object>"
      ]
     },
     "metadata": {},
     "output_type": "display_data"
    },
    {
     "data": {
      "application/vnd.jupyter.widget-view+json": {
       "model_id": "4bb65fd2ef7e4ca0937d3ecabc9d2be2",
       "version_major": 2,
       "version_minor": 0
      },
      "text/plain": [
       "VBox(children=(Label(value='0.001 MB of 0.005 MB uploaded (0.000 MB deduped)\\r'), FloatProgress(value=0.173653…"
      ]
     },
     "metadata": {},
     "output_type": "display_data"
    },
    {
     "data": {
      "text/html": [
       "<style>\n",
       "    table.wandb td:nth-child(1) { padding: 0 10px; text-align: left ; width: auto;} td:nth-child(2) {text-align: left ; width: 100%}\n",
       "    .wandb-row { display: flex; flex-direction: row; flex-wrap: wrap; justify-content: flex-start; width: 100% }\n",
       "    .wandb-col { display: flex; flex-direction: column; flex-basis: 100%; flex: 1; padding: 10px; }\n",
       "    </style>\n",
       "<div class=\"wandb-row\"><div class=\"wandb-col\"><h3>Run history:</h3><br/><table class=\"wandb\"><tr><td>Average time per sample</td><td>▁</td></tr><tr><td>Tokens per second</td><td>▁</td></tr><tr><td>Total samples</td><td>▁</td></tr><tr><td>Total time</td><td>▁</td></tr><tr><td>Total tokens</td><td>▁</td></tr><tr><td>WER</td><td>▁</td></tr></table><br/></div><div class=\"wandb-col\"><h3>Run summary:</h3><br/><table class=\"wandb\"><tr><td>Average time per sample</td><td>1.04415</td></tr><tr><td>Tokens per second</td><td>8.93868</td></tr><tr><td>Total samples</td><td>210</td></tr><tr><td>Total time</td><td>3.13245</td></tr><tr><td>Total tokens</td><td>28</td></tr><tr><td>WER</td><td>0.41026</td></tr></table><br/></div></div>"
      ],
      "text/plain": [
       "<IPython.core.display.HTML object>"
      ]
     },
     "metadata": {},
     "output_type": "display_data"
    },
    {
     "data": {
      "text/html": [
       " View run <strong style=\"color:#cdcd00\">Local asr-wav2vec2-commonvoice-en_tedlium_clean_min</strong> at: <a href='https://wandb.ai/micheleyin/ASR%20WER%20Test%20Local%20asr-wav2vec2-commonvoice-en/runs/gvq2bzdv' target=\"_blank\">https://wandb.ai/micheleyin/ASR%20WER%20Test%20Local%20asr-wav2vec2-commonvoice-en/runs/gvq2bzdv</a><br/>Synced 5 W&B file(s), 0 media file(s), 0 artifact file(s) and 0 other file(s)"
      ],
      "text/plain": [
       "<IPython.core.display.HTML object>"
      ]
     },
     "metadata": {},
     "output_type": "display_data"
    },
    {
     "data": {
      "text/html": [
       "Find logs at: <code>./wandb/run-20230223_130734-gvq2bzdv/logs</code>"
      ],
      "text/plain": [
       "<IPython.core.display.HTML object>"
      ]
     },
     "metadata": {},
     "output_type": "display_data"
    },
    {
     "data": {
      "application/vnd.jupyter.widget-view+json": {
       "model_id": "6625a1a7266c42e4b79d46b8332acc6d",
       "version_major": 2,
       "version_minor": 0
      },
      "text/plain": [
       "VBox(children=(Label(value='Waiting for wandb.init()...\\r'), FloatProgress(value=0.016751539583250027, max=1.0…"
      ]
     },
     "metadata": {},
     "output_type": "display_data"
    },
    {
     "data": {
      "text/html": [
       "Tracking run with wandb version 0.13.10"
      ],
      "text/plain": [
       "<IPython.core.display.HTML object>"
      ]
     },
     "metadata": {},
     "output_type": "display_data"
    },
    {
     "data": {
      "text/html": [
       "Run data is saved locally in <code>/Users/micheleyin/Documents/AI_DBMovie/asr/wandb/run-20230223_130749-4ajrttxo</code>"
      ],
      "text/plain": [
       "<IPython.core.display.HTML object>"
      ]
     },
     "metadata": {},
     "output_type": "display_data"
    },
    {
     "data": {
      "text/html": [
       "Syncing run <strong><a href='https://wandb.ai/micheleyin/ASR%20WER%20Test%20Local%20asr-wav2vec2-commonvoice-en/runs/4ajrttxo' target=\"_blank\">Local asr-wav2vec2-commonvoice-en_tedlium_clean_max</a></strong> to <a href='https://wandb.ai/micheleyin/ASR%20WER%20Test%20Local%20asr-wav2vec2-commonvoice-en' target=\"_blank\">Weights & Biases</a> (<a href='https://wandb.me/run' target=\"_blank\">docs</a>)<br/>"
      ],
      "text/plain": [
       "<IPython.core.display.HTML object>"
      ]
     },
     "metadata": {},
     "output_type": "display_data"
    },
    {
     "data": {
      "text/html": [
       " View project at <a href='https://wandb.ai/micheleyin/ASR%20WER%20Test%20Local%20asr-wav2vec2-commonvoice-en' target=\"_blank\">https://wandb.ai/micheleyin/ASR%20WER%20Test%20Local%20asr-wav2vec2-commonvoice-en</a>"
      ],
      "text/plain": [
       "<IPython.core.display.HTML object>"
      ]
     },
     "metadata": {},
     "output_type": "display_data"
    },
    {
     "data": {
      "text/html": [
       " View run at <a href='https://wandb.ai/micheleyin/ASR%20WER%20Test%20Local%20asr-wav2vec2-commonvoice-en/runs/4ajrttxo' target=\"_blank\">https://wandb.ai/micheleyin/ASR%20WER%20Test%20Local%20asr-wav2vec2-commonvoice-en/runs/4ajrttxo</a>"
      ],
      "text/plain": [
       "<IPython.core.display.HTML object>"
      ]
     },
     "metadata": {},
     "output_type": "display_data"
    },
    {
     "data": {
      "text/html": [
       "Waiting for W&B process to finish... <strong style=\"color:green\">(success).</strong>"
      ],
      "text/plain": [
       "<IPython.core.display.HTML object>"
      ]
     },
     "metadata": {},
     "output_type": "display_data"
    },
    {
     "data": {
      "application/vnd.jupyter.widget-view+json": {
       "model_id": "bae3ecb4b79147a28a66fe69d20a131a",
       "version_major": 2,
       "version_minor": 0
      },
      "text/plain": [
       "VBox(children=(Label(value='0.001 MB of 0.005 MB uploaded (0.000 MB deduped)\\r'), FloatProgress(value=0.173768…"
      ]
     },
     "metadata": {},
     "output_type": "display_data"
    },
    {
     "data": {
      "text/html": [
       "<style>\n",
       "    table.wandb td:nth-child(1) { padding: 0 10px; text-align: left ; width: auto;} td:nth-child(2) {text-align: left ; width: 100%}\n",
       "    .wandb-row { display: flex; flex-direction: row; flex-wrap: wrap; justify-content: flex-start; width: 100% }\n",
       "    .wandb-col { display: flex; flex-direction: column; flex-basis: 100%; flex: 1; padding: 10px; }\n",
       "    </style>\n",
       "<div class=\"wandb-row\"><div class=\"wandb-col\"><h3>Run history:</h3><br/><table class=\"wandb\"><tr><td>Average time per sample</td><td>▁</td></tr><tr><td>Tokens per second</td><td>▁</td></tr><tr><td>Total samples</td><td>▁</td></tr><tr><td>Total time</td><td>▁</td></tr><tr><td>Total tokens</td><td>▁</td></tr><tr><td>WER</td><td>▁</td></tr></table><br/></div><div class=\"wandb-col\"><h3>Run summary:</h3><br/><table class=\"wandb\"><tr><td>Average time per sample</td><td>29.04967</td></tr><tr><td>Tokens per second</td><td>9.37475</td></tr><tr><td>Total samples</td><td>210</td></tr><tr><td>Total time</td><td>87.14901</td></tr><tr><td>Total tokens</td><td>817</td></tr><tr><td>WER</td><td>0.9276</td></tr></table><br/></div></div>"
      ],
      "text/plain": [
       "<IPython.core.display.HTML object>"
      ]
     },
     "metadata": {},
     "output_type": "display_data"
    },
    {
     "data": {
      "text/html": [
       " View run <strong style=\"color:#cdcd00\">Local asr-wav2vec2-commonvoice-en_tedlium_clean_max</strong> at: <a href='https://wandb.ai/micheleyin/ASR%20WER%20Test%20Local%20asr-wav2vec2-commonvoice-en/runs/4ajrttxo' target=\"_blank\">https://wandb.ai/micheleyin/ASR%20WER%20Test%20Local%20asr-wav2vec2-commonvoice-en/runs/4ajrttxo</a><br/>Synced 5 W&B file(s), 0 media file(s), 0 artifact file(s) and 0 other file(s)"
      ],
      "text/plain": [
       "<IPython.core.display.HTML object>"
      ]
     },
     "metadata": {},
     "output_type": "display_data"
    },
    {
     "data": {
      "text/html": [
       "Find logs at: <code>./wandb/run-20230223_130749-4ajrttxo/logs</code>"
      ],
      "text/plain": [
       "<IPython.core.display.HTML object>"
      ]
     },
     "metadata": {},
     "output_type": "display_data"
    },
    {
     "data": {
      "application/vnd.jupyter.widget-view+json": {
       "model_id": "447c986c78254bb6b213a8b6ec030ca8",
       "version_major": 2,
       "version_minor": 0
      },
      "text/plain": [
       "VBox(children=(Label(value='Waiting for wandb.init()...\\r'), FloatProgress(value=0.016696792366565204, max=1.0…"
      ]
     },
     "metadata": {},
     "output_type": "display_data"
    },
    {
     "data": {
      "text/html": [
       "Tracking run with wandb version 0.13.10"
      ],
      "text/plain": [
       "<IPython.core.display.HTML object>"
      ]
     },
     "metadata": {},
     "output_type": "display_data"
    },
    {
     "data": {
      "text/html": [
       "Run data is saved locally in <code>/Users/micheleyin/Documents/AI_DBMovie/asr/wandb/run-20230223_130933-3voj3mgo</code>"
      ],
      "text/plain": [
       "<IPython.core.display.HTML object>"
      ]
     },
     "metadata": {},
     "output_type": "display_data"
    },
    {
     "data": {
      "text/html": [
       "Syncing run <strong><a href='https://wandb.ai/micheleyin/ASR%20WER%20Test%20Local%20asr-wav2vec2-commonvoice-en/runs/3voj3mgo' target=\"_blank\">Local asr-wav2vec2-commonvoice-en_tedlium_other_median</a></strong> to <a href='https://wandb.ai/micheleyin/ASR%20WER%20Test%20Local%20asr-wav2vec2-commonvoice-en' target=\"_blank\">Weights & Biases</a> (<a href='https://wandb.me/run' target=\"_blank\">docs</a>)<br/>"
      ],
      "text/plain": [
       "<IPython.core.display.HTML object>"
      ]
     },
     "metadata": {},
     "output_type": "display_data"
    },
    {
     "data": {
      "text/html": [
       " View project at <a href='https://wandb.ai/micheleyin/ASR%20WER%20Test%20Local%20asr-wav2vec2-commonvoice-en' target=\"_blank\">https://wandb.ai/micheleyin/ASR%20WER%20Test%20Local%20asr-wav2vec2-commonvoice-en</a>"
      ],
      "text/plain": [
       "<IPython.core.display.HTML object>"
      ]
     },
     "metadata": {},
     "output_type": "display_data"
    },
    {
     "data": {
      "text/html": [
       " View run at <a href='https://wandb.ai/micheleyin/ASR%20WER%20Test%20Local%20asr-wav2vec2-commonvoice-en/runs/3voj3mgo' target=\"_blank\">https://wandb.ai/micheleyin/ASR%20WER%20Test%20Local%20asr-wav2vec2-commonvoice-en/runs/3voj3mgo</a>"
      ],
      "text/plain": [
       "<IPython.core.display.HTML object>"
      ]
     },
     "metadata": {},
     "output_type": "display_data"
    },
    {
     "data": {
      "text/html": [
       "Waiting for W&B process to finish... <strong style=\"color:green\">(success).</strong>"
      ],
      "text/plain": [
       "<IPython.core.display.HTML object>"
      ]
     },
     "metadata": {},
     "output_type": "display_data"
    },
    {
     "data": {
      "application/vnd.jupyter.widget-view+json": {
       "model_id": "ded187c095cf4d61b912bf37452b482d",
       "version_major": 2,
       "version_minor": 0
      },
      "text/plain": [
       "VBox(children=(Label(value='0.001 MB of 0.014 MB uploaded (0.000 MB deduped)\\r'), FloatProgress(value=0.069716…"
      ]
     },
     "metadata": {},
     "output_type": "display_data"
    },
    {
     "data": {
      "text/html": [
       "<style>\n",
       "    table.wandb td:nth-child(1) { padding: 0 10px; text-align: left ; width: auto;} td:nth-child(2) {text-align: left ; width: 100%}\n",
       "    .wandb-row { display: flex; flex-direction: row; flex-wrap: wrap; justify-content: flex-start; width: 100% }\n",
       "    .wandb-col { display: flex; flex-direction: column; flex-basis: 100%; flex: 1; padding: 10px; }\n",
       "    </style>\n",
       "<div class=\"wandb-row\"><div class=\"wandb-col\"><h3>Run history:</h3><br/><table class=\"wandb\"><tr><td>Average time per sample</td><td>▁</td></tr><tr><td>Tokens per second</td><td>▁</td></tr><tr><td>Total samples</td><td>▁</td></tr><tr><td>Total time</td><td>▁</td></tr><tr><td>Total tokens</td><td>▁</td></tr><tr><td>WER</td><td>▁</td></tr></table><br/></div><div class=\"wandb-col\"><h3>Run summary:</h3><br/><table class=\"wandb\"><tr><td>Average time per sample</td><td>6.99918</td></tr><tr><td>Tokens per second</td><td>15.859</td></tr><tr><td>Total samples</td><td>210</td></tr><tr><td>Total time</td><td>20.99754</td></tr><tr><td>Total tokens</td><td>333</td></tr><tr><td>WER</td><td>0.30537</td></tr></table><br/></div></div>"
      ],
      "text/plain": [
       "<IPython.core.display.HTML object>"
      ]
     },
     "metadata": {},
     "output_type": "display_data"
    },
    {
     "data": {
      "text/html": [
       " View run <strong style=\"color:#cdcd00\">Local asr-wav2vec2-commonvoice-en_tedlium_other_median</strong> at: <a href='https://wandb.ai/micheleyin/ASR%20WER%20Test%20Local%20asr-wav2vec2-commonvoice-en/runs/3voj3mgo' target=\"_blank\">https://wandb.ai/micheleyin/ASR%20WER%20Test%20Local%20asr-wav2vec2-commonvoice-en/runs/3voj3mgo</a><br/>Synced 5 W&B file(s), 0 media file(s), 0 artifact file(s) and 0 other file(s)"
      ],
      "text/plain": [
       "<IPython.core.display.HTML object>"
      ]
     },
     "metadata": {},
     "output_type": "display_data"
    },
    {
     "data": {
      "text/html": [
       "Find logs at: <code>./wandb/run-20230223_130933-3voj3mgo/logs</code>"
      ],
      "text/plain": [
       "<IPython.core.display.HTML object>"
      ]
     },
     "metadata": {},
     "output_type": "display_data"
    },
    {
     "data": {
      "application/vnd.jupyter.widget-view+json": {
       "model_id": "8b0b454ce1f349d1a9ffaa42790d327d",
       "version_major": 2,
       "version_minor": 0
      },
      "text/plain": [
       "VBox(children=(Label(value='Waiting for wandb.init()...\\r'), FloatProgress(value=0.01672892708326496, max=1.0)…"
      ]
     },
     "metadata": {},
     "output_type": "display_data"
    },
    {
     "data": {
      "text/html": [
       "Tracking run with wandb version 0.13.10"
      ],
      "text/plain": [
       "<IPython.core.display.HTML object>"
      ]
     },
     "metadata": {},
     "output_type": "display_data"
    },
    {
     "data": {
      "text/html": [
       "Run data is saved locally in <code>/Users/micheleyin/Documents/AI_DBMovie/asr/wandb/run-20230223_131003-y2mqq6v0</code>"
      ],
      "text/plain": [
       "<IPython.core.display.HTML object>"
      ]
     },
     "metadata": {},
     "output_type": "display_data"
    },
    {
     "data": {
      "text/html": [
       "Syncing run <strong><a href='https://wandb.ai/micheleyin/ASR%20WER%20Test%20Local%20asr-wav2vec2-commonvoice-en/runs/y2mqq6v0' target=\"_blank\">Local asr-wav2vec2-commonvoice-en_tedlium_other_min</a></strong> to <a href='https://wandb.ai/micheleyin/ASR%20WER%20Test%20Local%20asr-wav2vec2-commonvoice-en' target=\"_blank\">Weights & Biases</a> (<a href='https://wandb.me/run' target=\"_blank\">docs</a>)<br/>"
      ],
      "text/plain": [
       "<IPython.core.display.HTML object>"
      ]
     },
     "metadata": {},
     "output_type": "display_data"
    },
    {
     "data": {
      "text/html": [
       " View project at <a href='https://wandb.ai/micheleyin/ASR%20WER%20Test%20Local%20asr-wav2vec2-commonvoice-en' target=\"_blank\">https://wandb.ai/micheleyin/ASR%20WER%20Test%20Local%20asr-wav2vec2-commonvoice-en</a>"
      ],
      "text/plain": [
       "<IPython.core.display.HTML object>"
      ]
     },
     "metadata": {},
     "output_type": "display_data"
    },
    {
     "data": {
      "text/html": [
       " View run at <a href='https://wandb.ai/micheleyin/ASR%20WER%20Test%20Local%20asr-wav2vec2-commonvoice-en/runs/y2mqq6v0' target=\"_blank\">https://wandb.ai/micheleyin/ASR%20WER%20Test%20Local%20asr-wav2vec2-commonvoice-en/runs/y2mqq6v0</a>"
      ],
      "text/plain": [
       "<IPython.core.display.HTML object>"
      ]
     },
     "metadata": {},
     "output_type": "display_data"
    },
    {
     "data": {
      "text/html": [
       "Waiting for W&B process to finish... <strong style=\"color:green\">(success).</strong>"
      ],
      "text/plain": [
       "<IPython.core.display.HTML object>"
      ]
     },
     "metadata": {},
     "output_type": "display_data"
    },
    {
     "data": {
      "application/vnd.jupyter.widget-view+json": {
       "model_id": "02b2a73d6f6941a09c665e1706d3c934",
       "version_major": 2,
       "version_minor": 0
      },
      "text/plain": [
       "VBox(children=(Label(value='0.001 MB of 0.014 MB uploaded (0.000 MB deduped)\\r'), FloatProgress(value=0.069951…"
      ]
     },
     "metadata": {},
     "output_type": "display_data"
    },
    {
     "data": {
      "text/html": [
       "<style>\n",
       "    table.wandb td:nth-child(1) { padding: 0 10px; text-align: left ; width: auto;} td:nth-child(2) {text-align: left ; width: 100%}\n",
       "    .wandb-row { display: flex; flex-direction: row; flex-wrap: wrap; justify-content: flex-start; width: 100% }\n",
       "    .wandb-col { display: flex; flex-direction: column; flex-basis: 100%; flex: 1; padding: 10px; }\n",
       "    </style>\n",
       "<div class=\"wandb-row\"><div class=\"wandb-col\"><h3>Run history:</h3><br/><table class=\"wandb\"><tr><td>Average time per sample</td><td>▁</td></tr><tr><td>Tokens per second</td><td>▁</td></tr><tr><td>Total samples</td><td>▁</td></tr><tr><td>Total time</td><td>▁</td></tr><tr><td>Total tokens</td><td>▁</td></tr><tr><td>WER</td><td>▁</td></tr></table><br/></div><div class=\"wandb-col\"><h3>Run summary:</h3><br/><table class=\"wandb\"><tr><td>Average time per sample</td><td>0.97788</td></tr><tr><td>Tokens per second</td><td>3.40873</td></tr><tr><td>Total samples</td><td>210</td></tr><tr><td>Total time</td><td>2.93364</td></tr><tr><td>Total tokens</td><td>10</td></tr><tr><td>WER</td><td>1.0</td></tr></table><br/></div></div>"
      ],
      "text/plain": [
       "<IPython.core.display.HTML object>"
      ]
     },
     "metadata": {},
     "output_type": "display_data"
    },
    {
     "data": {
      "text/html": [
       " View run <strong style=\"color:#cdcd00\">Local asr-wav2vec2-commonvoice-en_tedlium_other_min</strong> at: <a href='https://wandb.ai/micheleyin/ASR%20WER%20Test%20Local%20asr-wav2vec2-commonvoice-en/runs/y2mqq6v0' target=\"_blank\">https://wandb.ai/micheleyin/ASR%20WER%20Test%20Local%20asr-wav2vec2-commonvoice-en/runs/y2mqq6v0</a><br/>Synced 5 W&B file(s), 0 media file(s), 0 artifact file(s) and 0 other file(s)"
      ],
      "text/plain": [
       "<IPython.core.display.HTML object>"
      ]
     },
     "metadata": {},
     "output_type": "display_data"
    },
    {
     "data": {
      "text/html": [
       "Find logs at: <code>./wandb/run-20230223_131003-y2mqq6v0/logs</code>"
      ],
      "text/plain": [
       "<IPython.core.display.HTML object>"
      ]
     },
     "metadata": {},
     "output_type": "display_data"
    },
    {
     "data": {
      "application/vnd.jupyter.widget-view+json": {
       "model_id": "a48cf7676d064badab196f93185a6b56",
       "version_major": 2,
       "version_minor": 0
      },
      "text/plain": [
       "VBox(children=(Label(value='Waiting for wandb.init()...\\r'), FloatProgress(value=0.016751652083379063, max=1.0…"
      ]
     },
     "metadata": {},
     "output_type": "display_data"
    },
    {
     "data": {
      "text/html": [
       "Tracking run with wandb version 0.13.10"
      ],
      "text/plain": [
       "<IPython.core.display.HTML object>"
      ]
     },
     "metadata": {},
     "output_type": "display_data"
    },
    {
     "data": {
      "text/html": [
       "Run data is saved locally in <code>/Users/micheleyin/Documents/AI_DBMovie/asr/wandb/run-20230223_131015-qc5aqk4u</code>"
      ],
      "text/plain": [
       "<IPython.core.display.HTML object>"
      ]
     },
     "metadata": {},
     "output_type": "display_data"
    },
    {
     "data": {
      "text/html": [
       "Syncing run <strong><a href='https://wandb.ai/micheleyin/ASR%20WER%20Test%20Local%20asr-wav2vec2-commonvoice-en/runs/qc5aqk4u' target=\"_blank\">Local asr-wav2vec2-commonvoice-en_tedlium_other_max</a></strong> to <a href='https://wandb.ai/micheleyin/ASR%20WER%20Test%20Local%20asr-wav2vec2-commonvoice-en' target=\"_blank\">Weights & Biases</a> (<a href='https://wandb.me/run' target=\"_blank\">docs</a>)<br/>"
      ],
      "text/plain": [
       "<IPython.core.display.HTML object>"
      ]
     },
     "metadata": {},
     "output_type": "display_data"
    },
    {
     "data": {
      "text/html": [
       " View project at <a href='https://wandb.ai/micheleyin/ASR%20WER%20Test%20Local%20asr-wav2vec2-commonvoice-en' target=\"_blank\">https://wandb.ai/micheleyin/ASR%20WER%20Test%20Local%20asr-wav2vec2-commonvoice-en</a>"
      ],
      "text/plain": [
       "<IPython.core.display.HTML object>"
      ]
     },
     "metadata": {},
     "output_type": "display_data"
    },
    {
     "data": {
      "text/html": [
       " View run at <a href='https://wandb.ai/micheleyin/ASR%20WER%20Test%20Local%20asr-wav2vec2-commonvoice-en/runs/qc5aqk4u' target=\"_blank\">https://wandb.ai/micheleyin/ASR%20WER%20Test%20Local%20asr-wav2vec2-commonvoice-en/runs/qc5aqk4u</a>"
      ],
      "text/plain": [
       "<IPython.core.display.HTML object>"
      ]
     },
     "metadata": {},
     "output_type": "display_data"
    },
    {
     "data": {
      "text/html": [
       "Waiting for W&B process to finish... <strong style=\"color:green\">(success).</strong>"
      ],
      "text/plain": [
       "<IPython.core.display.HTML object>"
      ]
     },
     "metadata": {},
     "output_type": "display_data"
    },
    {
     "data": {
      "application/vnd.jupyter.widget-view+json": {
       "model_id": "536c01442ab645c289a7c9dabcf771dd",
       "version_major": 2,
       "version_minor": 0
      },
      "text/plain": [
       "VBox(children=(Label(value='0.001 MB of 0.001 MB uploaded (0.000 MB deduped)\\r'), FloatProgress(value=1.0, max…"
      ]
     },
     "metadata": {},
     "output_type": "display_data"
    },
    {
     "data": {
      "text/html": [
       "<style>\n",
       "    table.wandb td:nth-child(1) { padding: 0 10px; text-align: left ; width: auto;} td:nth-child(2) {text-align: left ; width: 100%}\n",
       "    .wandb-row { display: flex; flex-direction: row; flex-wrap: wrap; justify-content: flex-start; width: 100% }\n",
       "    .wandb-col { display: flex; flex-direction: column; flex-basis: 100%; flex: 1; padding: 10px; }\n",
       "    </style>\n",
       "<div class=\"wandb-row\"><div class=\"wandb-col\"><h3>Run history:</h3><br/><table class=\"wandb\"><tr><td>Average time per sample</td><td>▁</td></tr><tr><td>Tokens per second</td><td>▁</td></tr><tr><td>Total samples</td><td>▁</td></tr><tr><td>Total time</td><td>▁</td></tr><tr><td>Total tokens</td><td>▁</td></tr><tr><td>WER</td><td>▁</td></tr></table><br/></div><div class=\"wandb-col\"><h3>Run summary:</h3><br/><table class=\"wandb\"><tr><td>Average time per sample</td><td>18.61301</td></tr><tr><td>Tokens per second</td><td>16.15357</td></tr><tr><td>Total samples</td><td>210</td></tr><tr><td>Total time</td><td>55.83904</td></tr><tr><td>Total tokens</td><td>902</td></tr><tr><td>WER</td><td>1.55914</td></tr></table><br/></div></div>"
      ],
      "text/plain": [
       "<IPython.core.display.HTML object>"
      ]
     },
     "metadata": {},
     "output_type": "display_data"
    },
    {
     "data": {
      "text/html": [
       " View run <strong style=\"color:#cdcd00\">Local asr-wav2vec2-commonvoice-en_tedlium_other_max</strong> at: <a href='https://wandb.ai/micheleyin/ASR%20WER%20Test%20Local%20asr-wav2vec2-commonvoice-en/runs/qc5aqk4u' target=\"_blank\">https://wandb.ai/micheleyin/ASR%20WER%20Test%20Local%20asr-wav2vec2-commonvoice-en/runs/qc5aqk4u</a><br/>Synced 5 W&B file(s), 0 media file(s), 0 artifact file(s) and 0 other file(s)"
      ],
      "text/plain": [
       "<IPython.core.display.HTML object>"
      ]
     },
     "metadata": {},
     "output_type": "display_data"
    },
    {
     "data": {
      "text/html": [
       "Find logs at: <code>./wandb/run-20230223_131015-qc5aqk4u/logs</code>"
      ],
      "text/plain": [
       "<IPython.core.display.HTML object>"
      ]
     },
     "metadata": {},
     "output_type": "display_data"
    },
    {
     "data": {
      "application/vnd.jupyter.widget-view+json": {
       "model_id": "72aa334c703b450ba58f196e5f7586a9",
       "version_major": 2,
       "version_minor": 0
      },
      "text/plain": [
       "VBox(children=(Label(value='Waiting for wandb.init()...\\r'), FloatProgress(value=0.016751749316608767, max=1.0…"
      ]
     },
     "metadata": {},
     "output_type": "display_data"
    },
    {
     "data": {
      "text/html": [
       "Tracking run with wandb version 0.13.10"
      ],
      "text/plain": [
       "<IPython.core.display.HTML object>"
      ]
     },
     "metadata": {},
     "output_type": "display_data"
    },
    {
     "data": {
      "text/html": [
       "Run data is saved locally in <code>/Users/micheleyin/Documents/AI_DBMovie/asr/wandb/run-20230223_131125-hls8s8z3</code>"
      ],
      "text/plain": [
       "<IPython.core.display.HTML object>"
      ]
     },
     "metadata": {},
     "output_type": "display_data"
    },
    {
     "data": {
      "text/html": [
       "Syncing run <strong><a href='https://wandb.ai/micheleyin/ASR%20WER%20Test%20Local%20asr-wav2vec2-commonvoice-en/runs/hls8s8z3' target=\"_blank\">Local asr-wav2vec2-commonvoice-en_voxpopuli_clean_median</a></strong> to <a href='https://wandb.ai/micheleyin/ASR%20WER%20Test%20Local%20asr-wav2vec2-commonvoice-en' target=\"_blank\">Weights & Biases</a> (<a href='https://wandb.me/run' target=\"_blank\">docs</a>)<br/>"
      ],
      "text/plain": [
       "<IPython.core.display.HTML object>"
      ]
     },
     "metadata": {},
     "output_type": "display_data"
    },
    {
     "data": {
      "text/html": [
       " View project at <a href='https://wandb.ai/micheleyin/ASR%20WER%20Test%20Local%20asr-wav2vec2-commonvoice-en' target=\"_blank\">https://wandb.ai/micheleyin/ASR%20WER%20Test%20Local%20asr-wav2vec2-commonvoice-en</a>"
      ],
      "text/plain": [
       "<IPython.core.display.HTML object>"
      ]
     },
     "metadata": {},
     "output_type": "display_data"
    },
    {
     "data": {
      "text/html": [
       " View run at <a href='https://wandb.ai/micheleyin/ASR%20WER%20Test%20Local%20asr-wav2vec2-commonvoice-en/runs/hls8s8z3' target=\"_blank\">https://wandb.ai/micheleyin/ASR%20WER%20Test%20Local%20asr-wav2vec2-commonvoice-en/runs/hls8s8z3</a>"
      ],
      "text/plain": [
       "<IPython.core.display.HTML object>"
      ]
     },
     "metadata": {},
     "output_type": "display_data"
    },
    {
     "data": {
      "text/html": [
       "Waiting for W&B process to finish... <strong style=\"color:green\">(success).</strong>"
      ],
      "text/plain": [
       "<IPython.core.display.HTML object>"
      ]
     },
     "metadata": {},
     "output_type": "display_data"
    },
    {
     "data": {
      "application/vnd.jupyter.widget-view+json": {
       "model_id": "01fb509b16b3415eb52c8460141794ec",
       "version_major": 2,
       "version_minor": 0
      },
      "text/plain": [
       "VBox(children=(Label(value='0.001 MB of 0.005 MB uploaded (0.000 MB deduped)\\r'), FloatProgress(value=0.173615…"
      ]
     },
     "metadata": {},
     "output_type": "display_data"
    },
    {
     "data": {
      "text/html": [
       "<style>\n",
       "    table.wandb td:nth-child(1) { padding: 0 10px; text-align: left ; width: auto;} td:nth-child(2) {text-align: left ; width: 100%}\n",
       "    .wandb-row { display: flex; flex-direction: row; flex-wrap: wrap; justify-content: flex-start; width: 100% }\n",
       "    .wandb-col { display: flex; flex-direction: column; flex-basis: 100%; flex: 1; padding: 10px; }\n",
       "    </style>\n",
       "<div class=\"wandb-row\"><div class=\"wandb-col\"><h3>Run history:</h3><br/><table class=\"wandb\"><tr><td>Average time per sample</td><td>▁</td></tr><tr><td>Tokens per second</td><td>▁</td></tr><tr><td>Total samples</td><td>▁</td></tr><tr><td>Total time</td><td>▁</td></tr><tr><td>Total tokens</td><td>▁</td></tr><tr><td>WER</td><td>▁</td></tr></table><br/></div><div class=\"wandb-col\"><h3>Run summary:</h3><br/><table class=\"wandb\"><tr><td>Average time per sample</td><td>5.87236</td></tr><tr><td>Tokens per second</td><td>14.24753</td></tr><tr><td>Total samples</td><td>210</td></tr><tr><td>Total time</td><td>17.61709</td></tr><tr><td>Total tokens</td><td>251</td></tr><tr><td>WER</td><td>0.09677</td></tr></table><br/></div></div>"
      ],
      "text/plain": [
       "<IPython.core.display.HTML object>"
      ]
     },
     "metadata": {},
     "output_type": "display_data"
    },
    {
     "data": {
      "text/html": [
       " View run <strong style=\"color:#cdcd00\">Local asr-wav2vec2-commonvoice-en_voxpopuli_clean_median</strong> at: <a href='https://wandb.ai/micheleyin/ASR%20WER%20Test%20Local%20asr-wav2vec2-commonvoice-en/runs/hls8s8z3' target=\"_blank\">https://wandb.ai/micheleyin/ASR%20WER%20Test%20Local%20asr-wav2vec2-commonvoice-en/runs/hls8s8z3</a><br/>Synced 5 W&B file(s), 0 media file(s), 0 artifact file(s) and 0 other file(s)"
      ],
      "text/plain": [
       "<IPython.core.display.HTML object>"
      ]
     },
     "metadata": {},
     "output_type": "display_data"
    },
    {
     "data": {
      "text/html": [
       "Find logs at: <code>./wandb/run-20230223_131125-hls8s8z3/logs</code>"
      ],
      "text/plain": [
       "<IPython.core.display.HTML object>"
      ]
     },
     "metadata": {},
     "output_type": "display_data"
    },
    {
     "data": {
      "application/vnd.jupyter.widget-view+json": {
       "model_id": "7320d935b9a0421286501cddeb086ed7",
       "version_major": 2,
       "version_minor": 0
      },
      "text/plain": [
       "VBox(children=(Label(value='Waiting for wandb.init()...\\r'), FloatProgress(value=0.016709749300207476, max=1.0…"
      ]
     },
     "metadata": {},
     "output_type": "display_data"
    },
    {
     "data": {
      "text/html": [
       "Tracking run with wandb version 0.13.10"
      ],
      "text/plain": [
       "<IPython.core.display.HTML object>"
      ]
     },
     "metadata": {},
     "output_type": "display_data"
    },
    {
     "data": {
      "text/html": [
       "Run data is saved locally in <code>/Users/micheleyin/Documents/AI_DBMovie/asr/wandb/run-20230223_131153-h54bhhcn</code>"
      ],
      "text/plain": [
       "<IPython.core.display.HTML object>"
      ]
     },
     "metadata": {},
     "output_type": "display_data"
    },
    {
     "data": {
      "text/html": [
       "Syncing run <strong><a href='https://wandb.ai/micheleyin/ASR%20WER%20Test%20Local%20asr-wav2vec2-commonvoice-en/runs/h54bhhcn' target=\"_blank\">Local asr-wav2vec2-commonvoice-en_voxpopuli_clean_min</a></strong> to <a href='https://wandb.ai/micheleyin/ASR%20WER%20Test%20Local%20asr-wav2vec2-commonvoice-en' target=\"_blank\">Weights & Biases</a> (<a href='https://wandb.me/run' target=\"_blank\">docs</a>)<br/>"
      ],
      "text/plain": [
       "<IPython.core.display.HTML object>"
      ]
     },
     "metadata": {},
     "output_type": "display_data"
    },
    {
     "data": {
      "text/html": [
       " View project at <a href='https://wandb.ai/micheleyin/ASR%20WER%20Test%20Local%20asr-wav2vec2-commonvoice-en' target=\"_blank\">https://wandb.ai/micheleyin/ASR%20WER%20Test%20Local%20asr-wav2vec2-commonvoice-en</a>"
      ],
      "text/plain": [
       "<IPython.core.display.HTML object>"
      ]
     },
     "metadata": {},
     "output_type": "display_data"
    },
    {
     "data": {
      "text/html": [
       " View run at <a href='https://wandb.ai/micheleyin/ASR%20WER%20Test%20Local%20asr-wav2vec2-commonvoice-en/runs/h54bhhcn' target=\"_blank\">https://wandb.ai/micheleyin/ASR%20WER%20Test%20Local%20asr-wav2vec2-commonvoice-en/runs/h54bhhcn</a>"
      ],
      "text/plain": [
       "<IPython.core.display.HTML object>"
      ]
     },
     "metadata": {},
     "output_type": "display_data"
    },
    {
     "data": {
      "text/html": [
       "Waiting for W&B process to finish... <strong style=\"color:green\">(success).</strong>"
      ],
      "text/plain": [
       "<IPython.core.display.HTML object>"
      ]
     },
     "metadata": {},
     "output_type": "display_data"
    },
    {
     "data": {
      "application/vnd.jupyter.widget-view+json": {
       "model_id": "e85f113f61624b09be7309dc52a11229",
       "version_major": 2,
       "version_minor": 0
      },
      "text/plain": [
       "VBox(children=(Label(value='0.010 MB of 0.014 MB uploaded (0.000 MB deduped)\\r'), FloatProgress(value=0.743868…"
      ]
     },
     "metadata": {},
     "output_type": "display_data"
    },
    {
     "data": {
      "text/html": [
       "<style>\n",
       "    table.wandb td:nth-child(1) { padding: 0 10px; text-align: left ; width: auto;} td:nth-child(2) {text-align: left ; width: 100%}\n",
       "    .wandb-row { display: flex; flex-direction: row; flex-wrap: wrap; justify-content: flex-start; width: 100% }\n",
       "    .wandb-col { display: flex; flex-direction: column; flex-basis: 100%; flex: 1; padding: 10px; }\n",
       "    </style>\n",
       "<div class=\"wandb-row\"><div class=\"wandb-col\"><h3>Run history:</h3><br/><table class=\"wandb\"><tr><td>Average time per sample</td><td>▁</td></tr><tr><td>Tokens per second</td><td>▁</td></tr><tr><td>Total samples</td><td>▁</td></tr><tr><td>Total time</td><td>▁</td></tr><tr><td>Total tokens</td><td>▁</td></tr><tr><td>WER</td><td>▁</td></tr></table><br/></div><div class=\"wandb-col\"><h3>Run summary:</h3><br/><table class=\"wandb\"><tr><td>Average time per sample</td><td>0.94794</td></tr><tr><td>Tokens per second</td><td>15.82385</td></tr><tr><td>Total samples</td><td>210</td></tr><tr><td>Total time</td><td>2.84381</td></tr><tr><td>Total tokens</td><td>45</td></tr><tr><td>WER</td><td>0.04444</td></tr></table><br/></div></div>"
      ],
      "text/plain": [
       "<IPython.core.display.HTML object>"
      ]
     },
     "metadata": {},
     "output_type": "display_data"
    },
    {
     "data": {
      "text/html": [
       " View run <strong style=\"color:#cdcd00\">Local asr-wav2vec2-commonvoice-en_voxpopuli_clean_min</strong> at: <a href='https://wandb.ai/micheleyin/ASR%20WER%20Test%20Local%20asr-wav2vec2-commonvoice-en/runs/h54bhhcn' target=\"_blank\">https://wandb.ai/micheleyin/ASR%20WER%20Test%20Local%20asr-wav2vec2-commonvoice-en/runs/h54bhhcn</a><br/>Synced 5 W&B file(s), 0 media file(s), 0 artifact file(s) and 0 other file(s)"
      ],
      "text/plain": [
       "<IPython.core.display.HTML object>"
      ]
     },
     "metadata": {},
     "output_type": "display_data"
    },
    {
     "data": {
      "text/html": [
       "Find logs at: <code>./wandb/run-20230223_131153-h54bhhcn/logs</code>"
      ],
      "text/plain": [
       "<IPython.core.display.HTML object>"
      ]
     },
     "metadata": {},
     "output_type": "display_data"
    },
    {
     "data": {
      "application/vnd.jupyter.widget-view+json": {
       "model_id": "59769c361ab144d6bec97a15675d089d",
       "version_major": 2,
       "version_minor": 0
      },
      "text/plain": [
       "VBox(children=(Label(value='Waiting for wandb.init()...\\r'), FloatProgress(value=0.016726272233305885, max=1.0…"
      ]
     },
     "metadata": {},
     "output_type": "display_data"
    },
    {
     "data": {
      "text/html": [
       "Tracking run with wandb version 0.13.10"
      ],
      "text/plain": [
       "<IPython.core.display.HTML object>"
      ]
     },
     "metadata": {},
     "output_type": "display_data"
    },
    {
     "data": {
      "text/html": [
       "Run data is saved locally in <code>/Users/micheleyin/Documents/AI_DBMovie/asr/wandb/run-20230223_131204-5r89di8e</code>"
      ],
      "text/plain": [
       "<IPython.core.display.HTML object>"
      ]
     },
     "metadata": {},
     "output_type": "display_data"
    },
    {
     "data": {
      "text/html": [
       "Syncing run <strong><a href='https://wandb.ai/micheleyin/ASR%20WER%20Test%20Local%20asr-wav2vec2-commonvoice-en/runs/5r89di8e' target=\"_blank\">Local asr-wav2vec2-commonvoice-en_voxpopuli_clean_max</a></strong> to <a href='https://wandb.ai/micheleyin/ASR%20WER%20Test%20Local%20asr-wav2vec2-commonvoice-en' target=\"_blank\">Weights & Biases</a> (<a href='https://wandb.me/run' target=\"_blank\">docs</a>)<br/>"
      ],
      "text/plain": [
       "<IPython.core.display.HTML object>"
      ]
     },
     "metadata": {},
     "output_type": "display_data"
    },
    {
     "data": {
      "text/html": [
       " View project at <a href='https://wandb.ai/micheleyin/ASR%20WER%20Test%20Local%20asr-wav2vec2-commonvoice-en' target=\"_blank\">https://wandb.ai/micheleyin/ASR%20WER%20Test%20Local%20asr-wav2vec2-commonvoice-en</a>"
      ],
      "text/plain": [
       "<IPython.core.display.HTML object>"
      ]
     },
     "metadata": {},
     "output_type": "display_data"
    },
    {
     "data": {
      "text/html": [
       " View run at <a href='https://wandb.ai/micheleyin/ASR%20WER%20Test%20Local%20asr-wav2vec2-commonvoice-en/runs/5r89di8e' target=\"_blank\">https://wandb.ai/micheleyin/ASR%20WER%20Test%20Local%20asr-wav2vec2-commonvoice-en/runs/5r89di8e</a>"
      ],
      "text/plain": [
       "<IPython.core.display.HTML object>"
      ]
     },
     "metadata": {},
     "output_type": "display_data"
    },
    {
     "data": {
      "text/html": [
       "Waiting for W&B process to finish... <strong style=\"color:green\">(success).</strong>"
      ],
      "text/plain": [
       "<IPython.core.display.HTML object>"
      ]
     },
     "metadata": {},
     "output_type": "display_data"
    },
    {
     "data": {
      "application/vnd.jupyter.widget-view+json": {
       "model_id": "b19c4fe05e394707be59251fdcd9db77",
       "version_major": 2,
       "version_minor": 0
      },
      "text/plain": [
       "VBox(children=(Label(value='0.001 MB of 0.005 MB uploaded (0.000 MB deduped)\\r'), FloatProgress(value=0.173768…"
      ]
     },
     "metadata": {},
     "output_type": "display_data"
    },
    {
     "data": {
      "text/html": [
       "<style>\n",
       "    table.wandb td:nth-child(1) { padding: 0 10px; text-align: left ; width: auto;} td:nth-child(2) {text-align: left ; width: 100%}\n",
       "    .wandb-row { display: flex; flex-direction: row; flex-wrap: wrap; justify-content: flex-start; width: 100% }\n",
       "    .wandb-col { display: flex; flex-direction: column; flex-basis: 100%; flex: 1; padding: 10px; }\n",
       "    </style>\n",
       "<div class=\"wandb-row\"><div class=\"wandb-col\"><h3>Run history:</h3><br/><table class=\"wandb\"><tr><td>Average time per sample</td><td>▁</td></tr><tr><td>Tokens per second</td><td>▁</td></tr><tr><td>Total samples</td><td>▁</td></tr><tr><td>Total time</td><td>▁</td></tr><tr><td>Total tokens</td><td>▁</td></tr><tr><td>WER</td><td>▁</td></tr></table><br/></div><div class=\"wandb-col\"><h3>Run summary:</h3><br/><table class=\"wandb\"><tr><td>Average time per sample</td><td>22.57453</td></tr><tr><td>Tokens per second</td><td>9.21392</td></tr><tr><td>Total samples</td><td>210</td></tr><tr><td>Total time</td><td>67.72359</td></tr><tr><td>Total tokens</td><td>624</td></tr><tr><td>WER</td><td>0.33069</td></tr></table><br/></div></div>"
      ],
      "text/plain": [
       "<IPython.core.display.HTML object>"
      ]
     },
     "metadata": {},
     "output_type": "display_data"
    },
    {
     "data": {
      "text/html": [
       " View run <strong style=\"color:#cdcd00\">Local asr-wav2vec2-commonvoice-en_voxpopuli_clean_max</strong> at: <a href='https://wandb.ai/micheleyin/ASR%20WER%20Test%20Local%20asr-wav2vec2-commonvoice-en/runs/5r89di8e' target=\"_blank\">https://wandb.ai/micheleyin/ASR%20WER%20Test%20Local%20asr-wav2vec2-commonvoice-en/runs/5r89di8e</a><br/>Synced 5 W&B file(s), 0 media file(s), 0 artifact file(s) and 0 other file(s)"
      ],
      "text/plain": [
       "<IPython.core.display.HTML object>"
      ]
     },
     "metadata": {},
     "output_type": "display_data"
    },
    {
     "data": {
      "text/html": [
       "Find logs at: <code>./wandb/run-20230223_131204-5r89di8e/logs</code>"
      ],
      "text/plain": [
       "<IPython.core.display.HTML object>"
      ]
     },
     "metadata": {},
     "output_type": "display_data"
    },
    {
     "data": {
      "application/vnd.jupyter.widget-view+json": {
       "model_id": "6fda84c2c57c46b4ac9275a19d1d4014",
       "version_major": 2,
       "version_minor": 0
      },
      "text/plain": [
       "VBox(children=(Label(value='Waiting for wandb.init()...\\r'), FloatProgress(value=0.01675131596663656, max=1.0)…"
      ]
     },
     "metadata": {},
     "output_type": "display_data"
    },
    {
     "data": {
      "text/html": [
       "Tracking run with wandb version 0.13.10"
      ],
      "text/plain": [
       "<IPython.core.display.HTML object>"
      ]
     },
     "metadata": {},
     "output_type": "display_data"
    },
    {
     "data": {
      "text/html": [
       "Run data is saved locally in <code>/Users/micheleyin/Documents/AI_DBMovie/asr/wandb/run-20230223_131322-s0qzyc16</code>"
      ],
      "text/plain": [
       "<IPython.core.display.HTML object>"
      ]
     },
     "metadata": {},
     "output_type": "display_data"
    },
    {
     "data": {
      "text/html": [
       "Syncing run <strong><a href='https://wandb.ai/micheleyin/ASR%20WER%20Test%20Local%20asr-wav2vec2-commonvoice-en/runs/s0qzyc16' target=\"_blank\">Local asr-wav2vec2-commonvoice-en_voxpopuli_other_median</a></strong> to <a href='https://wandb.ai/micheleyin/ASR%20WER%20Test%20Local%20asr-wav2vec2-commonvoice-en' target=\"_blank\">Weights & Biases</a> (<a href='https://wandb.me/run' target=\"_blank\">docs</a>)<br/>"
      ],
      "text/plain": [
       "<IPython.core.display.HTML object>"
      ]
     },
     "metadata": {},
     "output_type": "display_data"
    },
    {
     "data": {
      "text/html": [
       " View project at <a href='https://wandb.ai/micheleyin/ASR%20WER%20Test%20Local%20asr-wav2vec2-commonvoice-en' target=\"_blank\">https://wandb.ai/micheleyin/ASR%20WER%20Test%20Local%20asr-wav2vec2-commonvoice-en</a>"
      ],
      "text/plain": [
       "<IPython.core.display.HTML object>"
      ]
     },
     "metadata": {},
     "output_type": "display_data"
    },
    {
     "data": {
      "text/html": [
       " View run at <a href='https://wandb.ai/micheleyin/ASR%20WER%20Test%20Local%20asr-wav2vec2-commonvoice-en/runs/s0qzyc16' target=\"_blank\">https://wandb.ai/micheleyin/ASR%20WER%20Test%20Local%20asr-wav2vec2-commonvoice-en/runs/s0qzyc16</a>"
      ],
      "text/plain": [
       "<IPython.core.display.HTML object>"
      ]
     },
     "metadata": {},
     "output_type": "display_data"
    },
    {
     "data": {
      "text/html": [
       "Waiting for W&B process to finish... <strong style=\"color:green\">(success).</strong>"
      ],
      "text/plain": [
       "<IPython.core.display.HTML object>"
      ]
     },
     "metadata": {},
     "output_type": "display_data"
    },
    {
     "data": {
      "application/vnd.jupyter.widget-view+json": {
       "model_id": "abd108a341194f57aca4703b9e34adb4",
       "version_major": 2,
       "version_minor": 0
      },
      "text/plain": [
       "VBox(children=(Label(value='0.001 MB of 0.014 MB uploaded (0.000 MB deduped)\\r'), FloatProgress(value=0.069828…"
      ]
     },
     "metadata": {},
     "output_type": "display_data"
    },
    {
     "data": {
      "text/html": [
       "<style>\n",
       "    table.wandb td:nth-child(1) { padding: 0 10px; text-align: left ; width: auto;} td:nth-child(2) {text-align: left ; width: 100%}\n",
       "    .wandb-row { display: flex; flex-direction: row; flex-wrap: wrap; justify-content: flex-start; width: 100% }\n",
       "    .wandb-col { display: flex; flex-direction: column; flex-basis: 100%; flex: 1; padding: 10px; }\n",
       "    </style>\n",
       "<div class=\"wandb-row\"><div class=\"wandb-col\"><h3>Run history:</h3><br/><table class=\"wandb\"><tr><td>Average time per sample</td><td>▁</td></tr><tr><td>Tokens per second</td><td>▁</td></tr><tr><td>Total samples</td><td>▁</td></tr><tr><td>Total time</td><td>▁</td></tr><tr><td>Total tokens</td><td>▁</td></tr><tr><td>WER</td><td>▁</td></tr></table><br/></div><div class=\"wandb-col\"><h3>Run summary:</h3><br/><table class=\"wandb\"><tr><td>Average time per sample</td><td>5.77252</td></tr><tr><td>Tokens per second</td><td>14.08974</td></tr><tr><td>Total samples</td><td>210</td></tr><tr><td>Total time</td><td>17.31756</td></tr><tr><td>Total tokens</td><td>244</td></tr><tr><td>WER</td><td>0.34021</td></tr></table><br/></div></div>"
      ],
      "text/plain": [
       "<IPython.core.display.HTML object>"
      ]
     },
     "metadata": {},
     "output_type": "display_data"
    },
    {
     "data": {
      "text/html": [
       " View run <strong style=\"color:#cdcd00\">Local asr-wav2vec2-commonvoice-en_voxpopuli_other_median</strong> at: <a href='https://wandb.ai/micheleyin/ASR%20WER%20Test%20Local%20asr-wav2vec2-commonvoice-en/runs/s0qzyc16' target=\"_blank\">https://wandb.ai/micheleyin/ASR%20WER%20Test%20Local%20asr-wav2vec2-commonvoice-en/runs/s0qzyc16</a><br/>Synced 5 W&B file(s), 0 media file(s), 0 artifact file(s) and 0 other file(s)"
      ],
      "text/plain": [
       "<IPython.core.display.HTML object>"
      ]
     },
     "metadata": {},
     "output_type": "display_data"
    },
    {
     "data": {
      "text/html": [
       "Find logs at: <code>./wandb/run-20230223_131322-s0qzyc16/logs</code>"
      ],
      "text/plain": [
       "<IPython.core.display.HTML object>"
      ]
     },
     "metadata": {},
     "output_type": "display_data"
    },
    {
     "data": {
      "application/vnd.jupyter.widget-view+json": {
       "model_id": "64193f346b304ac58b13568842c03323",
       "version_major": 2,
       "version_minor": 0
      },
      "text/plain": [
       "VBox(children=(Label(value='Waiting for wandb.init()...\\r'), FloatProgress(value=0.016727923616660215, max=1.0…"
      ]
     },
     "metadata": {},
     "output_type": "display_data"
    },
    {
     "data": {
      "text/html": [
       "Tracking run with wandb version 0.13.10"
      ],
      "text/plain": [
       "<IPython.core.display.HTML object>"
      ]
     },
     "metadata": {},
     "output_type": "display_data"
    },
    {
     "data": {
      "text/html": [
       "Run data is saved locally in <code>/Users/micheleyin/Documents/AI_DBMovie/asr/wandb/run-20230223_131355-p935n58q</code>"
      ],
      "text/plain": [
       "<IPython.core.display.HTML object>"
      ]
     },
     "metadata": {},
     "output_type": "display_data"
    },
    {
     "data": {
      "text/html": [
       "Syncing run <strong><a href='https://wandb.ai/micheleyin/ASR%20WER%20Test%20Local%20asr-wav2vec2-commonvoice-en/runs/p935n58q' target=\"_blank\">Local asr-wav2vec2-commonvoice-en_voxpopuli_other_min</a></strong> to <a href='https://wandb.ai/micheleyin/ASR%20WER%20Test%20Local%20asr-wav2vec2-commonvoice-en' target=\"_blank\">Weights & Biases</a> (<a href='https://wandb.me/run' target=\"_blank\">docs</a>)<br/>"
      ],
      "text/plain": [
       "<IPython.core.display.HTML object>"
      ]
     },
     "metadata": {},
     "output_type": "display_data"
    },
    {
     "data": {
      "text/html": [
       " View project at <a href='https://wandb.ai/micheleyin/ASR%20WER%20Test%20Local%20asr-wav2vec2-commonvoice-en' target=\"_blank\">https://wandb.ai/micheleyin/ASR%20WER%20Test%20Local%20asr-wav2vec2-commonvoice-en</a>"
      ],
      "text/plain": [
       "<IPython.core.display.HTML object>"
      ]
     },
     "metadata": {},
     "output_type": "display_data"
    },
    {
     "data": {
      "text/html": [
       " View run at <a href='https://wandb.ai/micheleyin/ASR%20WER%20Test%20Local%20asr-wav2vec2-commonvoice-en/runs/p935n58q' target=\"_blank\">https://wandb.ai/micheleyin/ASR%20WER%20Test%20Local%20asr-wav2vec2-commonvoice-en/runs/p935n58q</a>"
      ],
      "text/plain": [
       "<IPython.core.display.HTML object>"
      ]
     },
     "metadata": {},
     "output_type": "display_data"
    },
    {
     "data": {
      "text/html": [
       "Waiting for W&B process to finish... <strong style=\"color:green\">(success).</strong>"
      ],
      "text/plain": [
       "<IPython.core.display.HTML object>"
      ]
     },
     "metadata": {},
     "output_type": "display_data"
    },
    {
     "data": {
      "application/vnd.jupyter.widget-view+json": {
       "model_id": "4abdbd5e79cc45e8b70e3d1fbc6b1221",
       "version_major": 2,
       "version_minor": 0
      },
      "text/plain": [
       "VBox(children=(Label(value='0.001 MB of 0.014 MB uploaded (0.000 MB deduped)\\r'), FloatProgress(value=0.069923…"
      ]
     },
     "metadata": {},
     "output_type": "display_data"
    },
    {
     "data": {
      "text/html": [
       "<style>\n",
       "    table.wandb td:nth-child(1) { padding: 0 10px; text-align: left ; width: auto;} td:nth-child(2) {text-align: left ; width: 100%}\n",
       "    .wandb-row { display: flex; flex-direction: row; flex-wrap: wrap; justify-content: flex-start; width: 100% }\n",
       "    .wandb-col { display: flex; flex-direction: column; flex-basis: 100%; flex: 1; padding: 10px; }\n",
       "    </style>\n",
       "<div class=\"wandb-row\"><div class=\"wandb-col\"><h3>Run history:</h3><br/><table class=\"wandb\"><tr><td>Average time per sample</td><td>▁</td></tr><tr><td>Tokens per second</td><td>▁</td></tr><tr><td>Total samples</td><td>▁</td></tr><tr><td>Total time</td><td>▁</td></tr><tr><td>Total tokens</td><td>▁</td></tr><tr><td>WER</td><td>▁</td></tr></table><br/></div><div class=\"wandb-col\"><h3>Run summary:</h3><br/><table class=\"wandb\"><tr><td>Average time per sample</td><td>0.90472</td></tr><tr><td>Tokens per second</td><td>16.21134</td></tr><tr><td>Total samples</td><td>210</td></tr><tr><td>Total time</td><td>2.71415</td></tr><tr><td>Total tokens</td><td>44</td></tr><tr><td>WER</td><td>0.18605</td></tr></table><br/></div></div>"
      ],
      "text/plain": [
       "<IPython.core.display.HTML object>"
      ]
     },
     "metadata": {},
     "output_type": "display_data"
    },
    {
     "data": {
      "text/html": [
       " View run <strong style=\"color:#cdcd00\">Local asr-wav2vec2-commonvoice-en_voxpopuli_other_min</strong> at: <a href='https://wandb.ai/micheleyin/ASR%20WER%20Test%20Local%20asr-wav2vec2-commonvoice-en/runs/p935n58q' target=\"_blank\">https://wandb.ai/micheleyin/ASR%20WER%20Test%20Local%20asr-wav2vec2-commonvoice-en/runs/p935n58q</a><br/>Synced 5 W&B file(s), 0 media file(s), 0 artifact file(s) and 0 other file(s)"
      ],
      "text/plain": [
       "<IPython.core.display.HTML object>"
      ]
     },
     "metadata": {},
     "output_type": "display_data"
    },
    {
     "data": {
      "text/html": [
       "Find logs at: <code>./wandb/run-20230223_131355-p935n58q/logs</code>"
      ],
      "text/plain": [
       "<IPython.core.display.HTML object>"
      ]
     },
     "metadata": {},
     "output_type": "display_data"
    },
    {
     "data": {
      "application/vnd.jupyter.widget-view+json": {
       "model_id": "08263f2cc3084a26a7dadd0ee34cd420",
       "version_major": 2,
       "version_minor": 0
      },
      "text/plain": [
       "VBox(children=(Label(value='Waiting for wandb.init()...\\r'), FloatProgress(value=0.016751979866724772, max=1.0…"
      ]
     },
     "metadata": {},
     "output_type": "display_data"
    },
    {
     "data": {
      "text/html": [
       "Tracking run with wandb version 0.13.10"
      ],
      "text/plain": [
       "<IPython.core.display.HTML object>"
      ]
     },
     "metadata": {},
     "output_type": "display_data"
    },
    {
     "data": {
      "text/html": [
       "Run data is saved locally in <code>/Users/micheleyin/Documents/AI_DBMovie/asr/wandb/run-20230223_131407-3alko2p7</code>"
      ],
      "text/plain": [
       "<IPython.core.display.HTML object>"
      ]
     },
     "metadata": {},
     "output_type": "display_data"
    },
    {
     "data": {
      "text/html": [
       "Syncing run <strong><a href='https://wandb.ai/micheleyin/ASR%20WER%20Test%20Local%20asr-wav2vec2-commonvoice-en/runs/3alko2p7' target=\"_blank\">Local asr-wav2vec2-commonvoice-en_voxpopuli_other_max</a></strong> to <a href='https://wandb.ai/micheleyin/ASR%20WER%20Test%20Local%20asr-wav2vec2-commonvoice-en' target=\"_blank\">Weights & Biases</a> (<a href='https://wandb.me/run' target=\"_blank\">docs</a>)<br/>"
      ],
      "text/plain": [
       "<IPython.core.display.HTML object>"
      ]
     },
     "metadata": {},
     "output_type": "display_data"
    },
    {
     "data": {
      "text/html": [
       " View project at <a href='https://wandb.ai/micheleyin/ASR%20WER%20Test%20Local%20asr-wav2vec2-commonvoice-en' target=\"_blank\">https://wandb.ai/micheleyin/ASR%20WER%20Test%20Local%20asr-wav2vec2-commonvoice-en</a>"
      ],
      "text/plain": [
       "<IPython.core.display.HTML object>"
      ]
     },
     "metadata": {},
     "output_type": "display_data"
    },
    {
     "data": {
      "text/html": [
       " View run at <a href='https://wandb.ai/micheleyin/ASR%20WER%20Test%20Local%20asr-wav2vec2-commonvoice-en/runs/3alko2p7' target=\"_blank\">https://wandb.ai/micheleyin/ASR%20WER%20Test%20Local%20asr-wav2vec2-commonvoice-en/runs/3alko2p7</a>"
      ],
      "text/plain": [
       "<IPython.core.display.HTML object>"
      ]
     },
     "metadata": {},
     "output_type": "display_data"
    },
    {
     "data": {
      "text/html": [
       "Waiting for W&B process to finish... <strong style=\"color:green\">(success).</strong>"
      ],
      "text/plain": [
       "<IPython.core.display.HTML object>"
      ]
     },
     "metadata": {},
     "output_type": "display_data"
    },
    {
     "data": {
      "application/vnd.jupyter.widget-view+json": {
       "model_id": "dc9c99dad5d74c56b9c9237e9f93a222",
       "version_major": 2,
       "version_minor": 0
      },
      "text/plain": [
       "VBox(children=(Label(value='0.005 MB of 0.014 MB uploaded (0.000 MB deduped)\\r'), FloatProgress(value=0.346817…"
      ]
     },
     "metadata": {},
     "output_type": "display_data"
    },
    {
     "data": {
      "text/html": [
       "<style>\n",
       "    table.wandb td:nth-child(1) { padding: 0 10px; text-align: left ; width: auto;} td:nth-child(2) {text-align: left ; width: 100%}\n",
       "    .wandb-row { display: flex; flex-direction: row; flex-wrap: wrap; justify-content: flex-start; width: 100% }\n",
       "    .wandb-col { display: flex; flex-direction: column; flex-basis: 100%; flex: 1; padding: 10px; }\n",
       "    </style>\n",
       "<div class=\"wandb-row\"><div class=\"wandb-col\"><h3>Run history:</h3><br/><table class=\"wandb\"><tr><td>Average time per sample</td><td>▁</td></tr><tr><td>Tokens per second</td><td>▁</td></tr><tr><td>Total samples</td><td>▁</td></tr><tr><td>Total time</td><td>▁</td></tr><tr><td>Total tokens</td><td>▁</td></tr><tr><td>WER</td><td>▁</td></tr></table><br/></div><div class=\"wandb-col\"><h3>Run summary:</h3><br/><table class=\"wandb\"><tr><td>Average time per sample</td><td>22.45279</td></tr><tr><td>Tokens per second</td><td>10.74848</td></tr><tr><td>Total samples</td><td>210</td></tr><tr><td>Total time</td><td>67.35838</td></tr><tr><td>Total tokens</td><td>724</td></tr><tr><td>WER</td><td>0.39893</td></tr></table><br/></div></div>"
      ],
      "text/plain": [
       "<IPython.core.display.HTML object>"
      ]
     },
     "metadata": {},
     "output_type": "display_data"
    },
    {
     "data": {
      "text/html": [
       " View run <strong style=\"color:#cdcd00\">Local asr-wav2vec2-commonvoice-en_voxpopuli_other_max</strong> at: <a href='https://wandb.ai/micheleyin/ASR%20WER%20Test%20Local%20asr-wav2vec2-commonvoice-en/runs/3alko2p7' target=\"_blank\">https://wandb.ai/micheleyin/ASR%20WER%20Test%20Local%20asr-wav2vec2-commonvoice-en/runs/3alko2p7</a><br/>Synced 5 W&B file(s), 0 media file(s), 0 artifact file(s) and 0 other file(s)"
      ],
      "text/plain": [
       "<IPython.core.display.HTML object>"
      ]
     },
     "metadata": {},
     "output_type": "display_data"
    },
    {
     "data": {
      "text/html": [
       "Find logs at: <code>./wandb/run-20230223_131407-3alko2p7/logs</code>"
      ],
      "text/plain": [
       "<IPython.core.display.HTML object>"
      ]
     },
     "metadata": {},
     "output_type": "display_data"
    }
   ],
   "source": [
    "wer = WordErrorRate()\n",
    "for name in datasets_names:\n",
    "    for split in dataset_splits:\n",
    "        for k in new_dataset[name][split].keys():\n",
    "            transcripts = []\n",
    "            ground_truths = []\n",
    "            tot_time = 0\n",
    "            token_counts = 0\n",
    "            wandb.init(\n",
    "                # set the wandb project where this run will be logged\n",
    "                project=\"ASR WER Test Local asr-wav2vec2-commonvoice-en\",\n",
    "                name = 'Local asr-wav2vec2-commonvoice-en'+\"_\"+name+\"_\"+split+\"_\"+k,\n",
    "                # track hyperparameters and run metadata\n",
    "                config={\n",
    "                \"architecture\": 'Local asr-wav2vec2-commonvoice-en',\n",
    "                \"dataset\": name,\n",
    "                \"split\": split,\n",
    "                'partition' : k\n",
    "                }\n",
    "            )\n",
    "            for sample in new_dataset[name][split][k]:\n",
    "                t = torch.tensor(sample['audio']['array'])\n",
    "                t = t.reshape(1,-1)\n",
    "                lens = torch.ones((1))\n",
    "                timer = time.time()\n",
    "                trascript,_= asr_model.transcribe_batch(t,lens)\n",
    "                timer = time.time() - timer\n",
    "                tot_time += timer\n",
    "                transcripts.append(trascript[0].lower())\n",
    "                ground_truths.append(sample['norm_transcript'])\n",
    "                token_counts += len(sample['norm_transcript'].split(' '))\n",
    "            average_time = tot_time/len(new_dataset[name][split])\n",
    "            wer_score = wer(ground_truths, transcripts)\n",
    "            wandb.log({\"WER\": wer_score})\n",
    "            wandb.log({\"Tokens per second\": token_counts/tot_time})\n",
    "            wandb.log({\"Average time per sample\": average_time})\n",
    "            wandb.log({\"Total time\": tot_time})\n",
    "            wandb.log({\"Total samples\": len(dataset)})\n",
    "            wandb.log({\"Total tokens\": token_counts})\n",
    "            wandb.finish()\n"
   ]
  }
 ],
 "metadata": {
  "kernelspec": {
   "display_name": "math",
   "language": "python",
   "name": "python3"
  },
  "language_info": {
   "codemirror_mode": {
    "name": "ipython",
    "version": 3
   },
   "file_extension": ".py",
   "mimetype": "text/x-python",
   "name": "python",
   "nbconvert_exporter": "python",
   "pygments_lexer": "ipython3",
   "version": "3.10.9"
  },
  "orig_nbformat": 4,
  "vscode": {
   "interpreter": {
    "hash": "fe02d997bdc5a33259ac054c1d7e1fa925296e3aeeca09199fc4190fe22d9432"
   }
  }
 },
 "nbformat": 4,
 "nbformat_minor": 2
}
